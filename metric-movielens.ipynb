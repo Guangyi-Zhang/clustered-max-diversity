{
 "cells": [
  {
   "cell_type": "code",
   "execution_count": 1,
   "metadata": {},
   "outputs": [],
   "source": [
    "%load_ext autoreload\n",
    "%autoreload 2\n",
    "\n",
    "import numpy as np\n",
    "import matplotlib.pyplot as plt\n",
    "import matplotlib.cm as cm\n",
    "from os import path\n",
    "import pickle\n",
    "import itertools\n",
    "from functools import partial\n",
    "import pprint\n",
    "pp = pprint.PrettyPrinter(indent=4)\n",
    "\n",
    "import intra\n",
    "import util\n",
    "from util import md, highlight_max_min\n",
    "from experiment import new_exp, get_loader, run_once, run_permutation"
   ]
  },
  {
   "cell_type": "code",
   "execution_count": 2,
   "metadata": {},
   "outputs": [],
   "source": [
    "loader = get_loader()"
   ]
  },
  {
   "cell_type": "code",
   "execution_count": 3,
   "metadata": {},
   "outputs": [],
   "source": [
    "ver = 7"
   ]
  },
  {
   "cell_type": "markdown",
   "metadata": {},
   "source": [
    "# Movielens"
   ]
  },
  {
   "cell_type": "code",
   "execution_count": 4,
   "metadata": {
    "scrolled": true
   },
   "outputs": [
    {
     "name": "stdout",
     "output_type": "stream",
     "text": [
      "{   'dataset': 'movielens-v7',\n",
      "    'lambd': 1,\n",
      "    'nsel': 10,\n",
      "    'which': 'movielens',\n",
      "    'whichalgo': 'GE|GV|MC'}\n"
     ]
    },
    {
     "name": "stderr",
     "output_type": "stream",
     "text": [
      "/u/67/zhangg1/unix/.local/lib/python3.7/site-packages/sacred/experiment.py:566: UserWarning: Subclassing `CommandLineOption` is deprecated. Please use the `sacred.cli_option` decorator and pass the function to the Experiment constructor.\n",
      "  \"Subclassing `CommandLineOption` is deprecated. Please \"\n",
      "/u/67/zhangg1/unix/.local/lib/python3.7/site-packages/sacred/experiment.py:566: UserWarning: Subclassing `CommandLineOption` is deprecated. Please use the `sacred.cli_option` decorator and pass the function to the Experiment constructor.\n",
      "  \"Subclassing `CommandLineOption` is deprecated. Please \"\n",
      "INFO - jupyter_ex - Running command 'my_main'\n",
      "INFO - jupyter_ex - Started run with ID \"448\"\n"
     ]
    },
    {
     "name": "stdout",
     "output_type": "stream",
     "text": [
      "nvec, ncls: 925 20\n",
      "Warning: less selections than specified 190/200\n",
      "gv: 10017.05\n",
      "Warning: less selections than specified 190/200\n",
      "ge95: 10145.64\n"
     ]
    },
    {
     "name": "stderr",
     "output_type": "stream",
     "text": [
      "INFO - jupyter_ex - Completed after 0:00:20\n"
     ]
    },
    {
     "name": "stdout",
     "output_type": "stream",
     "text": [
      "Warning: less selections than specified 171/200\n",
      "mc: 9736.03\n",
      "{   'dataset': 'movielens-v7',\n",
      "    'lambd': 5,\n",
      "    'nsel': 10,\n",
      "    'which': 'movielens',\n",
      "    'whichalgo': 'GE|GV|MC'}\n"
     ]
    },
    {
     "name": "stderr",
     "output_type": "stream",
     "text": [
      "/u/67/zhangg1/unix/.local/lib/python3.7/site-packages/sacred/experiment.py:566: UserWarning: Subclassing `CommandLineOption` is deprecated. Please use the `sacred.cli_option` decorator and pass the function to the Experiment constructor.\n",
      "  \"Subclassing `CommandLineOption` is deprecated. Please \"\n",
      "/u/67/zhangg1/unix/.local/lib/python3.7/site-packages/sacred/experiment.py:566: UserWarning: Subclassing `CommandLineOption` is deprecated. Please use the `sacred.cli_option` decorator and pass the function to the Experiment constructor.\n",
      "  \"Subclassing `CommandLineOption` is deprecated. Please \"\n",
      "INFO - jupyter_ex - Running command 'my_main'\n",
      "INFO - jupyter_ex - Started run with ID \"451\"\n"
     ]
    },
    {
     "name": "stdout",
     "output_type": "stream",
     "text": [
      "nvec, ncls: 925 20\n",
      "Warning: less selections than specified 190/200\n",
      "gv: 16073.75\n",
      "Warning: less selections than specified 190/200\n",
      "ge95: 16399.05\n"
     ]
    },
    {
     "name": "stderr",
     "output_type": "stream",
     "text": [
      "INFO - jupyter_ex - Completed after 0:00:23\n"
     ]
    },
    {
     "name": "stdout",
     "output_type": "stream",
     "text": [
      "Warning: less selections than specified 171/200\n",
      "mc: 14540.16\n",
      "{   'dataset': 'movielens-v7',\n",
      "    'lambd': 10,\n",
      "    'nsel': 10,\n",
      "    'which': 'movielens',\n",
      "    'whichalgo': 'GE|GV|MC'}\n"
     ]
    },
    {
     "name": "stderr",
     "output_type": "stream",
     "text": [
      "/u/67/zhangg1/unix/.local/lib/python3.7/site-packages/sacred/experiment.py:566: UserWarning: Subclassing `CommandLineOption` is deprecated. Please use the `sacred.cli_option` decorator and pass the function to the Experiment constructor.\n",
      "  \"Subclassing `CommandLineOption` is deprecated. Please \"\n",
      "/u/67/zhangg1/unix/.local/lib/python3.7/site-packages/sacred/experiment.py:566: UserWarning: Subclassing `CommandLineOption` is deprecated. Please use the `sacred.cli_option` decorator and pass the function to the Experiment constructor.\n",
      "  \"Subclassing `CommandLineOption` is deprecated. Please \"\n",
      "INFO - jupyter_ex - Running command 'my_main'\n",
      "INFO - jupyter_ex - Started run with ID \"453\"\n"
     ]
    },
    {
     "name": "stdout",
     "output_type": "stream",
     "text": [
      "nvec, ncls: 925 20\n",
      "Warning: less selections than specified 190/200\n",
      "gv: 23799.07\n",
      "Warning: less selections than specified 190/200\n",
      "ge95: 24340.60\n"
     ]
    },
    {
     "name": "stderr",
     "output_type": "stream",
     "text": [
      "INFO - jupyter_ex - Completed after 0:00:24\n"
     ]
    },
    {
     "name": "stdout",
     "output_type": "stream",
     "text": [
      "Warning: less selections than specified 171/200\n",
      "mc: 20545.32\n",
      "{   'dataset': 'movielens-v7',\n",
      "    'lambd': 1,\n",
      "    'nsel': 20,\n",
      "    'which': 'movielens',\n",
      "    'whichalgo': 'GE|GV|MC'}\n"
     ]
    },
    {
     "name": "stderr",
     "output_type": "stream",
     "text": [
      "/u/67/zhangg1/unix/.local/lib/python3.7/site-packages/sacred/experiment.py:566: UserWarning: Subclassing `CommandLineOption` is deprecated. Please use the `sacred.cli_option` decorator and pass the function to the Experiment constructor.\n",
      "  \"Subclassing `CommandLineOption` is deprecated. Please \"\n",
      "/u/67/zhangg1/unix/.local/lib/python3.7/site-packages/sacred/experiment.py:566: UserWarning: Subclassing `CommandLineOption` is deprecated. Please use the `sacred.cli_option` decorator and pass the function to the Experiment constructor.\n",
      "  \"Subclassing `CommandLineOption` is deprecated. Please \"\n",
      "INFO - jupyter_ex - Running command 'my_main'\n",
      "INFO - jupyter_ex - Started run with ID \"454\"\n"
     ]
    },
    {
     "name": "stdout",
     "output_type": "stream",
     "text": [
      "nvec, ncls: 925 20\n",
      "Warning: less selections than specified 377/400\n",
      "gv: 15079.33\n",
      "Warning: less selections than specified 380/400\n",
      "ge95: 15429.97\n"
     ]
    },
    {
     "name": "stderr",
     "output_type": "stream",
     "text": [
      "INFO - jupyter_ex - Completed after 0:00:40\n"
     ]
    },
    {
     "name": "stdout",
     "output_type": "stream",
     "text": [
      "Warning: less selections than specified 361/400\n",
      "mc: 14566.02\n",
      "{   'dataset': 'movielens-v7',\n",
      "    'lambd': 5,\n",
      "    'nsel': 20,\n",
      "    'which': 'movielens',\n",
      "    'whichalgo': 'GE|GV|MC'}\n"
     ]
    },
    {
     "name": "stderr",
     "output_type": "stream",
     "text": [
      "/u/67/zhangg1/unix/.local/lib/python3.7/site-packages/sacred/experiment.py:566: UserWarning: Subclassing `CommandLineOption` is deprecated. Please use the `sacred.cli_option` decorator and pass the function to the Experiment constructor.\n",
      "  \"Subclassing `CommandLineOption` is deprecated. Please \"\n",
      "/u/67/zhangg1/unix/.local/lib/python3.7/site-packages/sacred/experiment.py:566: UserWarning: Subclassing `CommandLineOption` is deprecated. Please use the `sacred.cli_option` decorator and pass the function to the Experiment constructor.\n",
      "  \"Subclassing `CommandLineOption` is deprecated. Please \"\n",
      "INFO - jupyter_ex - Running command 'my_main'\n",
      "INFO - jupyter_ex - Started run with ID \"456\"\n"
     ]
    },
    {
     "name": "stdout",
     "output_type": "stream",
     "text": [
      "nvec, ncls: 925 20\n",
      "Warning: less selections than specified 378/400\n",
      "gv: 40759.44\n",
      "Warning: less selections than specified 380/400\n",
      "ge95: 41906.11\n"
     ]
    },
    {
     "name": "stderr",
     "output_type": "stream",
     "text": [
      "INFO - jupyter_ex - Completed after 0:00:38\n"
     ]
    },
    {
     "name": "stdout",
     "output_type": "stream",
     "text": [
      "Warning: less selections than specified 361/400\n",
      "mc: 37374.10\n",
      "{   'dataset': 'movielens-v7',\n",
      "    'lambd': 10,\n",
      "    'nsel': 20,\n",
      "    'which': 'movielens',\n",
      "    'whichalgo': 'GE|GV|MC'}\n"
     ]
    },
    {
     "name": "stderr",
     "output_type": "stream",
     "text": [
      "/u/67/zhangg1/unix/.local/lib/python3.7/site-packages/sacred/experiment.py:566: UserWarning: Subclassing `CommandLineOption` is deprecated. Please use the `sacred.cli_option` decorator and pass the function to the Experiment constructor.\n",
      "  \"Subclassing `CommandLineOption` is deprecated. Please \"\n",
      "/u/67/zhangg1/unix/.local/lib/python3.7/site-packages/sacred/experiment.py:566: UserWarning: Subclassing `CommandLineOption` is deprecated. Please use the `sacred.cli_option` decorator and pass the function to the Experiment constructor.\n",
      "  \"Subclassing `CommandLineOption` is deprecated. Please \"\n",
      "INFO - jupyter_ex - Running command 'my_main'\n",
      "INFO - jupyter_ex - Started run with ID \"458\"\n"
     ]
    },
    {
     "name": "stdout",
     "output_type": "stream",
     "text": [
      "nvec, ncls: 925 20\n",
      "Warning: less selections than specified 377/400\n",
      "gv: 72992.49\n",
      "Warning: less selections than specified 380/400\n",
      "ge95: 75123.33\n"
     ]
    },
    {
     "name": "stderr",
     "output_type": "stream",
     "text": [
      "INFO - jupyter_ex - Completed after 0:00:42\n"
     ]
    },
    {
     "name": "stdout",
     "output_type": "stream",
     "text": [
      "Warning: less selections than specified 361/400\n",
      "mc: 65884.19\n",
      "{   'dataset': 'movielens-v7',\n",
      "    'lambd': 1,\n",
      "    'nsel': 30,\n",
      "    'which': 'movielens',\n",
      "    'whichalgo': 'GE|GV|MC'}\n"
     ]
    },
    {
     "name": "stderr",
     "output_type": "stream",
     "text": [
      "/u/67/zhangg1/unix/.local/lib/python3.7/site-packages/sacred/experiment.py:566: UserWarning: Subclassing `CommandLineOption` is deprecated. Please use the `sacred.cli_option` decorator and pass the function to the Experiment constructor.\n",
      "  \"Subclassing `CommandLineOption` is deprecated. Please \"\n",
      "/u/67/zhangg1/unix/.local/lib/python3.7/site-packages/sacred/experiment.py:566: UserWarning: Subclassing `CommandLineOption` is deprecated. Please use the `sacred.cli_option` decorator and pass the function to the Experiment constructor.\n",
      "  \"Subclassing `CommandLineOption` is deprecated. Please \"\n",
      "INFO - jupyter_ex - Running command 'my_main'\n",
      "INFO - jupyter_ex - Started run with ID \"460\"\n"
     ]
    },
    {
     "name": "stdout",
     "output_type": "stream",
     "text": [
      "nvec, ncls: 925 20\n",
      "Warning: less selections than specified 516/600\n",
      "gv: 21660.38\n",
      "Warning: less selections than specified 570/600\n",
      "ge95: 23921.10\n"
     ]
    },
    {
     "name": "stderr",
     "output_type": "stream",
     "text": [
      "INFO - jupyter_ex - Completed after 0:00:59\n"
     ]
    },
    {
     "name": "stdout",
     "output_type": "stream",
     "text": [
      "Warning: less selections than specified 509/600\n",
      "mc: 20893.94\n",
      "{   'dataset': 'movielens-v7',\n",
      "    'lambd': 5,\n",
      "    'nsel': 30,\n",
      "    'which': 'movielens',\n",
      "    'whichalgo': 'GE|GV|MC'}\n"
     ]
    },
    {
     "name": "stderr",
     "output_type": "stream",
     "text": [
      "/u/67/zhangg1/unix/.local/lib/python3.7/site-packages/sacred/experiment.py:566: UserWarning: Subclassing `CommandLineOption` is deprecated. Please use the `sacred.cli_option` decorator and pass the function to the Experiment constructor.\n",
      "  \"Subclassing `CommandLineOption` is deprecated. Please \"\n",
      "/u/67/zhangg1/unix/.local/lib/python3.7/site-packages/sacred/experiment.py:566: UserWarning: Subclassing `CommandLineOption` is deprecated. Please use the `sacred.cli_option` decorator and pass the function to the Experiment constructor.\n",
      "  \"Subclassing `CommandLineOption` is deprecated. Please \"\n",
      "INFO - jupyter_ex - Running command 'my_main'\n",
      "INFO - jupyter_ex - Started run with ID \"461\"\n"
     ]
    },
    {
     "name": "stdout",
     "output_type": "stream",
     "text": [
      "nvec, ncls: 925 20\n",
      "Warning: less selections than specified 531/600\n",
      "gv: 75633.43\n",
      "Warning: less selections than specified 570/600\n",
      "ge95: 83949.03\n"
     ]
    },
    {
     "name": "stderr",
     "output_type": "stream",
     "text": [
      "INFO - jupyter_ex - Completed after 0:01:00\n"
     ]
    },
    {
     "name": "stdout",
     "output_type": "stream",
     "text": [
      "Warning: less selections than specified 509/600\n",
      "mc: 68785.71\n",
      "{   'dataset': 'movielens-v7',\n",
      "    'lambd': 10,\n",
      "    'nsel': 30,\n",
      "    'which': 'movielens',\n",
      "    'whichalgo': 'GE|GV|MC'}\n"
     ]
    },
    {
     "name": "stderr",
     "output_type": "stream",
     "text": [
      "/u/67/zhangg1/unix/.local/lib/python3.7/site-packages/sacred/experiment.py:566: UserWarning: Subclassing `CommandLineOption` is deprecated. Please use the `sacred.cli_option` decorator and pass the function to the Experiment constructor.\n",
      "  \"Subclassing `CommandLineOption` is deprecated. Please \"\n",
      "/u/67/zhangg1/unix/.local/lib/python3.7/site-packages/sacred/experiment.py:566: UserWarning: Subclassing `CommandLineOption` is deprecated. Please use the `sacred.cli_option` decorator and pass the function to the Experiment constructor.\n",
      "  \"Subclassing `CommandLineOption` is deprecated. Please \"\n",
      "INFO - jupyter_ex - Running command 'my_main'\n",
      "INFO - jupyter_ex - Started run with ID \"462\"\n"
     ]
    },
    {
     "name": "stdout",
     "output_type": "stream",
     "text": [
      "nvec, ncls: 925 20\n",
      "Warning: less selections than specified 537/600\n",
      "gv: 145176.64\n",
      "Warning: less selections than specified 566/600\n",
      "ge95: 157116.49\n"
     ]
    },
    {
     "name": "stderr",
     "output_type": "stream",
     "text": [
      "INFO - jupyter_ex - Completed after 0:01:07\n"
     ]
    },
    {
     "name": "stdout",
     "output_type": "stream",
     "text": [
      "Warning: less selections than specified 509/600\n",
      "mc: 128650.43\n"
     ]
    }
   ],
   "source": [
    "ex = new_exp()\n",
    "    \n",
    "# r = ex.run()\n",
    "for nsel,lambd in itertools.product([10,20,30],\n",
    "                                    [1,5,10]\n",
    "                                        ):\n",
    "    conf = {'which': 'movielens', \n",
    "        'whichalgo': 'GE|GV|MC',\n",
    "        'dataset': 'movielens-v{}'.format(ver), \n",
    "        'nsel': nsel, \n",
    "        'lambd': lambd,\n",
    "        }\n",
    "    pp.pprint(conf)\n",
    "    r = ex.run(config_updates=conf)"
   ]
  },
  {
   "cell_type": "code",
   "execution_count": 5,
   "metadata": {},
   "outputs": [],
   "source": [
    "# loader.find_latest().to_dict()\n",
    "\n",
    "query = {\"$and\": [\n",
    "    {\"status\": 'COMPLETED'},\n",
    "    {\"config.dataset\": 'movielens-v{}'.format(ver)},\n",
    "    {\"config.lambd\": {'$in': [1,5,10]}},\n",
    "    {\"config.nsel\": {'$in': [10,20]}},\n",
    "        ]}\n",
    "qs = loader.find(query)"
   ]
  },
  {
   "cell_type": "code",
   "execution_count": 6,
   "metadata": {},
   "outputs": [
    {
     "data": {
      "text/html": [
       "<style  type=\"text/css\" >\n",
       "    #T_caeba0fe_e1cd_11e9_a28d_459390682481row0_col2 {\n",
       "            color:  green;\n",
       "        }    #T_caeba0fe_e1cd_11e9_a28d_459390682481row0_col13 {\n",
       "            color:  red;\n",
       "        }    #T_caeba0fe_e1cd_11e9_a28d_459390682481row1_col2 {\n",
       "            color:  green;\n",
       "        }    #T_caeba0fe_e1cd_11e9_a28d_459390682481row1_col13 {\n",
       "            color:  red;\n",
       "        }    #T_caeba0fe_e1cd_11e9_a28d_459390682481row2_col2 {\n",
       "            color:  green;\n",
       "        }    #T_caeba0fe_e1cd_11e9_a28d_459390682481row2_col13 {\n",
       "            color:  red;\n",
       "        }    #T_caeba0fe_e1cd_11e9_a28d_459390682481row3_col2 {\n",
       "            color:  green;\n",
       "        }    #T_caeba0fe_e1cd_11e9_a28d_459390682481row3_col13 {\n",
       "            color:  red;\n",
       "        }    #T_caeba0fe_e1cd_11e9_a28d_459390682481row4_col2 {\n",
       "            color:  green;\n",
       "        }    #T_caeba0fe_e1cd_11e9_a28d_459390682481row4_col13 {\n",
       "            color:  red;\n",
       "        }    #T_caeba0fe_e1cd_11e9_a28d_459390682481row5_col2 {\n",
       "            color:  green;\n",
       "        }    #T_caeba0fe_e1cd_11e9_a28d_459390682481row5_col13 {\n",
       "            color:  red;\n",
       "        }</style><table id=\"T_caeba0fe_e1cd_11e9_a28d_459390682481\" ><thead>    <tr>        <th class=\"blank level0\" ></th>        <th class=\"col_heading level0 col0\" >nsel</th>        <th class=\"col_heading level0 col1\" >lambd</th>        <th class=\"col_heading level0 col2\" >Zge95_mean</th>        <th class=\"col_heading level0 col3\" >Zgv_mean</th>        <th class=\"col_heading level0 col4\" >Zmc_mean</th>        <th class=\"col_heading level0 col5\" >ge95_sum</th>        <th class=\"col_heading level0 col6\" >gv_sum</th>        <th class=\"col_heading level0 col7\" >mc_sum</th>        <th class=\"col_heading level0 col8\" >Qge95_mean</th>        <th class=\"col_heading level0 col9\" >Qgv_mean</th>        <th class=\"col_heading level0 col10\" >Qmc_mean</th>        <th class=\"col_heading level0 col11\" >Pge95_mean</th>        <th class=\"col_heading level0 col12\" >Pgv_mean</th>        <th class=\"col_heading level0 col13\" >Pmc_mean</th>    </tr>    <tr>        <th class=\"index_name level0\" >exp_id</th>        <th class=\"blank\" ></th>        <th class=\"blank\" ></th>        <th class=\"blank\" ></th>        <th class=\"blank\" ></th>        <th class=\"blank\" ></th>        <th class=\"blank\" ></th>        <th class=\"blank\" ></th>        <th class=\"blank\" ></th>        <th class=\"blank\" ></th>        <th class=\"blank\" ></th>        <th class=\"blank\" ></th>        <th class=\"blank\" ></th>        <th class=\"blank\" ></th>        <th class=\"blank\" ></th>    </tr></thead><tbody>\n",
       "                <tr>\n",
       "                        <th id=\"T_caeba0fe_e1cd_11e9_a28d_459390682481level0_row0\" class=\"row_heading level0 row0\" >448</th>\n",
       "                        <td id=\"T_caeba0fe_e1cd_11e9_a28d_459390682481row0_col0\" class=\"data row0 col0\" >10</td>\n",
       "                        <td id=\"T_caeba0fe_e1cd_11e9_a28d_459390682481row0_col1\" class=\"data row0 col1\" >1</td>\n",
       "                        <td id=\"T_caeba0fe_e1cd_11e9_a28d_459390682481row0_col2\" class=\"data row0 col2\" >10145.6</td>\n",
       "                        <td id=\"T_caeba0fe_e1cd_11e9_a28d_459390682481row0_col3\" class=\"data row0 col3\" >10017</td>\n",
       "                        <td id=\"T_caeba0fe_e1cd_11e9_a28d_459390682481row0_col4\" class=\"data row0 col4\" >9736.03</td>\n",
       "                        <td id=\"T_caeba0fe_e1cd_11e9_a28d_459390682481row0_col5\" class=\"data row0 col5\" >1546.64</td>\n",
       "                        <td id=\"T_caeba0fe_e1cd_11e9_a28d_459390682481row0_col6\" class=\"data row0 col6\" >1490.05</td>\n",
       "                        <td id=\"T_caeba0fe_e1cd_11e9_a28d_459390682481row0_col7\" class=\"data row0 col7\" >1201.03</td>\n",
       "                        <td id=\"T_caeba0fe_e1cd_11e9_a28d_459390682481row0_col8\" class=\"data row0 col8\" >8599</td>\n",
       "                        <td id=\"T_caeba0fe_e1cd_11e9_a28d_459390682481row0_col9\" class=\"data row0 col9\" >8527</td>\n",
       "                        <td id=\"T_caeba0fe_e1cd_11e9_a28d_459390682481row0_col10\" class=\"data row0 col10\" >8535</td>\n",
       "                        <td id=\"T_caeba0fe_e1cd_11e9_a28d_459390682481row0_col11\" class=\"data row0 col11\" >9.5</td>\n",
       "                        <td id=\"T_caeba0fe_e1cd_11e9_a28d_459390682481row0_col12\" class=\"data row0 col12\" >9.5</td>\n",
       "                        <td id=\"T_caeba0fe_e1cd_11e9_a28d_459390682481row0_col13\" class=\"data row0 col13\" >8.55</td>\n",
       "            </tr>\n",
       "            <tr>\n",
       "                        <th id=\"T_caeba0fe_e1cd_11e9_a28d_459390682481level0_row1\" class=\"row_heading level0 row1\" >451</th>\n",
       "                        <td id=\"T_caeba0fe_e1cd_11e9_a28d_459390682481row1_col0\" class=\"data row1 col0\" >10</td>\n",
       "                        <td id=\"T_caeba0fe_e1cd_11e9_a28d_459390682481row1_col1\" class=\"data row1 col1\" >5</td>\n",
       "                        <td id=\"T_caeba0fe_e1cd_11e9_a28d_459390682481row1_col2\" class=\"data row1 col2\" >16399</td>\n",
       "                        <td id=\"T_caeba0fe_e1cd_11e9_a28d_459390682481row1_col3\" class=\"data row1 col3\" >16073.8</td>\n",
       "                        <td id=\"T_caeba0fe_e1cd_11e9_a28d_459390682481row1_col4\" class=\"data row1 col4\" >14540.2</td>\n",
       "                        <td id=\"T_caeba0fe_e1cd_11e9_a28d_459390682481row1_col5\" class=\"data row1 col5\" >1572.41</td>\n",
       "                        <td id=\"T_caeba0fe_e1cd_11e9_a28d_459390682481row1_col6\" class=\"data row1 col6\" >1510.15</td>\n",
       "                        <td id=\"T_caeba0fe_e1cd_11e9_a28d_459390682481row1_col7\" class=\"data row1 col7\" >1201.03</td>\n",
       "                        <td id=\"T_caeba0fe_e1cd_11e9_a28d_459390682481row1_col8\" class=\"data row1 col8\" >8537</td>\n",
       "                        <td id=\"T_caeba0fe_e1cd_11e9_a28d_459390682481row1_col9\" class=\"data row1 col9\" >8523</td>\n",
       "                        <td id=\"T_caeba0fe_e1cd_11e9_a28d_459390682481row1_col10\" class=\"data row1 col10\" >8535</td>\n",
       "                        <td id=\"T_caeba0fe_e1cd_11e9_a28d_459390682481row1_col11\" class=\"data row1 col11\" >9.5</td>\n",
       "                        <td id=\"T_caeba0fe_e1cd_11e9_a28d_459390682481row1_col12\" class=\"data row1 col12\" >9.5</td>\n",
       "                        <td id=\"T_caeba0fe_e1cd_11e9_a28d_459390682481row1_col13\" class=\"data row1 col13\" >8.55</td>\n",
       "            </tr>\n",
       "            <tr>\n",
       "                        <th id=\"T_caeba0fe_e1cd_11e9_a28d_459390682481level0_row2\" class=\"row_heading level0 row2\" >453</th>\n",
       "                        <td id=\"T_caeba0fe_e1cd_11e9_a28d_459390682481row2_col0\" class=\"data row2 col0\" >10</td>\n",
       "                        <td id=\"T_caeba0fe_e1cd_11e9_a28d_459390682481row2_col1\" class=\"data row2 col1\" >10</td>\n",
       "                        <td id=\"T_caeba0fe_e1cd_11e9_a28d_459390682481row2_col2\" class=\"data row2 col2\" >24340.6</td>\n",
       "                        <td id=\"T_caeba0fe_e1cd_11e9_a28d_459390682481row2_col3\" class=\"data row2 col3\" >23799.1</td>\n",
       "                        <td id=\"T_caeba0fe_e1cd_11e9_a28d_459390682481row2_col4\" class=\"data row2 col4\" >20545.3</td>\n",
       "                        <td id=\"T_caeba0fe_e1cd_11e9_a28d_459390682481row2_col5\" class=\"data row2 col5\" >1584.56</td>\n",
       "                        <td id=\"T_caeba0fe_e1cd_11e9_a28d_459390682481row2_col6\" class=\"data row2 col6\" >1527.31</td>\n",
       "                        <td id=\"T_caeba0fe_e1cd_11e9_a28d_459390682481row2_col7\" class=\"data row2 col7\" >1201.03</td>\n",
       "                        <td id=\"T_caeba0fe_e1cd_11e9_a28d_459390682481row2_col8\" class=\"data row2 col8\" >8495</td>\n",
       "                        <td id=\"T_caeba0fe_e1cd_11e9_a28d_459390682481row2_col9\" class=\"data row2 col9\" >8526</td>\n",
       "                        <td id=\"T_caeba0fe_e1cd_11e9_a28d_459390682481row2_col10\" class=\"data row2 col10\" >8535</td>\n",
       "                        <td id=\"T_caeba0fe_e1cd_11e9_a28d_459390682481row2_col11\" class=\"data row2 col11\" >9.5</td>\n",
       "                        <td id=\"T_caeba0fe_e1cd_11e9_a28d_459390682481row2_col12\" class=\"data row2 col12\" >9.5</td>\n",
       "                        <td id=\"T_caeba0fe_e1cd_11e9_a28d_459390682481row2_col13\" class=\"data row2 col13\" >8.55</td>\n",
       "            </tr>\n",
       "            <tr>\n",
       "                        <th id=\"T_caeba0fe_e1cd_11e9_a28d_459390682481level0_row3\" class=\"row_heading level0 row3\" >454</th>\n",
       "                        <td id=\"T_caeba0fe_e1cd_11e9_a28d_459390682481row3_col0\" class=\"data row3 col0\" >20</td>\n",
       "                        <td id=\"T_caeba0fe_e1cd_11e9_a28d_459390682481row3_col1\" class=\"data row3 col1\" >1</td>\n",
       "                        <td id=\"T_caeba0fe_e1cd_11e9_a28d_459390682481row3_col2\" class=\"data row3 col2\" >15430</td>\n",
       "                        <td id=\"T_caeba0fe_e1cd_11e9_a28d_459390682481row3_col3\" class=\"data row3 col3\" >15079.3</td>\n",
       "                        <td id=\"T_caeba0fe_e1cd_11e9_a28d_459390682481row3_col4\" class=\"data row3 col4\" >14566</td>\n",
       "                        <td id=\"T_caeba0fe_e1cd_11e9_a28d_459390682481row3_col5\" class=\"data row3 col5\" >6565.97</td>\n",
       "                        <td id=\"T_caeba0fe_e1cd_11e9_a28d_459390682481row3_col6\" class=\"data row3 col6\" >6254.33</td>\n",
       "                        <td id=\"T_caeba0fe_e1cd_11e9_a28d_459390682481row3_col7\" class=\"data row3 col7\" >5702.02</td>\n",
       "                        <td id=\"T_caeba0fe_e1cd_11e9_a28d_459390682481row3_col8\" class=\"data row3 col8\" >8864</td>\n",
       "                        <td id=\"T_caeba0fe_e1cd_11e9_a28d_459390682481row3_col9\" class=\"data row3 col9\" >8825</td>\n",
       "                        <td id=\"T_caeba0fe_e1cd_11e9_a28d_459390682481row3_col10\" class=\"data row3 col10\" >8864</td>\n",
       "                        <td id=\"T_caeba0fe_e1cd_11e9_a28d_459390682481row3_col11\" class=\"data row3 col11\" >19</td>\n",
       "                        <td id=\"T_caeba0fe_e1cd_11e9_a28d_459390682481row3_col12\" class=\"data row3 col12\" >18.85</td>\n",
       "                        <td id=\"T_caeba0fe_e1cd_11e9_a28d_459390682481row3_col13\" class=\"data row3 col13\" >18.05</td>\n",
       "            </tr>\n",
       "            <tr>\n",
       "                        <th id=\"T_caeba0fe_e1cd_11e9_a28d_459390682481level0_row4\" class=\"row_heading level0 row4\" >456</th>\n",
       "                        <td id=\"T_caeba0fe_e1cd_11e9_a28d_459390682481row4_col0\" class=\"data row4 col0\" >20</td>\n",
       "                        <td id=\"T_caeba0fe_e1cd_11e9_a28d_459390682481row4_col1\" class=\"data row4 col1\" >5</td>\n",
       "                        <td id=\"T_caeba0fe_e1cd_11e9_a28d_459390682481row4_col2\" class=\"data row4 col2\" >41906.1</td>\n",
       "                        <td id=\"T_caeba0fe_e1cd_11e9_a28d_459390682481row4_col3\" class=\"data row4 col3\" >40759.4</td>\n",
       "                        <td id=\"T_caeba0fe_e1cd_11e9_a28d_459390682481row4_col4\" class=\"data row4 col4\" >37374.1</td>\n",
       "                        <td id=\"T_caeba0fe_e1cd_11e9_a28d_459390682481row4_col5\" class=\"data row4 col5\" >6614.82</td>\n",
       "                        <td id=\"T_caeba0fe_e1cd_11e9_a28d_459390682481row4_col6\" class=\"data row4 col6\" >6390.29</td>\n",
       "                        <td id=\"T_caeba0fe_e1cd_11e9_a28d_459390682481row4_col7\" class=\"data row4 col7\" >5702.02</td>\n",
       "                        <td id=\"T_caeba0fe_e1cd_11e9_a28d_459390682481row4_col8\" class=\"data row4 col8\" >8832</td>\n",
       "                        <td id=\"T_caeba0fe_e1cd_11e9_a28d_459390682481row4_col9\" class=\"data row4 col9\" >8808</td>\n",
       "                        <td id=\"T_caeba0fe_e1cd_11e9_a28d_459390682481row4_col10\" class=\"data row4 col10\" >8864</td>\n",
       "                        <td id=\"T_caeba0fe_e1cd_11e9_a28d_459390682481row4_col11\" class=\"data row4 col11\" >19</td>\n",
       "                        <td id=\"T_caeba0fe_e1cd_11e9_a28d_459390682481row4_col12\" class=\"data row4 col12\" >18.9</td>\n",
       "                        <td id=\"T_caeba0fe_e1cd_11e9_a28d_459390682481row4_col13\" class=\"data row4 col13\" >18.05</td>\n",
       "            </tr>\n",
       "            <tr>\n",
       "                        <th id=\"T_caeba0fe_e1cd_11e9_a28d_459390682481level0_row5\" class=\"row_heading level0 row5\" >458</th>\n",
       "                        <td id=\"T_caeba0fe_e1cd_11e9_a28d_459390682481row5_col0\" class=\"data row5 col0\" >20</td>\n",
       "                        <td id=\"T_caeba0fe_e1cd_11e9_a28d_459390682481row5_col1\" class=\"data row5 col1\" >10</td>\n",
       "                        <td id=\"T_caeba0fe_e1cd_11e9_a28d_459390682481row5_col2\" class=\"data row5 col2\" >75123.3</td>\n",
       "                        <td id=\"T_caeba0fe_e1cd_11e9_a28d_459390682481row5_col3\" class=\"data row5 col3\" >72992.5</td>\n",
       "                        <td id=\"T_caeba0fe_e1cd_11e9_a28d_459390682481row5_col4\" class=\"data row5 col4\" >65884.2</td>\n",
       "                        <td id=\"T_caeba0fe_e1cd_11e9_a28d_459390682481row5_col5\" class=\"data row5 col5\" >6629.73</td>\n",
       "                        <td id=\"T_caeba0fe_e1cd_11e9_a28d_459390682481row5_col6\" class=\"data row5 col6\" >6420.25</td>\n",
       "                        <td id=\"T_caeba0fe_e1cd_11e9_a28d_459390682481row5_col7\" class=\"data row5 col7\" >5702.02</td>\n",
       "                        <td id=\"T_caeba0fe_e1cd_11e9_a28d_459390682481row5_col8\" class=\"data row5 col8\" >8826</td>\n",
       "                        <td id=\"T_caeba0fe_e1cd_11e9_a28d_459390682481row5_col9\" class=\"data row5 col9\" >8790</td>\n",
       "                        <td id=\"T_caeba0fe_e1cd_11e9_a28d_459390682481row5_col10\" class=\"data row5 col10\" >8864</td>\n",
       "                        <td id=\"T_caeba0fe_e1cd_11e9_a28d_459390682481row5_col11\" class=\"data row5 col11\" >19</td>\n",
       "                        <td id=\"T_caeba0fe_e1cd_11e9_a28d_459390682481row5_col12\" class=\"data row5 col12\" >18.85</td>\n",
       "                        <td id=\"T_caeba0fe_e1cd_11e9_a28d_459390682481row5_col13\" class=\"data row5 col13\" >18.05</td>\n",
       "            </tr>\n",
       "    </tbody></table>"
      ],
      "text/plain": [
       "<pandas.io.formats.style.Styler at 0x7f09c40ed3d0>"
      ]
     },
     "execution_count": 6,
     "metadata": {},
     "output_type": "execute_result"
    }
   ],
   "source": [
    "# full, alpha = 0.95\n",
    "df = qs.project(on=[\"config.nsel\", \"config.lambd\",\n",
    "               {\"metrics.Zge95\": np.mean},\n",
    "               {\"metrics.Zgv\": np.mean},\n",
    "               {\"metrics.Zmc\": np.mean},\n",
    "               {\"metrics.ge95\": np.sum},\n",
    "               {\"metrics.gv\": np.sum},\n",
    "               {\"metrics.mc\": np.sum},\n",
    "               {\"metrics.Qge95\": np.mean},\n",
    "               {\"metrics.Qgv\": np.mean},\n",
    "               {\"metrics.Qmc\": np.mean},\n",
    "               {\"metrics.Pge95\": np.mean},\n",
    "               {\"metrics.Pgv\": np.mean},\n",
    "               {\"metrics.Pmc\": np.mean},\n",
    "              ])\n",
    "h = partial(highlight_max_min, start=2)\n",
    "df.style.apply(h, axis=1)"
   ]
  },
  {
   "cell_type": "code",
   "execution_count": 7,
   "metadata": {},
   "outputs": [
    {
     "name": "stdout",
     "output_type": "stream",
     "text": [
      "\\begin{tabular}{llrrrrrrrrrrrrrr}\n",
      "\\toprule\n",
      "{} &    Dataset &   P &  lambd &      QDGE &      QDGV &      QDMC &      DGE &      DGV &      DMC &     QGE &     QGV &     QMC &   PGE &    PGV &    PMC \\\\\n",
      "exp\\_id &            &     &        &           &           &           &          &          &          &         &         &         &       &        &        \\\\\n",
      "\\midrule\n",
      "448    &  movielens &  10 &      1 &  10145.64 &  10017.05 &   9736.03 &  1546.64 &  1490.05 &  1201.03 &  8599.0 &  8527.0 &  8535.0 &   9.5 &   9.50 &   8.55 \\\\\n",
      "451    &  movielens &  10 &      5 &  16399.05 &  16073.75 &  14540.16 &  1572.41 &  1510.15 &  1201.03 &  8537.0 &  8523.0 &  8535.0 &   9.5 &   9.50 &   8.55 \\\\\n",
      "453    &  movielens &  10 &     10 &  24340.60 &  23799.07 &  20545.32 &  1584.56 &  1527.31 &  1201.03 &  8495.0 &  8526.0 &  8535.0 &   9.5 &   9.50 &   8.55 \\\\\n",
      "454    &  movielens &  20 &      1 &  15429.97 &  15079.33 &  14566.02 &  6565.97 &  6254.33 &  5702.02 &  8864.0 &  8825.0 &  8864.0 &  19.0 &  18.85 &  18.05 \\\\\n",
      "456    &  movielens &  20 &      5 &  41906.11 &  40759.44 &  37374.10 &  6614.82 &  6390.29 &  5702.02 &  8832.0 &  8808.0 &  8864.0 &  19.0 &  18.90 &  18.05 \\\\\n",
      "458    &  movielens &  20 &     10 &  75123.33 &  72992.49 &  65884.19 &  6629.73 &  6420.25 &  5702.02 &  8826.0 &  8790.0 &  8864.0 &  19.0 &  18.85 &  18.05 \\\\\n",
      "\\bottomrule\n",
      "\\end{tabular}\n",
      "\n"
     ]
    }
   ],
   "source": [
    "df.columns = list(map(lambda x: md[x] if x in md else x, df.columns))\n",
    "df.insert(0, column='Dataset', value=['movielens']*len(df))\n",
    "print(df.round(2).to_latex())"
   ]
  },
  {
   "cell_type": "markdown",
   "metadata": {},
   "source": [
    "# examples"
   ]
  },
  {
   "cell_type": "code",
   "execution_count": 2,
   "metadata": {},
   "outputs": [
    {
     "name": "stdout",
     "output_type": "stream",
     "text": [
      "Warning: less selections than specified 190/200\n",
      "ge: 77.80\n"
     ]
    }
   ],
   "source": [
    "from data import gen_movielens\n",
    "\n",
    "vecs, tag2t, t2tag, t2c, cls2c, t2v, v2c = gen_movielens()\n",
    "intra_ = intra.Intra(vecs, [t2c[i] for i in range(len(vecs))], len(cls2c), 10,\n",
    "                     metric='cosine',\n",
    "                     quality=intra.Quality(t2v), \n",
    "                     tradeoff=1, eps=1)\n",
    "\n",
    "f = partial(intra_.greedy_edge, exact=False, alpha=0.95)\n",
    "sel = run_once('ge', f, intra_, len(cls2c), None)"
   ]
  },
  {
   "cell_type": "code",
   "execution_count": 3,
   "metadata": {
    "scrolled": false
   },
   "outputs": [
    {
     "name": "stdout",
     "output_type": "stream",
     "text": [
      "genre:  Adventure\n",
      "good\n",
      "bad\n",
      "black\n",
      "new\n",
      "notable\n",
      "true\n",
      "serial\n",
      "available\n",
      "high\n",
      "long\n",
      "-----------\n",
      "genre:  Animation\n",
      "best\n",
      "great\n",
      "small\n",
      "stupid\n",
      "directorial\n",
      "military\n",
      "old\n",
      "comic\n",
      "humorous\n",
      "british\n",
      "-----------\n",
      "genre:  Children\n",
      "classic\n",
      "short\n",
      "atmospheric\n",
      "social\n",
      "anamorphic\n",
      "musical\n",
      "american\n",
      "strong\n",
      "crappy\n",
      "private\n",
      "-----------\n",
      "genre:  Comedy\n",
      "predictable\n",
      "french\n",
      "psychological\n",
      "few\n",
      "finnish\n",
      "inspirational\n",
      "artistic\n",
      "complex\n",
      "horrible\n",
      "environmental\n",
      "-----------\n",
      "genre:  Fantasy\n",
      "national\n",
      "lesbian\n",
      "classical\n",
      "terrible\n",
      "green\n",
      "unsimulated\n",
      "little\n",
      "independent\n",
      "fugitive\n",
      "polish\n",
      "-----------\n",
      "genre:  Romance\n",
      "hilarious\n",
      "historical\n",
      "original\n",
      "foreign\n",
      "happy\n",
      "soviet\n",
      "funeral\n",
      "hot\n",
      "unintentional\n",
      "ultra\n",
      "-----------\n",
      "genre:  Drama\n",
      "scary\n",
      "western\n",
      "irish\n",
      "understated\n",
      "weird\n",
      "single\n",
      "english\n",
      "natural\n",
      "erotic\n",
      "current\n",
      "-----------\n",
      "genre:  Action\n",
      "romantic\n",
      "low\n",
      "supernatural\n",
      "german\n",
      "political\n",
      "golden\n",
      "southern\n",
      "cerebral\n",
      "controversial\n",
      "guilty\n",
      "-----------\n",
      "genre:  Crime\n",
      "special\n",
      "apocalyptic\n",
      "nuclear\n",
      "italian\n",
      "urban\n",
      "fourth\n",
      "uncomfortable\n",
      "nic\n",
      "lyrical\n",
      "potential\n",
      "-----------\n",
      "genre:  Thriller\n",
      "real\n",
      "japanese\n",
      "ensemble\n",
      "poor\n",
      "satirical\n",
      "medical\n",
      "illegal\n",
      "global\n",
      "unexpected\n",
      "duncan\n",
      "-----------\n",
      "genre:  Horror\n",
      "realistic\n",
      "spanish\n",
      "moral\n",
      "dead\n",
      "unusual\n",
      "swedish\n",
      "creative\n",
      "ominous\n",
      "modern\n",
      "offensive\n",
      "-----------\n",
      "genre:  Mystery\n",
      "essential\n",
      "russian\n",
      "native\n",
      "cynical\n",
      "heavy\n",
      "biographical\n",
      "unoriginal\n",
      "second\n",
      "corporate\n",
      "numbered\n",
      "-----------\n",
      "genre:  Sci-Fi\n",
      "spherical\n",
      "emotional\n",
      "philosophical\n",
      "chinese\n",
      "homosexual\n",
      "forgettable\n",
      "dual\n",
      "epidemic\n",
      "industrial\n",
      "alive\n",
      "-----------\n",
      "genre:  IMAX\n",
      "underrated\n",
      "biblical\n",
      "unrealistic\n",
      "free\n",
      "artificial\n",
      "quotable\n",
      "different\n",
      "sebastian\n",
      "united\n",
      "electronic\n",
      "-----------\n",
      "genre:  Documentary\n",
      "related\n",
      "young\n",
      "grand\n",
      "unfunny\n",
      "israeli\n",
      "critical\n",
      "professional\n",
      "arctic\n",
      "nice\n",
      "fable\n",
      "-----------\n",
      "genre:  War\n",
      "sexual\n",
      "weak\n",
      "ian\n",
      "big\n",
      "nonlinear\n",
      "red\n",
      "procedural\n",
      "indian\n",
      "personal\n",
      "gable\n",
      "-----------\n",
      "genre:  Musical\n",
      "gothic\n",
      "live\n",
      "ridiculous\n",
      "civil\n",
      "whimsical\n",
      "hard\n",
      "cultural\n",
      "unlikeable\n",
      "rich\n",
      "late\n",
      "-----------\n",
      "genre:  Western\n",
      "australian\n",
      "dramatic\n",
      "religious\n",
      "brazilian\n",
      "legal\n",
      "pretentious\n",
      "poetic\n",
      "main\n",
      "naive\n",
      "financial\n",
      "-----------\n",
      "genre:  Film-Noir\n",
      "white\n",
      "unpredictable\n",
      "literary\n",
      "final\n",
      "visual\n",
      "interracial\n",
      "idiotic\n",
      "open\n",
      "dangerous\n",
      "nigh\n",
      "-----------\n",
      "genre:  (no genres listed)\n",
      "-----------\n"
     ]
    }
   ],
   "source": [
    "for c,ic in cls2c.items():\n",
    "    print('genre: ', c)\n",
    "    [print(t2tag[s]) for s in sel[ic]]\n",
    "    print('-----------')"
   ]
  }
 ],
 "metadata": {
  "kernelspec": {
   "display_name": "Python 3",
   "language": "python",
   "name": "python3"
  },
  "language_info": {
   "codemirror_mode": {
    "name": "ipython",
    "version": 3
   },
   "file_extension": ".py",
   "mimetype": "text/x-python",
   "name": "python",
   "nbconvert_exporter": "python",
   "pygments_lexer": "ipython3",
   "version": "3.7.4"
  },
  "toc": {
   "base_numbering": 1,
   "nav_menu": {},
   "number_sections": true,
   "sideBar": true,
   "skip_h1_title": false,
   "title_cell": "Table of Contents",
   "title_sidebar": "Contents",
   "toc_cell": false,
   "toc_position": {
    "height": "calc(100% - 180px)",
    "left": "10px",
    "top": "150px",
    "width": "165px"
   },
   "toc_section_display": true,
   "toc_window_display": true
  }
 },
 "nbformat": 4,
 "nbformat_minor": 2
}
