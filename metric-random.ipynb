{
 "cells": [
  {
   "cell_type": "code",
   "execution_count": 1,
   "metadata": {},
   "outputs": [],
   "source": [
    "%load_ext autoreload\n",
    "%autoreload 2\n",
    "\n",
    "import numpy as np\n",
    "import pandas as pd\n",
    "import matplotlib.pyplot as plt\n",
    "import matplotlib.cm as cm\n",
    "from os import path\n",
    "import pickle\n",
    "import itertools\n",
    "from functools import partial\n",
    "import pprint\n",
    "pp = pprint.PrettyPrinter(indent=4)\n",
    "\n",
    "import intra\n",
    "import util\n",
    "from util import md, highlight_max_min\n",
    "from experiment import new_exp, get_loader, run_once, run_permutation"
   ]
  },
  {
   "cell_type": "code",
   "execution_count": 2,
   "metadata": {},
   "outputs": [],
   "source": [
    "loader = get_loader()"
   ]
  },
  {
   "cell_type": "code",
   "execution_count": 3,
   "metadata": {},
   "outputs": [],
   "source": [
    "ver = 8"
   ]
  },
  {
   "cell_type": "markdown",
   "metadata": {},
   "source": [
    "# Small"
   ]
  },
  {
   "cell_type": "code",
   "execution_count": 17,
   "metadata": {
    "scrolled": true
   },
   "outputs": [
    {
     "name": "stdout",
     "output_type": "stream",
     "text": [
      "{   'alphas': [0.1, 0.3, 0.5, 0.7, 0.95],\n",
      "    'dataset': 'random-v8',\n",
      "    'dim': 2,\n",
      "    'ncls': 10,\n",
      "    'ncls_per_vec': 5,\n",
      "    'nsel': 10,\n",
      "    'nvec': 1000,\n",
      "    'which': 'random',\n",
      "    'whichalgo': 'GE|GELS|GV|LSI|LSG|MC|RN'}\n"
     ]
    },
    {
     "name": "stderr",
     "output_type": "stream",
     "text": [
      "/u/67/zhangg1/unix/.local/lib/python3.7/site-packages/sacred/experiment.py:566: UserWarning: Subclassing `CommandLineOption` is deprecated. Please use the `sacred.cli_option` decorator and pass the function to the Experiment constructor.\n",
      "  \"Subclassing `CommandLineOption` is deprecated. Please \"\n",
      "/u/67/zhangg1/unix/.local/lib/python3.7/site-packages/sacred/experiment.py:566: UserWarning: Subclassing `CommandLineOption` is deprecated. Please use the `sacred.cli_option` decorator and pass the function to the Experiment constructor.\n",
      "  \"Subclassing `CommandLineOption` is deprecated. Please \"\n",
      "INFO - jupyter_ex - Running command 'my_main'\n",
      "INFO - jupyter_ex - Started run with ID \"503\"\n"
     ]
    },
    {
     "name": "stdout",
     "output_type": "stream",
     "text": [
      "nvec, ncls: 1000 10\n",
      "gv: ave 72.63, min 72.02, max 72.96\n",
      "lsi: ave 72.01, min 71.64, max 72.28\n",
      "lsg: 69.55\n",
      "rn: 48.47\n",
      "ge10: 73.04\n",
      "gels10: 73.31\n",
      "ge30: 72.84\n",
      "gels30: 73.57\n",
      "ge50: 73.47\n",
      "gels50: 73.70\n"
     ]
    },
    {
     "name": "stderr",
     "output_type": "stream",
     "text": [
      "INFO - jupyter_ex - Completed after 0:00:08\n"
     ]
    },
    {
     "name": "stdout",
     "output_type": "stream",
     "text": [
      "ge70: 73.41\n",
      "gels70: 73.41\n",
      "ge95: 73.83\n",
      "gels95: 73.83\n",
      "{   'alphas': [0.1, 0.3, 0.5, 0.7, 0.95],\n",
      "    'dataset': 'random-v8',\n",
      "    'dim': 10,\n",
      "    'ncls': 10,\n",
      "    'ncls_per_vec': 5,\n",
      "    'nsel': 10,\n",
      "    'nvec': 1000,\n",
      "    'which': 'random',\n",
      "    'whichalgo': 'GE|GELS|GV|LSI|LSG|MC|RN'}\n"
     ]
    },
    {
     "name": "stderr",
     "output_type": "stream",
     "text": [
      "/u/67/zhangg1/unix/.local/lib/python3.7/site-packages/sacred/experiment.py:566: UserWarning: Subclassing `CommandLineOption` is deprecated. Please use the `sacred.cli_option` decorator and pass the function to the Experiment constructor.\n",
      "  \"Subclassing `CommandLineOption` is deprecated. Please \"\n",
      "/u/67/zhangg1/unix/.local/lib/python3.7/site-packages/sacred/experiment.py:566: UserWarning: Subclassing `CommandLineOption` is deprecated. Please use the `sacred.cli_option` decorator and pass the function to the Experiment constructor.\n",
      "  \"Subclassing `CommandLineOption` is deprecated. Please \"\n",
      "INFO - jupyter_ex - Running command 'my_main'\n",
      "INFO - jupyter_ex - Started run with ID \"504\"\n"
     ]
    },
    {
     "name": "stdout",
     "output_type": "stream",
     "text": [
      "nvec, ncls: 1000 10\n",
      "gv: ave 144.75, min 144.12, max 145.28\n",
      "lsi: ave 145.58, min 144.72, max 146.01\n",
      "lsg: 141.02\n",
      "rn: 116.08\n",
      "ge10: 145.72\n",
      "gels10: 146.21\n",
      "ge30: 146.06\n",
      "gels30: 146.47\n",
      "ge50: 145.98\n",
      "gels50: 146.53\n"
     ]
    },
    {
     "name": "stderr",
     "output_type": "stream",
     "text": [
      "INFO - jupyter_ex - Completed after 0:00:09\n"
     ]
    },
    {
     "name": "stdout",
     "output_type": "stream",
     "text": [
      "ge70: 146.61\n",
      "gels70: 147.16\n",
      "ge95: 145.54\n",
      "gels95: 145.80\n",
      "{   'alphas': [0.1, 0.3, 0.5, 0.7, 0.95],\n",
      "    'dataset': 'random-v8',\n",
      "    'dim': 2,\n",
      "    'ncls': 10,\n",
      "    'ncls_per_vec': 5,\n",
      "    'nsel': 100,\n",
      "    'nvec': 1000,\n",
      "    'which': 'random',\n",
      "    'whichalgo': 'GE|GELS|GV|LSI|LSG|MC|RN'}\n"
     ]
    },
    {
     "name": "stderr",
     "output_type": "stream",
     "text": [
      "/u/67/zhangg1/unix/.local/lib/python3.7/site-packages/sacred/experiment.py:566: UserWarning: Subclassing `CommandLineOption` is deprecated. Please use the `sacred.cli_option` decorator and pass the function to the Experiment constructor.\n",
      "  \"Subclassing `CommandLineOption` is deprecated. Please \"\n",
      "/u/67/zhangg1/unix/.local/lib/python3.7/site-packages/sacred/experiment.py:566: UserWarning: Subclassing `CommandLineOption` is deprecated. Please use the `sacred.cli_option` decorator and pass the function to the Experiment constructor.\n",
      "  \"Subclassing `CommandLineOption` is deprecated. Please \"\n",
      "INFO - jupyter_ex - Running command 'my_main'\n",
      "INFO - jupyter_ex - Started run with ID \"505\"\n"
     ]
    },
    {
     "name": "stdout",
     "output_type": "stream",
     "text": [
      "nvec, ncls: 1000 10\n",
      "Warning: less selections than specified 947/1000\n",
      "Warning: less selections than specified 946/1000\n",
      "Warning: less selections than specified 945/1000\n",
      "Warning: less selections than specified 946/1000\n",
      "Warning: less selections than specified 946/1000\n",
      "Warning: less selections than specified 952/1000\n",
      "Warning: less selections than specified 950/1000\n",
      "Warning: less selections than specified 939/1000\n",
      "Warning: less selections than specified 938/1000\n",
      "Warning: less selections than specified 941/1000\n",
      "gv: ave 4671.71, min 4634.06, max 4695.28\n",
      "Warning: less selections than specified 940/1000\n",
      "Warning: less selections than specified 940/1000\n",
      "Warning: less selections than specified 939/1000\n",
      "Warning: less selections than specified 939/1000\n",
      "Warning: less selections than specified 938/1000\n",
      "Warning: less selections than specified 938/1000\n",
      "Warning: less selections than specified 940/1000\n",
      "Warning: less selections than specified 940/1000\n",
      "Warning: less selections than specified 937/1000\n",
      "Warning: less selections than specified 937/1000\n",
      "Warning: less selections than specified 934/1000\n",
      "Warning: less selections than specified 934/1000\n",
      "Warning: less selections than specified 943/1000\n",
      "Warning: less selections than specified 943/1000\n",
      "Warning: less selections than specified 944/1000\n",
      "Warning: less selections than specified 944/1000\n",
      "Warning: less selections than specified 940/1000\n",
      "Warning: less selections than specified 940/1000\n",
      "Warning: less selections than specified 954/1000\n",
      "Warning: less selections than specified 954/1000\n",
      "lsi: ave 4793.32, min 4740.91, max 4880.60\n",
      "Warning: less selections than specified 940/1000\n",
      "Warning: less selections than specified 940/1000\n",
      "lsg: 4765.66\n",
      "Warning: less selections than specified 940/1000\n",
      "rn: 4608.83\n",
      "Warning: less selections than specified 972/1000\n",
      "ge10: 4892.92\n",
      "Warning: less selections than specified 972/1000\n",
      "gels10: 4892.92\n",
      "Warning: less selections than specified 972/1000\n",
      "ge30: 4911.10\n",
      "Warning: less selections than specified 972/1000\n",
      "gels30: 4911.10\n",
      "Warning: less selections than specified 976/1000\n",
      "ge50: 4945.72\n",
      "Warning: less selections than specified 976/1000\n",
      "gels50: 4945.72\n",
      "Warning: less selections than specified 992/1000\n",
      "ge70: 5019.90\n",
      "Warning: less selections than specified 992/1000\n",
      "gels70: 5019.90\n"
     ]
    },
    {
     "name": "stderr",
     "output_type": "stream",
     "text": [
      "INFO - jupyter_ex - Completed after 0:01:43\n"
     ]
    },
    {
     "name": "stdout",
     "output_type": "stream",
     "text": [
      "Warning: less selections than specified 982/1000\n",
      "ge95: 4997.57\n",
      "Warning: less selections than specified 982/1000\n",
      "gels95: 4997.57\n"
     ]
    },
    {
     "name": "stderr",
     "output_type": "stream",
     "text": [
      "/u/67/zhangg1/unix/.local/lib/python3.7/site-packages/sacred/experiment.py:566: UserWarning: Subclassing `CommandLineOption` is deprecated. Please use the `sacred.cli_option` decorator and pass the function to the Experiment constructor.\n",
      "  \"Subclassing `CommandLineOption` is deprecated. Please \"\n"
     ]
    },
    {
     "name": "stdout",
     "output_type": "stream",
     "text": [
      "{   'alphas': [0.1, 0.3, 0.5, 0.7, 0.95],\n",
      "    'dataset': 'random-v8',\n",
      "    'dim': 10,\n",
      "    'ncls': 10,\n",
      "    'ncls_per_vec': 5,\n",
      "    'nsel': 100,\n",
      "    'nvec': 1000,\n",
      "    'which': 'random',\n",
      "    'whichalgo': 'GE|GELS|GV|LSI|LSG|MC|RN'}\n"
     ]
    },
    {
     "name": "stderr",
     "output_type": "stream",
     "text": [
      "/u/67/zhangg1/unix/.local/lib/python3.7/site-packages/sacred/experiment.py:566: UserWarning: Subclassing `CommandLineOption` is deprecated. Please use the `sacred.cli_option` decorator and pass the function to the Experiment constructor.\n",
      "  \"Subclassing `CommandLineOption` is deprecated. Please \"\n",
      "INFO - jupyter_ex - Running command 'my_main'\n",
      "INFO - jupyter_ex - Started run with ID \"506\"\n"
     ]
    },
    {
     "name": "stdout",
     "output_type": "stream",
     "text": [
      "nvec, ncls: 1000 10\n",
      "Warning: less selections than specified 941/1000\n",
      "Warning: less selections than specified 945/1000\n",
      "Warning: less selections than specified 945/1000\n",
      "Warning: less selections than specified 943/1000\n",
      "Warning: less selections than specified 944/1000\n",
      "Warning: less selections than specified 942/1000\n",
      "Warning: less selections than specified 945/1000\n",
      "Warning: less selections than specified 942/1000\n",
      "Warning: less selections than specified 946/1000\n",
      "Warning: less selections than specified 947/1000\n",
      "gv: ave 11747.38, min 11679.58, max 11793.08\n",
      "Warning: less selections than specified 944/1000\n",
      "Warning: less selections than specified 944/1000\n",
      "Warning: less selections than specified 943/1000\n",
      "Warning: less selections than specified 943/1000\n",
      "Warning: less selections than specified 943/1000\n",
      "Warning: less selections than specified 943/1000\n",
      "Warning: less selections than specified 942/1000\n",
      "Warning: less selections than specified 942/1000\n",
      "Warning: less selections than specified 941/1000\n",
      "Warning: less selections than specified 941/1000\n",
      "Warning: less selections than specified 942/1000\n",
      "Warning: less selections than specified 942/1000\n",
      "Warning: less selections than specified 936/1000\n",
      "Warning: less selections than specified 936/1000\n",
      "Warning: less selections than specified 931/1000\n",
      "Warning: less selections than specified 931/1000\n",
      "Warning: less selections than specified 946/1000\n",
      "Warning: less selections than specified 946/1000\n",
      "Warning: less selections than specified 939/1000\n",
      "Warning: less selections than specified 939/1000\n",
      "lsi: ave 11680.18, min 11549.35, max 11759.58\n",
      "Warning: less selections than specified 944/1000\n",
      "Warning: less selections than specified 944/1000\n",
      "lsg: 11702.02\n",
      "Warning: less selections than specified 944/1000\n",
      "rn: 11475.85\n",
      "Warning: less selections than specified 990/1000\n",
      "ge10: 12489.59\n",
      "Warning: less selections than specified 990/1000\n",
      "gels10: 12489.59\n",
      "Warning: less selections than specified 984/1000\n",
      "ge30: 12332.84\n",
      "Warning: less selections than specified 984/1000\n",
      "gels30: 12332.84\n",
      "Warning: less selections than specified 958/1000\n",
      "ge50: 11947.44\n",
      "Warning: less selections than specified 958/1000\n",
      "gels50: 11949.86\n",
      "Warning: less selections than specified 980/1000\n",
      "ge70: 12323.09\n",
      "Warning: less selections than specified 980/1000\n",
      "gels70: 12323.09\n",
      "Warning: less selections than specified 974/1000\n",
      "ge95: 12195.30\n"
     ]
    },
    {
     "name": "stderr",
     "output_type": "stream",
     "text": [
      "INFO - jupyter_ex - Completed after 0:02:06\n"
     ]
    },
    {
     "name": "stdout",
     "output_type": "stream",
     "text": [
      "Warning: less selections than specified 974/1000\n",
      "gels95: 12198.58\n"
     ]
    }
   ],
   "source": [
    "ex = new_exp()\n",
    "    \n",
    "# r = ex.run()\n",
    "for nvec, ncls, ncls_per_vec, nsel, dim, alphas in itertools.product([1000], \n",
    "                                                        [10], \n",
    "                                                        [5], \n",
    "                                                        [10,100],\n",
    "                                                        [2,10],\n",
    "                                                        [[0.1, 0.3, 0.5, 0.7, 0.95]]):\n",
    "    conf = {'which': 'random', \n",
    "        'whichalgo': 'GE|GELS|GV|LSI|LSG|MC|RN',\n",
    "        'dataset': 'random-v{}'.format(ver), \n",
    "        'nvec': nvec, \n",
    "        'ncls': ncls, \n",
    "        'ncls_per_vec': ncls_per_vec, \n",
    "        'nsel': nsel, \n",
    "        'alphas': alphas,\n",
    "        'dim': dim}\n",
    "    pp.pprint(conf)\n",
    "    r = ex.run(config_updates=conf)"
   ]
  },
  {
   "cell_type": "code",
   "execution_count": 18,
   "metadata": {},
   "outputs": [],
   "source": [
    "# loader.find_latest().to_dict()\n",
    "\n",
    "query = {\"$and\": [\n",
    "    {\"status\": 'COMPLETED'},\n",
    "    {\"config.dataset\": 'random-v{}'.format(ver)},\n",
    "    {\"config.nvec\": 1000},\n",
    "        ]}\n",
    "qs = loader.find(query)"
   ]
  },
  {
   "cell_type": "code",
   "execution_count": 19,
   "metadata": {},
   "outputs": [
    {
     "data": {
      "text/html": [
       "<style  type=\"text/css\" >\n",
       "    #T_5793cfa8_e382_11e9_9538_fbbb7bafb278row0_col7 {\n",
       "            color:  green;\n",
       "        }    #T_5793cfa8_e382_11e9_9538_fbbb7bafb278row0_col15 {\n",
       "            color:  red;\n",
       "        }    #T_5793cfa8_e382_11e9_9538_fbbb7bafb278row1_col6 {\n",
       "            color:  green;\n",
       "        }    #T_5793cfa8_e382_11e9_9538_fbbb7bafb278row1_col15 {\n",
       "            color:  red;\n",
       "        }    #T_5793cfa8_e382_11e9_9538_fbbb7bafb278row2_col6 {\n",
       "            color:  green;\n",
       "        }    #T_5793cfa8_e382_11e9_9538_fbbb7bafb278row2_col15 {\n",
       "            color:  red;\n",
       "        }    #T_5793cfa8_e382_11e9_9538_fbbb7bafb278row3_col3 {\n",
       "            color:  green;\n",
       "        }    #T_5793cfa8_e382_11e9_9538_fbbb7bafb278row3_col15 {\n",
       "            color:  red;\n",
       "        }</style><table id=\"T_5793cfa8_e382_11e9_9538_fbbb7bafb278\" ><thead>    <tr>        <th class=\"blank level0\" ></th>        <th class=\"col_heading level0 col0\" >nvec</th>        <th class=\"col_heading level0 col1\" >nsel</th>        <th class=\"col_heading level0 col2\" >dim</th>        <th class=\"col_heading level0 col3\" >ge10_mean</th>        <th class=\"col_heading level0 col4\" >ge30_mean</th>        <th class=\"col_heading level0 col5\" >ge50_mean</th>        <th class=\"col_heading level0 col6\" >ge70_mean</th>        <th class=\"col_heading level0 col7\" >ge95_mean</th>        <th class=\"col_heading level0 col8\" >gv_min_mean</th>        <th class=\"col_heading level0 col9\" >gv_ave_mean</th>        <th class=\"col_heading level0 col10\" >gv_max_mean</th>        <th class=\"col_heading level0 col11\" >lsi_min_mean</th>        <th class=\"col_heading level0 col12\" >lsi_ave_mean</th>        <th class=\"col_heading level0 col13\" >lsi_max_mean</th>        <th class=\"col_heading level0 col14\" >lsg_mean</th>        <th class=\"col_heading level0 col15\" >rn_mean</th>    </tr>    <tr>        <th class=\"index_name level0\" >exp_id</th>        <th class=\"blank\" ></th>        <th class=\"blank\" ></th>        <th class=\"blank\" ></th>        <th class=\"blank\" ></th>        <th class=\"blank\" ></th>        <th class=\"blank\" ></th>        <th class=\"blank\" ></th>        <th class=\"blank\" ></th>        <th class=\"blank\" ></th>        <th class=\"blank\" ></th>        <th class=\"blank\" ></th>        <th class=\"blank\" ></th>        <th class=\"blank\" ></th>        <th class=\"blank\" ></th>        <th class=\"blank\" ></th>        <th class=\"blank\" ></th>    </tr></thead><tbody>\n",
       "                <tr>\n",
       "                        <th id=\"T_5793cfa8_e382_11e9_9538_fbbb7bafb278level0_row0\" class=\"row_heading level0 row0\" >503</th>\n",
       "                        <td id=\"T_5793cfa8_e382_11e9_9538_fbbb7bafb278row0_col0\" class=\"data row0 col0\" >1000</td>\n",
       "                        <td id=\"T_5793cfa8_e382_11e9_9538_fbbb7bafb278row0_col1\" class=\"data row0 col1\" >10</td>\n",
       "                        <td id=\"T_5793cfa8_e382_11e9_9538_fbbb7bafb278row0_col2\" class=\"data row0 col2\" >2</td>\n",
       "                        <td id=\"T_5793cfa8_e382_11e9_9538_fbbb7bafb278row0_col3\" class=\"data row0 col3\" >73.0393</td>\n",
       "                        <td id=\"T_5793cfa8_e382_11e9_9538_fbbb7bafb278row0_col4\" class=\"data row0 col4\" >72.8396</td>\n",
       "                        <td id=\"T_5793cfa8_e382_11e9_9538_fbbb7bafb278row0_col5\" class=\"data row0 col5\" >73.4742</td>\n",
       "                        <td id=\"T_5793cfa8_e382_11e9_9538_fbbb7bafb278row0_col6\" class=\"data row0 col6\" >73.4059</td>\n",
       "                        <td id=\"T_5793cfa8_e382_11e9_9538_fbbb7bafb278row0_col7\" class=\"data row0 col7\" >73.8329</td>\n",
       "                        <td id=\"T_5793cfa8_e382_11e9_9538_fbbb7bafb278row0_col8\" class=\"data row0 col8\" >72.0204</td>\n",
       "                        <td id=\"T_5793cfa8_e382_11e9_9538_fbbb7bafb278row0_col9\" class=\"data row0 col9\" >72.6276</td>\n",
       "                        <td id=\"T_5793cfa8_e382_11e9_9538_fbbb7bafb278row0_col10\" class=\"data row0 col10\" >72.9552</td>\n",
       "                        <td id=\"T_5793cfa8_e382_11e9_9538_fbbb7bafb278row0_col11\" class=\"data row0 col11\" >71.6398</td>\n",
       "                        <td id=\"T_5793cfa8_e382_11e9_9538_fbbb7bafb278row0_col12\" class=\"data row0 col12\" >72.0087</td>\n",
       "                        <td id=\"T_5793cfa8_e382_11e9_9538_fbbb7bafb278row0_col13\" class=\"data row0 col13\" >72.284</td>\n",
       "                        <td id=\"T_5793cfa8_e382_11e9_9538_fbbb7bafb278row0_col14\" class=\"data row0 col14\" >69.5451</td>\n",
       "                        <td id=\"T_5793cfa8_e382_11e9_9538_fbbb7bafb278row0_col15\" class=\"data row0 col15\" >48.4676</td>\n",
       "            </tr>\n",
       "            <tr>\n",
       "                        <th id=\"T_5793cfa8_e382_11e9_9538_fbbb7bafb278level0_row1\" class=\"row_heading level0 row1\" >504</th>\n",
       "                        <td id=\"T_5793cfa8_e382_11e9_9538_fbbb7bafb278row1_col0\" class=\"data row1 col0\" >1000</td>\n",
       "                        <td id=\"T_5793cfa8_e382_11e9_9538_fbbb7bafb278row1_col1\" class=\"data row1 col1\" >10</td>\n",
       "                        <td id=\"T_5793cfa8_e382_11e9_9538_fbbb7bafb278row1_col2\" class=\"data row1 col2\" >10</td>\n",
       "                        <td id=\"T_5793cfa8_e382_11e9_9538_fbbb7bafb278row1_col3\" class=\"data row1 col3\" >145.718</td>\n",
       "                        <td id=\"T_5793cfa8_e382_11e9_9538_fbbb7bafb278row1_col4\" class=\"data row1 col4\" >146.055</td>\n",
       "                        <td id=\"T_5793cfa8_e382_11e9_9538_fbbb7bafb278row1_col5\" class=\"data row1 col5\" >145.976</td>\n",
       "                        <td id=\"T_5793cfa8_e382_11e9_9538_fbbb7bafb278row1_col6\" class=\"data row1 col6\" >146.614</td>\n",
       "                        <td id=\"T_5793cfa8_e382_11e9_9538_fbbb7bafb278row1_col7\" class=\"data row1 col7\" >145.535</td>\n",
       "                        <td id=\"T_5793cfa8_e382_11e9_9538_fbbb7bafb278row1_col8\" class=\"data row1 col8\" >144.122</td>\n",
       "                        <td id=\"T_5793cfa8_e382_11e9_9538_fbbb7bafb278row1_col9\" class=\"data row1 col9\" >144.752</td>\n",
       "                        <td id=\"T_5793cfa8_e382_11e9_9538_fbbb7bafb278row1_col10\" class=\"data row1 col10\" >145.285</td>\n",
       "                        <td id=\"T_5793cfa8_e382_11e9_9538_fbbb7bafb278row1_col11\" class=\"data row1 col11\" >144.716</td>\n",
       "                        <td id=\"T_5793cfa8_e382_11e9_9538_fbbb7bafb278row1_col12\" class=\"data row1 col12\" >145.582</td>\n",
       "                        <td id=\"T_5793cfa8_e382_11e9_9538_fbbb7bafb278row1_col13\" class=\"data row1 col13\" >146.009</td>\n",
       "                        <td id=\"T_5793cfa8_e382_11e9_9538_fbbb7bafb278row1_col14\" class=\"data row1 col14\" >141.021</td>\n",
       "                        <td id=\"T_5793cfa8_e382_11e9_9538_fbbb7bafb278row1_col15\" class=\"data row1 col15\" >116.078</td>\n",
       "            </tr>\n",
       "            <tr>\n",
       "                        <th id=\"T_5793cfa8_e382_11e9_9538_fbbb7bafb278level0_row2\" class=\"row_heading level0 row2\" >505</th>\n",
       "                        <td id=\"T_5793cfa8_e382_11e9_9538_fbbb7bafb278row2_col0\" class=\"data row2 col0\" >1000</td>\n",
       "                        <td id=\"T_5793cfa8_e382_11e9_9538_fbbb7bafb278row2_col1\" class=\"data row2 col1\" >100</td>\n",
       "                        <td id=\"T_5793cfa8_e382_11e9_9538_fbbb7bafb278row2_col2\" class=\"data row2 col2\" >2</td>\n",
       "                        <td id=\"T_5793cfa8_e382_11e9_9538_fbbb7bafb278row2_col3\" class=\"data row2 col3\" >4892.92</td>\n",
       "                        <td id=\"T_5793cfa8_e382_11e9_9538_fbbb7bafb278row2_col4\" class=\"data row2 col4\" >4911.1</td>\n",
       "                        <td id=\"T_5793cfa8_e382_11e9_9538_fbbb7bafb278row2_col5\" class=\"data row2 col5\" >4945.72</td>\n",
       "                        <td id=\"T_5793cfa8_e382_11e9_9538_fbbb7bafb278row2_col6\" class=\"data row2 col6\" >5019.9</td>\n",
       "                        <td id=\"T_5793cfa8_e382_11e9_9538_fbbb7bafb278row2_col7\" class=\"data row2 col7\" >4997.57</td>\n",
       "                        <td id=\"T_5793cfa8_e382_11e9_9538_fbbb7bafb278row2_col8\" class=\"data row2 col8\" >4634.06</td>\n",
       "                        <td id=\"T_5793cfa8_e382_11e9_9538_fbbb7bafb278row2_col9\" class=\"data row2 col9\" >4671.71</td>\n",
       "                        <td id=\"T_5793cfa8_e382_11e9_9538_fbbb7bafb278row2_col10\" class=\"data row2 col10\" >4695.28</td>\n",
       "                        <td id=\"T_5793cfa8_e382_11e9_9538_fbbb7bafb278row2_col11\" class=\"data row2 col11\" >4740.91</td>\n",
       "                        <td id=\"T_5793cfa8_e382_11e9_9538_fbbb7bafb278row2_col12\" class=\"data row2 col12\" >4793.32</td>\n",
       "                        <td id=\"T_5793cfa8_e382_11e9_9538_fbbb7bafb278row2_col13\" class=\"data row2 col13\" >4880.6</td>\n",
       "                        <td id=\"T_5793cfa8_e382_11e9_9538_fbbb7bafb278row2_col14\" class=\"data row2 col14\" >4765.66</td>\n",
       "                        <td id=\"T_5793cfa8_e382_11e9_9538_fbbb7bafb278row2_col15\" class=\"data row2 col15\" >4608.83</td>\n",
       "            </tr>\n",
       "            <tr>\n",
       "                        <th id=\"T_5793cfa8_e382_11e9_9538_fbbb7bafb278level0_row3\" class=\"row_heading level0 row3\" >506</th>\n",
       "                        <td id=\"T_5793cfa8_e382_11e9_9538_fbbb7bafb278row3_col0\" class=\"data row3 col0\" >1000</td>\n",
       "                        <td id=\"T_5793cfa8_e382_11e9_9538_fbbb7bafb278row3_col1\" class=\"data row3 col1\" >100</td>\n",
       "                        <td id=\"T_5793cfa8_e382_11e9_9538_fbbb7bafb278row3_col2\" class=\"data row3 col2\" >10</td>\n",
       "                        <td id=\"T_5793cfa8_e382_11e9_9538_fbbb7bafb278row3_col3\" class=\"data row3 col3\" >12489.6</td>\n",
       "                        <td id=\"T_5793cfa8_e382_11e9_9538_fbbb7bafb278row3_col4\" class=\"data row3 col4\" >12332.8</td>\n",
       "                        <td id=\"T_5793cfa8_e382_11e9_9538_fbbb7bafb278row3_col5\" class=\"data row3 col5\" >11947.4</td>\n",
       "                        <td id=\"T_5793cfa8_e382_11e9_9538_fbbb7bafb278row3_col6\" class=\"data row3 col6\" >12323.1</td>\n",
       "                        <td id=\"T_5793cfa8_e382_11e9_9538_fbbb7bafb278row3_col7\" class=\"data row3 col7\" >12195.3</td>\n",
       "                        <td id=\"T_5793cfa8_e382_11e9_9538_fbbb7bafb278row3_col8\" class=\"data row3 col8\" >11679.6</td>\n",
       "                        <td id=\"T_5793cfa8_e382_11e9_9538_fbbb7bafb278row3_col9\" class=\"data row3 col9\" >11747.4</td>\n",
       "                        <td id=\"T_5793cfa8_e382_11e9_9538_fbbb7bafb278row3_col10\" class=\"data row3 col10\" >11793.1</td>\n",
       "                        <td id=\"T_5793cfa8_e382_11e9_9538_fbbb7bafb278row3_col11\" class=\"data row3 col11\" >11549.3</td>\n",
       "                        <td id=\"T_5793cfa8_e382_11e9_9538_fbbb7bafb278row3_col12\" class=\"data row3 col12\" >11680.2</td>\n",
       "                        <td id=\"T_5793cfa8_e382_11e9_9538_fbbb7bafb278row3_col13\" class=\"data row3 col13\" >11759.6</td>\n",
       "                        <td id=\"T_5793cfa8_e382_11e9_9538_fbbb7bafb278row3_col14\" class=\"data row3 col14\" >11702</td>\n",
       "                        <td id=\"T_5793cfa8_e382_11e9_9538_fbbb7bafb278row3_col15\" class=\"data row3 col15\" >11475.8</td>\n",
       "            </tr>\n",
       "    </tbody></table>"
      ],
      "text/plain": [
       "<pandas.io.formats.style.Styler at 0x7f6c2844b250>"
      ]
     },
     "execution_count": 19,
     "metadata": {},
     "output_type": "execute_result"
    }
   ],
   "source": [
    "# full, alpha = 0.95\n",
    "f = np.mean\n",
    "df = qs.project(on=[\"config.nvec\", \"config.nsel\", \"config.dim\", \n",
    "               {\"metrics.ge10\": f},\n",
    "               {\"metrics.ge30\": f},\n",
    "               {\"metrics.ge50\": f},\n",
    "               {\"metrics.ge70\": f},\n",
    "               {\"metrics.ge95\": f},\n",
    "#                {\"metrics.gels10\": f},\n",
    "#                {\"metrics.gels30\": f},\n",
    "#                {\"metrics.gels50\": f},\n",
    "#                {\"metrics.gels70\": f},\n",
    "#                {\"metrics.gels95\": f},\n",
    "               {\"metrics.gv_min\": f},\n",
    "               {\"metrics.gv_ave\": f},\n",
    "               {\"metrics.gv_max\": f},\n",
    "               {\"metrics.lsi_min\": f},\n",
    "               {\"metrics.lsi_ave\": f},\n",
    "               {\"metrics.lsi_max\": f},\n",
    "               {\"metrics.lsg\": f},\n",
    "               {\"metrics.rn\": f},\n",
    "              ])\n",
    "h = partial(highlight_max_min, start=3)\n",
    "df.style.apply(h, axis=1)"
   ]
  },
  {
   "cell_type": "code",
   "execution_count": 20,
   "metadata": {},
   "outputs": [
    {
     "name": "stdout",
     "output_type": "stream",
     "text": [
      "\\begin{tabular}{llrrrrrrrrrrrrrr}\n",
      "\\toprule\n",
      "{} & Dataset &     N &    P &   D &  GEmin &  GEavg &  GEmax &  GVmin &  GVavg &  GVmax &  LSImin &  LSIavg &  LSImax &    LSG &     RN \\\\\n",
      "exp\\_id &         &       &      &     &        &        &        &        &        &        &         &         &         &        &        \\\\\n",
      "\\midrule\n",
      "503    &  random &  1000 &   10 &   2 &  0.987 &  0.993 &    1.0 &  0.975 &  0.984 &  0.988 &   0.970 &   0.975 &   0.979 &  0.942 &  0.656 \\\\\n",
      "504    &  random &  1000 &   10 &  10 &  0.993 &  0.996 &    1.0 &  0.983 &  0.987 &  0.991 &   0.987 &   0.993 &   0.996 &  0.962 &  0.792 \\\\\n",
      "505    &  random &  1000 &  100 &   2 &  0.975 &  0.987 &    1.0 &  0.923 &  0.931 &  0.935 &   0.944 &   0.955 &   0.972 &  0.949 &  0.918 \\\\\n",
      "506    &  random &  1000 &  100 &  10 &  0.957 &  0.981 &    1.0 &  0.935 &  0.941 &  0.944 &   0.925 &   0.935 &   0.942 &  0.937 &  0.919 \\\\\n",
      "\\bottomrule\n",
      "\\end{tabular}\n",
      "\n"
     ]
    }
   ],
   "source": [
    "df = util.aggregate_tbl(df, names=['ge'])\n",
    "df = util.relative_tbl(df, beg=3)\n",
    "df.columns = list(map(lambda x: md[x] if x in md else x, df.columns))\n",
    "df.insert(0, column='Dataset', value=['random']*len(df))\n",
    "print(df.round(3).to_latex())"
   ]
  },
  {
   "cell_type": "markdown",
   "metadata": {},
   "source": [
    "# Large"
   ]
  },
  {
   "cell_type": "code",
   "execution_count": 10,
   "metadata": {
    "scrolled": true
   },
   "outputs": [
    {
     "name": "stdout",
     "output_type": "stream",
     "text": [
      "{   'alphas': [0.1, 0.3, 0.5, 0.7, 0.95],\n",
      "    'dataset': 'random-v8',\n",
      "    'dim': 2,\n",
      "    'ncls': 10,\n",
      "    'ncls_per_vec': 5,\n",
      "    'nsel': 10,\n",
      "    'nvec': 100000,\n",
      "    'which': 'random',\n",
      "    'whichalgo': 'GE|GV|RN'}\n"
     ]
    },
    {
     "name": "stderr",
     "output_type": "stream",
     "text": [
      "/u/67/zhangg1/unix/.local/lib/python3.7/site-packages/sacred/experiment.py:566: UserWarning: Subclassing `CommandLineOption` is deprecated. Please use the `sacred.cli_option` decorator and pass the function to the Experiment constructor.\n",
      "  \"Subclassing `CommandLineOption` is deprecated. Please \"\n",
      "/u/67/zhangg1/unix/.local/lib/python3.7/site-packages/sacred/experiment.py:566: UserWarning: Subclassing `CommandLineOption` is deprecated. Please use the `sacred.cli_option` decorator and pass the function to the Experiment constructor.\n",
      "  \"Subclassing `CommandLineOption` is deprecated. Please \"\n",
      "INFO - jupyter_ex - Running command 'my_main'\n",
      "INFO - jupyter_ex - Started run with ID \"481\"\n"
     ]
    },
    {
     "name": "stdout",
     "output_type": "stream",
     "text": [
      "nvec, ncls: 100000 10\n",
      "gv: ave 81.77, min 81.38, max 82.22\n",
      "rn: 47.73\n",
      "ge10: 81.19\n",
      "ge30: 82.43\n",
      "ge50: 82.39\n",
      "ge70: 82.15\n"
     ]
    },
    {
     "name": "stderr",
     "output_type": "stream",
     "text": [
      "INFO - jupyter_ex - Completed after 0:00:39\n"
     ]
    },
    {
     "name": "stdout",
     "output_type": "stream",
     "text": [
      "ge95: 82.83\n",
      "{   'alphas': [0.1, 0.3, 0.5, 0.7, 0.95],\n",
      "    'dataset': 'random-v8',\n",
      "    'dim': 10,\n",
      "    'ncls': 10,\n",
      "    'ncls_per_vec': 5,\n",
      "    'nsel': 10,\n",
      "    'nvec': 100000,\n",
      "    'which': 'random',\n",
      "    'whichalgo': 'GE|GV|RN'}\n"
     ]
    },
    {
     "name": "stderr",
     "output_type": "stream",
     "text": [
      "/u/67/zhangg1/unix/.local/lib/python3.7/site-packages/sacred/experiment.py:566: UserWarning: Subclassing `CommandLineOption` is deprecated. Please use the `sacred.cli_option` decorator and pass the function to the Experiment constructor.\n",
      "  \"Subclassing `CommandLineOption` is deprecated. Please \"\n",
      "/u/67/zhangg1/unix/.local/lib/python3.7/site-packages/sacred/experiment.py:566: UserWarning: Subclassing `CommandLineOption` is deprecated. Please use the `sacred.cli_option` decorator and pass the function to the Experiment constructor.\n",
      "  \"Subclassing `CommandLineOption` is deprecated. Please \"\n",
      "INFO - jupyter_ex - Running command 'my_main'\n",
      "INFO - jupyter_ex - Started run with ID \"482\"\n"
     ]
    },
    {
     "name": "stdout",
     "output_type": "stream",
     "text": [
      "nvec, ncls: 100000 10\n",
      "gv: ave 164.99, min 164.24, max 165.71\n",
      "rn: 113.13\n",
      "ge10: 164.65\n",
      "ge30: 165.55\n",
      "ge50: 166.77\n",
      "ge70: 166.44\n"
     ]
    },
    {
     "name": "stderr",
     "output_type": "stream",
     "text": [
      "INFO - jupyter_ex - Completed after 0:00:35\n"
     ]
    },
    {
     "name": "stdout",
     "output_type": "stream",
     "text": [
      "ge95: 165.93\n",
      "{   'alphas': [0.1, 0.3, 0.5, 0.7, 0.95],\n",
      "    'dataset': 'random-v8',\n",
      "    'dim': 2,\n",
      "    'ncls': 10,\n",
      "    'ncls_per_vec': 5,\n",
      "    'nsel': 100,\n",
      "    'nvec': 100000,\n",
      "    'which': 'random',\n",
      "    'whichalgo': 'GE|GV|RN'}\n"
     ]
    },
    {
     "name": "stderr",
     "output_type": "stream",
     "text": [
      "/u/67/zhangg1/unix/.local/lib/python3.7/site-packages/sacred/experiment.py:566: UserWarning: Subclassing `CommandLineOption` is deprecated. Please use the `sacred.cli_option` decorator and pass the function to the Experiment constructor.\n",
      "  \"Subclassing `CommandLineOption` is deprecated. Please \"\n",
      "/u/67/zhangg1/unix/.local/lib/python3.7/site-packages/sacred/experiment.py:566: UserWarning: Subclassing `CommandLineOption` is deprecated. Please use the `sacred.cli_option` decorator and pass the function to the Experiment constructor.\n",
      "  \"Subclassing `CommandLineOption` is deprecated. Please \"\n",
      "INFO - jupyter_ex - Running command 'my_main'\n",
      "INFO - jupyter_ex - Started run with ID \"483\"\n"
     ]
    },
    {
     "name": "stdout",
     "output_type": "stream",
     "text": [
      "nvec, ncls: 100000 10\n",
      "gv: ave 8182.08, min 8177.81, max 8187.02\n",
      "rn: 5161.58\n",
      "ge10: 8186.58\n",
      "ge30: 8193.86\n",
      "ge50: 8200.25\n",
      "ge70: 8200.04\n"
     ]
    },
    {
     "name": "stderr",
     "output_type": "stream",
     "text": [
      "INFO - jupyter_ex - Completed after 0:11:06\n"
     ]
    },
    {
     "name": "stdout",
     "output_type": "stream",
     "text": [
      "ge95: 8196.47\n",
      "{   'alphas': [0.1, 0.3, 0.5, 0.7, 0.95],\n",
      "    'dataset': 'random-v8',\n",
      "    'dim': 10,\n",
      "    'ncls': 10,\n",
      "    'ncls_per_vec': 5,\n",
      "    'nsel': 100,\n",
      "    'nvec': 100000,\n",
      "    'which': 'random',\n",
      "    'whichalgo': 'GE|GV|RN'}\n"
     ]
    },
    {
     "name": "stderr",
     "output_type": "stream",
     "text": [
      "/u/67/zhangg1/unix/.local/lib/python3.7/site-packages/sacred/experiment.py:566: UserWarning: Subclassing `CommandLineOption` is deprecated. Please use the `sacred.cli_option` decorator and pass the function to the Experiment constructor.\n",
      "  \"Subclassing `CommandLineOption` is deprecated. Please \"\n",
      "/u/67/zhangg1/unix/.local/lib/python3.7/site-packages/sacred/experiment.py:566: UserWarning: Subclassing `CommandLineOption` is deprecated. Please use the `sacred.cli_option` decorator and pass the function to the Experiment constructor.\n",
      "  \"Subclassing `CommandLineOption` is deprecated. Please \"\n",
      "INFO - jupyter_ex - Running command 'my_main'\n",
      "INFO - jupyter_ex - Started run with ID \"497\"\n"
     ]
    },
    {
     "name": "stdout",
     "output_type": "stream",
     "text": [
      "nvec, ncls: 100000 10\n",
      "gv: ave 16910.20, min 16904.33, max 16916.46\n",
      "rn: 12625.01\n",
      "ge10: 16931.15\n",
      "ge30: 16937.92\n",
      "ge50: 16934.00\n",
      "ge70: 16942.37\n"
     ]
    },
    {
     "name": "stderr",
     "output_type": "stream",
     "text": [
      "INFO - jupyter_ex - Completed after 0:13:46\n"
     ]
    },
    {
     "name": "stdout",
     "output_type": "stream",
     "text": [
      "ge95: 16934.18\n"
     ]
    }
   ],
   "source": [
    "ex = new_exp()\n",
    "    \n",
    "# r = ex.run()\n",
    "for nvec, ncls, ncls_per_vec, nsel, dim, alphas in itertools.product([100000], \n",
    "                                                        [10], \n",
    "                                                        [5], \n",
    "                                                        [10,100],\n",
    "                                                        [2,10],\n",
    "                                                        [[0.1, 0.3, 0.5, 0.7, 0.95]]):\n",
    "    conf = {'which': 'random', \n",
    "        'whichalgo': 'GE|GV|RN',\n",
    "        'dataset': 'random-v{}'.format(ver), \n",
    "        'nvec': nvec, \n",
    "        'ncls': ncls, \n",
    "        'ncls_per_vec': ncls_per_vec, \n",
    "        'nsel': nsel, \n",
    "        'alphas': alphas,\n",
    "        'dim': dim}\n",
    "    pp.pprint(conf)\n",
    "    r = ex.run(config_updates=conf)"
   ]
  },
  {
   "cell_type": "code",
   "execution_count": 21,
   "metadata": {},
   "outputs": [],
   "source": [
    "# loader.find_latest().to_dict()\n",
    "\n",
    "query = {\"$and\": [\n",
    "    {\"status\": 'COMPLETED'},\n",
    "    {\"config.dataset\": 'random-v{}'.format(ver)},\n",
    "    {\"config.nvec\": 100000},\n",
    "        ]}\n",
    "qs = loader.find(query)"
   ]
  },
  {
   "cell_type": "code",
   "execution_count": 22,
   "metadata": {},
   "outputs": [
    {
     "data": {
      "text/html": [
       "<style  type=\"text/css\" >\n",
       "    #T_8edc19d4_e382_11e9_9538_fbbb7bafb278row0_col7 {\n",
       "            color:  green;\n",
       "        }    #T_8edc19d4_e382_11e9_9538_fbbb7bafb278row0_col11 {\n",
       "            color:  red;\n",
       "        }    #T_8edc19d4_e382_11e9_9538_fbbb7bafb278row1_col5 {\n",
       "            color:  green;\n",
       "        }    #T_8edc19d4_e382_11e9_9538_fbbb7bafb278row1_col11 {\n",
       "            color:  red;\n",
       "        }    #T_8edc19d4_e382_11e9_9538_fbbb7bafb278row2_col5 {\n",
       "            color:  green;\n",
       "        }    #T_8edc19d4_e382_11e9_9538_fbbb7bafb278row2_col11 {\n",
       "            color:  red;\n",
       "        }    #T_8edc19d4_e382_11e9_9538_fbbb7bafb278row3_col6 {\n",
       "            color:  green;\n",
       "        }    #T_8edc19d4_e382_11e9_9538_fbbb7bafb278row3_col11 {\n",
       "            color:  red;\n",
       "        }</style><table id=\"T_8edc19d4_e382_11e9_9538_fbbb7bafb278\" ><thead>    <tr>        <th class=\"blank level0\" ></th>        <th class=\"col_heading level0 col0\" >nvec</th>        <th class=\"col_heading level0 col1\" >nsel</th>        <th class=\"col_heading level0 col2\" >dim</th>        <th class=\"col_heading level0 col3\" >ge10_mean</th>        <th class=\"col_heading level0 col4\" >ge30_mean</th>        <th class=\"col_heading level0 col5\" >ge50_mean</th>        <th class=\"col_heading level0 col6\" >ge70_mean</th>        <th class=\"col_heading level0 col7\" >ge95_mean</th>        <th class=\"col_heading level0 col8\" >gv_min_mean</th>        <th class=\"col_heading level0 col9\" >gv_ave_mean</th>        <th class=\"col_heading level0 col10\" >gv_max_mean</th>        <th class=\"col_heading level0 col11\" >rn_mean</th>    </tr>    <tr>        <th class=\"index_name level0\" >exp_id</th>        <th class=\"blank\" ></th>        <th class=\"blank\" ></th>        <th class=\"blank\" ></th>        <th class=\"blank\" ></th>        <th class=\"blank\" ></th>        <th class=\"blank\" ></th>        <th class=\"blank\" ></th>        <th class=\"blank\" ></th>        <th class=\"blank\" ></th>        <th class=\"blank\" ></th>        <th class=\"blank\" ></th>        <th class=\"blank\" ></th>    </tr></thead><tbody>\n",
       "                <tr>\n",
       "                        <th id=\"T_8edc19d4_e382_11e9_9538_fbbb7bafb278level0_row0\" class=\"row_heading level0 row0\" >481</th>\n",
       "                        <td id=\"T_8edc19d4_e382_11e9_9538_fbbb7bafb278row0_col0\" class=\"data row0 col0\" >100000</td>\n",
       "                        <td id=\"T_8edc19d4_e382_11e9_9538_fbbb7bafb278row0_col1\" class=\"data row0 col1\" >10</td>\n",
       "                        <td id=\"T_8edc19d4_e382_11e9_9538_fbbb7bafb278row0_col2\" class=\"data row0 col2\" >2</td>\n",
       "                        <td id=\"T_8edc19d4_e382_11e9_9538_fbbb7bafb278row0_col3\" class=\"data row0 col3\" >81.1949</td>\n",
       "                        <td id=\"T_8edc19d4_e382_11e9_9538_fbbb7bafb278row0_col4\" class=\"data row0 col4\" >82.4253</td>\n",
       "                        <td id=\"T_8edc19d4_e382_11e9_9538_fbbb7bafb278row0_col5\" class=\"data row0 col5\" >82.3882</td>\n",
       "                        <td id=\"T_8edc19d4_e382_11e9_9538_fbbb7bafb278row0_col6\" class=\"data row0 col6\" >82.1495</td>\n",
       "                        <td id=\"T_8edc19d4_e382_11e9_9538_fbbb7bafb278row0_col7\" class=\"data row0 col7\" >82.8277</td>\n",
       "                        <td id=\"T_8edc19d4_e382_11e9_9538_fbbb7bafb278row0_col8\" class=\"data row0 col8\" >81.3847</td>\n",
       "                        <td id=\"T_8edc19d4_e382_11e9_9538_fbbb7bafb278row0_col9\" class=\"data row0 col9\" >81.7748</td>\n",
       "                        <td id=\"T_8edc19d4_e382_11e9_9538_fbbb7bafb278row0_col10\" class=\"data row0 col10\" >82.2215</td>\n",
       "                        <td id=\"T_8edc19d4_e382_11e9_9538_fbbb7bafb278row0_col11\" class=\"data row0 col11\" >47.7269</td>\n",
       "            </tr>\n",
       "            <tr>\n",
       "                        <th id=\"T_8edc19d4_e382_11e9_9538_fbbb7bafb278level0_row1\" class=\"row_heading level0 row1\" >482</th>\n",
       "                        <td id=\"T_8edc19d4_e382_11e9_9538_fbbb7bafb278row1_col0\" class=\"data row1 col0\" >100000</td>\n",
       "                        <td id=\"T_8edc19d4_e382_11e9_9538_fbbb7bafb278row1_col1\" class=\"data row1 col1\" >10</td>\n",
       "                        <td id=\"T_8edc19d4_e382_11e9_9538_fbbb7bafb278row1_col2\" class=\"data row1 col2\" >10</td>\n",
       "                        <td id=\"T_8edc19d4_e382_11e9_9538_fbbb7bafb278row1_col3\" class=\"data row1 col3\" >164.645</td>\n",
       "                        <td id=\"T_8edc19d4_e382_11e9_9538_fbbb7bafb278row1_col4\" class=\"data row1 col4\" >165.55</td>\n",
       "                        <td id=\"T_8edc19d4_e382_11e9_9538_fbbb7bafb278row1_col5\" class=\"data row1 col5\" >166.772</td>\n",
       "                        <td id=\"T_8edc19d4_e382_11e9_9538_fbbb7bafb278row1_col6\" class=\"data row1 col6\" >166.439</td>\n",
       "                        <td id=\"T_8edc19d4_e382_11e9_9538_fbbb7bafb278row1_col7\" class=\"data row1 col7\" >165.926</td>\n",
       "                        <td id=\"T_8edc19d4_e382_11e9_9538_fbbb7bafb278row1_col8\" class=\"data row1 col8\" >164.243</td>\n",
       "                        <td id=\"T_8edc19d4_e382_11e9_9538_fbbb7bafb278row1_col9\" class=\"data row1 col9\" >164.987</td>\n",
       "                        <td id=\"T_8edc19d4_e382_11e9_9538_fbbb7bafb278row1_col10\" class=\"data row1 col10\" >165.705</td>\n",
       "                        <td id=\"T_8edc19d4_e382_11e9_9538_fbbb7bafb278row1_col11\" class=\"data row1 col11\" >113.13</td>\n",
       "            </tr>\n",
       "            <tr>\n",
       "                        <th id=\"T_8edc19d4_e382_11e9_9538_fbbb7bafb278level0_row2\" class=\"row_heading level0 row2\" >483</th>\n",
       "                        <td id=\"T_8edc19d4_e382_11e9_9538_fbbb7bafb278row2_col0\" class=\"data row2 col0\" >100000</td>\n",
       "                        <td id=\"T_8edc19d4_e382_11e9_9538_fbbb7bafb278row2_col1\" class=\"data row2 col1\" >100</td>\n",
       "                        <td id=\"T_8edc19d4_e382_11e9_9538_fbbb7bafb278row2_col2\" class=\"data row2 col2\" >2</td>\n",
       "                        <td id=\"T_8edc19d4_e382_11e9_9538_fbbb7bafb278row2_col3\" class=\"data row2 col3\" >8186.58</td>\n",
       "                        <td id=\"T_8edc19d4_e382_11e9_9538_fbbb7bafb278row2_col4\" class=\"data row2 col4\" >8193.86</td>\n",
       "                        <td id=\"T_8edc19d4_e382_11e9_9538_fbbb7bafb278row2_col5\" class=\"data row2 col5\" >8200.25</td>\n",
       "                        <td id=\"T_8edc19d4_e382_11e9_9538_fbbb7bafb278row2_col6\" class=\"data row2 col6\" >8200.04</td>\n",
       "                        <td id=\"T_8edc19d4_e382_11e9_9538_fbbb7bafb278row2_col7\" class=\"data row2 col7\" >8196.47</td>\n",
       "                        <td id=\"T_8edc19d4_e382_11e9_9538_fbbb7bafb278row2_col8\" class=\"data row2 col8\" >8177.81</td>\n",
       "                        <td id=\"T_8edc19d4_e382_11e9_9538_fbbb7bafb278row2_col9\" class=\"data row2 col9\" >8182.08</td>\n",
       "                        <td id=\"T_8edc19d4_e382_11e9_9538_fbbb7bafb278row2_col10\" class=\"data row2 col10\" >8187.02</td>\n",
       "                        <td id=\"T_8edc19d4_e382_11e9_9538_fbbb7bafb278row2_col11\" class=\"data row2 col11\" >5161.58</td>\n",
       "            </tr>\n",
       "            <tr>\n",
       "                        <th id=\"T_8edc19d4_e382_11e9_9538_fbbb7bafb278level0_row3\" class=\"row_heading level0 row3\" >497</th>\n",
       "                        <td id=\"T_8edc19d4_e382_11e9_9538_fbbb7bafb278row3_col0\" class=\"data row3 col0\" >100000</td>\n",
       "                        <td id=\"T_8edc19d4_e382_11e9_9538_fbbb7bafb278row3_col1\" class=\"data row3 col1\" >100</td>\n",
       "                        <td id=\"T_8edc19d4_e382_11e9_9538_fbbb7bafb278row3_col2\" class=\"data row3 col2\" >10</td>\n",
       "                        <td id=\"T_8edc19d4_e382_11e9_9538_fbbb7bafb278row3_col3\" class=\"data row3 col3\" >16931.2</td>\n",
       "                        <td id=\"T_8edc19d4_e382_11e9_9538_fbbb7bafb278row3_col4\" class=\"data row3 col4\" >16937.9</td>\n",
       "                        <td id=\"T_8edc19d4_e382_11e9_9538_fbbb7bafb278row3_col5\" class=\"data row3 col5\" >16934</td>\n",
       "                        <td id=\"T_8edc19d4_e382_11e9_9538_fbbb7bafb278row3_col6\" class=\"data row3 col6\" >16942.4</td>\n",
       "                        <td id=\"T_8edc19d4_e382_11e9_9538_fbbb7bafb278row3_col7\" class=\"data row3 col7\" >16934.2</td>\n",
       "                        <td id=\"T_8edc19d4_e382_11e9_9538_fbbb7bafb278row3_col8\" class=\"data row3 col8\" >16904.3</td>\n",
       "                        <td id=\"T_8edc19d4_e382_11e9_9538_fbbb7bafb278row3_col9\" class=\"data row3 col9\" >16910.2</td>\n",
       "                        <td id=\"T_8edc19d4_e382_11e9_9538_fbbb7bafb278row3_col10\" class=\"data row3 col10\" >16916.5</td>\n",
       "                        <td id=\"T_8edc19d4_e382_11e9_9538_fbbb7bafb278row3_col11\" class=\"data row3 col11\" >12625</td>\n",
       "            </tr>\n",
       "    </tbody></table>"
      ],
      "text/plain": [
       "<pandas.io.formats.style.Styler at 0x7f6c29de8fd0>"
      ]
     },
     "execution_count": 22,
     "metadata": {},
     "output_type": "execute_result"
    }
   ],
   "source": [
    "# full, alpha = 0.95\n",
    "f = np.mean\n",
    "df = qs.project(on=[\"config.nvec\", \"config.nsel\", \"config.dim\", \n",
    "               {\"metrics.ge10\": f},\n",
    "               {\"metrics.ge30\": f},\n",
    "               {\"metrics.ge50\": f},\n",
    "               {\"metrics.ge70\": f},\n",
    "               {\"metrics.ge95\": f},\n",
    "               {\"metrics.gv_min\": f},\n",
    "               {\"metrics.gv_ave\": f},\n",
    "               {\"metrics.gv_max\": f},\n",
    "               {\"metrics.rn\": f},\n",
    "              ])\n",
    "h = partial(highlight_max_min, start=3)\n",
    "df.style.apply(h, axis=1)"
   ]
  },
  {
   "cell_type": "code",
   "execution_count": 23,
   "metadata": {},
   "outputs": [
    {
     "name": "stdout",
     "output_type": "stream",
     "text": [
      "\\begin{tabular}{llrrrrrrrrrr}\n",
      "\\toprule\n",
      "{} & Dataset &       N &    P &   D &  GEmin &  GEavg &  GEmax &  GVmin &  GVavg &  GVmax &     RN \\\\\n",
      "exp\\_id &         &         &      &     &        &        &        &        &        &        &        \\\\\n",
      "\\midrule\n",
      "481    &  random &  100000 &   10 &   2 &  0.980 &  0.992 &    1.0 &  0.983 &  0.987 &  0.993 &  0.576 \\\\\n",
      "482    &  random &  100000 &   10 &  10 &  0.987 &  0.995 &    1.0 &  0.985 &  0.989 &  0.994 &  0.678 \\\\\n",
      "483    &  random &  100000 &  100 &   2 &  0.998 &  0.999 &    1.0 &  0.997 &  0.998 &  0.998 &  0.629 \\\\\n",
      "497    &  random &  100000 &  100 &  10 &  0.999 &  1.000 &    1.0 &  0.998 &  0.998 &  0.998 &  0.745 \\\\\n",
      "\\bottomrule\n",
      "\\end{tabular}\n",
      "\n"
     ]
    }
   ],
   "source": [
    "df = util.aggregate_tbl(df, names=['ge'])\n",
    "df = util.relative_tbl(df, beg=3)\n",
    "df.columns = list(map(lambda x: md[x] if x in md else x, df.columns))\n",
    "df.insert(0, column='Dataset', value=['random']*len(df))\n",
    "print(df.round(3).to_latex())"
   ]
  }
 ],
 "metadata": {
  "kernelspec": {
   "display_name": "Python 3",
   "language": "python",
   "name": "python3"
  },
  "language_info": {
   "codemirror_mode": {
    "name": "ipython",
    "version": 3
   },
   "file_extension": ".py",
   "mimetype": "text/x-python",
   "name": "python",
   "nbconvert_exporter": "python",
   "pygments_lexer": "ipython3",
   "version": "3.7.4"
  },
  "toc": {
   "base_numbering": 1,
   "nav_menu": {},
   "number_sections": true,
   "sideBar": true,
   "skip_h1_title": false,
   "title_cell": "Table of Contents",
   "title_sidebar": "Contents",
   "toc_cell": false,
   "toc_position": {
    "height": "calc(100% - 180px)",
    "left": "10px",
    "top": "150px",
    "width": "165px"
   },
   "toc_section_display": true,
   "toc_window_display": true
  }
 },
 "nbformat": 4,
 "nbformat_minor": 2
}
