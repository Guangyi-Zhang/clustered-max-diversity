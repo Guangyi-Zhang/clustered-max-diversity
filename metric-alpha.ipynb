{
 "cells": [
  {
   "cell_type": "code",
   "execution_count": 6,
   "metadata": {},
   "outputs": [
    {
     "name": "stdout",
     "output_type": "stream",
     "text": [
      "The autoreload extension is already loaded. To reload it, use:\n",
      "  %reload_ext autoreload\n"
     ]
    }
   ],
   "source": [
    "%load_ext autoreload\n",
    "%autoreload 2\n",
    "\n",
    "import numpy as np\n",
    "import matplotlib.pyplot as plt\n",
    "import matplotlib.cm as cm\n",
    "from os import path\n",
    "import pickle\n",
    "import itertools\n",
    "from functools import partial\n",
    "import pprint\n",
    "pp = pprint.PrettyPrinter(indent=4)\n",
    "\n",
    "import intra\n",
    "import util\n",
    "from util import md, highlight_max_min\n",
    "from experiment import new_exp, get_loader, run_once, run_permutation"
   ]
  },
  {
   "cell_type": "code",
   "execution_count": 3,
   "metadata": {},
   "outputs": [],
   "source": [
    "loader = get_loader()"
   ]
  },
  {
   "cell_type": "code",
   "execution_count": 4,
   "metadata": {},
   "outputs": [],
   "source": [
    "ver = 7"
   ]
  },
  {
   "cell_type": "markdown",
   "metadata": {},
   "source": [
    "# Clusters"
   ]
  },
  {
   "cell_type": "code",
   "execution_count": 7,
   "metadata": {
    "scrolled": true
   },
   "outputs": [
    {
     "name": "stdout",
     "output_type": "stream",
     "text": [
      "{   'alphas': [0.1, 0.3, 0.5, 0.7, 0.95],\n",
      "    'dataset': 'prototype-alpha-v7',\n",
      "    'dim': 2,\n",
      "    'ncls': 10,\n",
      "    'noise': 0.1,\n",
      "    'nsel': 10,\n",
      "    'nvec': 1000,\n",
      "    'which': 'proto',\n",
      "    'whichalgo': 'GE'}\n"
     ]
    },
    {
     "name": "stderr",
     "output_type": "stream",
     "text": [
      "/u/67/zhangg1/unix/.local/lib/python3.7/site-packages/sacred/experiment.py:566: UserWarning: Subclassing `CommandLineOption` is deprecated. Please use the `sacred.cli_option` decorator and pass the function to the Experiment constructor.\n",
      "  \"Subclassing `CommandLineOption` is deprecated. Please \"\n",
      "/u/67/zhangg1/unix/.local/lib/python3.7/site-packages/sacred/experiment.py:566: UserWarning: Subclassing `CommandLineOption` is deprecated. Please use the `sacred.cli_option` decorator and pass the function to the Experiment constructor.\n",
      "  \"Subclassing `CommandLineOption` is deprecated. Please \"\n",
      "INFO - jupyter_ex - Running command 'my_main'\n",
      "INFO - jupyter_ex - Started run with ID \"423\"\n"
     ]
    },
    {
     "name": "stdout",
     "output_type": "stream",
     "text": [
      "nvec, ncls: 1000 10\n",
      "ge10: 30.37\n",
      "ge30: 30.46\n",
      "ge50: 30.54\n",
      "ge70: 30.55\n"
     ]
    },
    {
     "name": "stderr",
     "output_type": "stream",
     "text": [
      "INFO - jupyter_ex - Completed after 0:00:02\n"
     ]
    },
    {
     "name": "stdout",
     "output_type": "stream",
     "text": [
      "ge95: 30.61\n",
      "{   'alphas': [0.1, 0.3, 0.5, 0.7, 0.95],\n",
      "    'dataset': 'prototype-alpha-v7',\n",
      "    'dim': 2,\n",
      "    'ncls': 10,\n",
      "    'noise': 0.1,\n",
      "    'nsel': 100,\n",
      "    'nvec': 1000,\n",
      "    'which': 'proto',\n",
      "    'whichalgo': 'GE'}\n"
     ]
    },
    {
     "name": "stderr",
     "output_type": "stream",
     "text": [
      "/u/67/zhangg1/unix/.local/lib/python3.7/site-packages/sacred/experiment.py:566: UserWarning: Subclassing `CommandLineOption` is deprecated. Please use the `sacred.cli_option` decorator and pass the function to the Experiment constructor.\n",
      "  \"Subclassing `CommandLineOption` is deprecated. Please \"\n",
      "/u/67/zhangg1/unix/.local/lib/python3.7/site-packages/sacred/experiment.py:566: UserWarning: Subclassing `CommandLineOption` is deprecated. Please use the `sacred.cli_option` decorator and pass the function to the Experiment constructor.\n",
      "  \"Subclassing `CommandLineOption` is deprecated. Please \"\n",
      "INFO - jupyter_ex - Running command 'my_main'\n",
      "INFO - jupyter_ex - Started run with ID \"424\"\n"
     ]
    },
    {
     "name": "stdout",
     "output_type": "stream",
     "text": [
      "nvec, ncls: 1000 10\n",
      "Warning: less selections than specified 964/1000\n",
      "ge10: 1629.72\n",
      "Warning: less selections than specified 992/1000\n",
      "ge30: 1716.10\n",
      "Warning: less selections than specified 988/1000\n",
      "ge50: 1708.20\n",
      "Warning: less selections than specified 984/1000\n",
      "ge70: 1696.72\n"
     ]
    },
    {
     "name": "stderr",
     "output_type": "stream",
     "text": [
      "INFO - jupyter_ex - Completed after 0:00:21\n"
     ]
    },
    {
     "name": "stdout",
     "output_type": "stream",
     "text": [
      "Warning: less selections than specified 992/1000\n",
      "ge95: 1719.27\n",
      "{   'alphas': [0.1, 0.3, 0.5, 0.7, 0.95],\n",
      "    'dataset': 'prototype-alpha-v7',\n",
      "    'dim': 2,\n",
      "    'ncls': 10,\n",
      "    'noise': 0.1,\n",
      "    'nsel': 10,\n",
      "    'nvec': 10000,\n",
      "    'which': 'proto',\n",
      "    'whichalgo': 'GE'}\n"
     ]
    },
    {
     "name": "stderr",
     "output_type": "stream",
     "text": [
      "/u/67/zhangg1/unix/.local/lib/python3.7/site-packages/sacred/experiment.py:566: UserWarning: Subclassing `CommandLineOption` is deprecated. Please use the `sacred.cli_option` decorator and pass the function to the Experiment constructor.\n",
      "  \"Subclassing `CommandLineOption` is deprecated. Please \"\n",
      "/u/67/zhangg1/unix/.local/lib/python3.7/site-packages/sacred/experiment.py:566: UserWarning: Subclassing `CommandLineOption` is deprecated. Please use the `sacred.cli_option` decorator and pass the function to the Experiment constructor.\n",
      "  \"Subclassing `CommandLineOption` is deprecated. Please \"\n",
      "INFO - jupyter_ex - Running command 'my_main'\n",
      "INFO - jupyter_ex - Started run with ID \"425\"\n"
     ]
    },
    {
     "name": "stdout",
     "output_type": "stream",
     "text": [
      "nvec, ncls: 10000 10\n",
      "ge10: 39.42\n",
      "ge30: 39.65\n",
      "ge50: 39.52\n",
      "ge70: 39.80\n"
     ]
    },
    {
     "name": "stderr",
     "output_type": "stream",
     "text": [
      "INFO - jupyter_ex - Completed after 0:00:03\n"
     ]
    },
    {
     "name": "stdout",
     "output_type": "stream",
     "text": [
      "ge95: 39.65\n",
      "{   'alphas': [0.1, 0.3, 0.5, 0.7, 0.95],\n",
      "    'dataset': 'prototype-alpha-v7',\n",
      "    'dim': 2,\n",
      "    'ncls': 10,\n",
      "    'noise': 0.1,\n",
      "    'nsel': 100,\n",
      "    'nvec': 10000,\n",
      "    'which': 'proto',\n",
      "    'whichalgo': 'GE'}\n"
     ]
    },
    {
     "name": "stderr",
     "output_type": "stream",
     "text": [
      "/u/67/zhangg1/unix/.local/lib/python3.7/site-packages/sacred/experiment.py:566: UserWarning: Subclassing `CommandLineOption` is deprecated. Please use the `sacred.cli_option` decorator and pass the function to the Experiment constructor.\n",
      "  \"Subclassing `CommandLineOption` is deprecated. Please \"\n",
      "/u/67/zhangg1/unix/.local/lib/python3.7/site-packages/sacred/experiment.py:566: UserWarning: Subclassing `CommandLineOption` is deprecated. Please use the `sacred.cli_option` decorator and pass the function to the Experiment constructor.\n",
      "  \"Subclassing `CommandLineOption` is deprecated. Please \"\n",
      "INFO - jupyter_ex - Running command 'my_main'\n",
      "INFO - jupyter_ex - Started run with ID \"426\"\n"
     ]
    },
    {
     "name": "stdout",
     "output_type": "stream",
     "text": [
      "nvec, ncls: 10000 10\n",
      "ge10: 3264.92\n",
      "ge30: 3265.41\n",
      "ge50: 3264.55\n",
      "ge70: 3267.61\n"
     ]
    },
    {
     "name": "stderr",
     "output_type": "stream",
     "text": [
      "INFO - jupyter_ex - Completed after 0:00:41\n"
     ]
    },
    {
     "name": "stdout",
     "output_type": "stream",
     "text": [
      "ge95: 3267.94\n"
     ]
    }
   ],
   "source": [
    "ex = new_exp()\n",
    "    \n",
    "# r = ex.run()\n",
    "for nvec, ncls, noise, nsel, dim, alphas in itertools.product([1000,10000], \n",
    "                                                        [10],\n",
    "                                                        [0.1], \n",
    "                                                        [10,100],\n",
    "                                                        [2],\n",
    "                                                        [[0.1, 0.3, 0.5, 0.7, 0.95]]):\n",
    "    conf = {'which': 'proto', \n",
    "        'whichalgo': 'GE',\n",
    "        'dataset': 'prototype-alpha-v{}'.format(ver), \n",
    "        'nvec': nvec, \n",
    "        'ncls': ncls, \n",
    "        'noise': noise, \n",
    "        'nsel': nsel, \n",
    "        'alphas': alphas,\n",
    "        'dim': dim}\n",
    "    pp.pprint(conf)\n",
    "    r = ex.run(config_updates=conf)"
   ]
  },
  {
   "cell_type": "code",
   "execution_count": 8,
   "metadata": {},
   "outputs": [],
   "source": [
    "# loader.find_latest().to_dict()\n",
    "\n",
    "query = {\"$and\": [\n",
    "    {\"status\": 'COMPLETED'},\n",
    "    {\"config.dataset\": 'prototype-alpha-v{}'.format(ver)},\n",
    "        ]}\n",
    "qs = loader.find(query)"
   ]
  },
  {
   "cell_type": "code",
   "execution_count": 9,
   "metadata": {},
   "outputs": [
    {
     "data": {
      "text/html": [
       "<style  type=\"text/css\" >\n",
       "    #T_bf4df668_e1cb_11e9_9ed6_432cd2bceb44row0_col3 {\n",
       "            color:  red;\n",
       "        }    #T_bf4df668_e1cb_11e9_9ed6_432cd2bceb44row0_col7 {\n",
       "            color:  green;\n",
       "        }    #T_bf4df668_e1cb_11e9_9ed6_432cd2bceb44row1_col3 {\n",
       "            color:  red;\n",
       "        }    #T_bf4df668_e1cb_11e9_9ed6_432cd2bceb44row1_col7 {\n",
       "            color:  green;\n",
       "        }    #T_bf4df668_e1cb_11e9_9ed6_432cd2bceb44row2_col3 {\n",
       "            color:  red;\n",
       "        }    #T_bf4df668_e1cb_11e9_9ed6_432cd2bceb44row2_col6 {\n",
       "            color:  green;\n",
       "        }    #T_bf4df668_e1cb_11e9_9ed6_432cd2bceb44row3_col5 {\n",
       "            color:  red;\n",
       "        }    #T_bf4df668_e1cb_11e9_9ed6_432cd2bceb44row3_col7 {\n",
       "            color:  green;\n",
       "        }</style><table id=\"T_bf4df668_e1cb_11e9_9ed6_432cd2bceb44\" ><thead>    <tr>        <th class=\"blank level0\" ></th>        <th class=\"col_heading level0 col0\" >nvec</th>        <th class=\"col_heading level0 col1\" >nsel</th>        <th class=\"col_heading level0 col2\" >dim</th>        <th class=\"col_heading level0 col3\" >ge10_mean</th>        <th class=\"col_heading level0 col4\" >ge30_mean</th>        <th class=\"col_heading level0 col5\" >ge50_mean</th>        <th class=\"col_heading level0 col6\" >ge70_mean</th>        <th class=\"col_heading level0 col7\" >ge95_mean</th>    </tr>    <tr>        <th class=\"index_name level0\" >exp_id</th>        <th class=\"blank\" ></th>        <th class=\"blank\" ></th>        <th class=\"blank\" ></th>        <th class=\"blank\" ></th>        <th class=\"blank\" ></th>        <th class=\"blank\" ></th>        <th class=\"blank\" ></th>        <th class=\"blank\" ></th>    </tr></thead><tbody>\n",
       "                <tr>\n",
       "                        <th id=\"T_bf4df668_e1cb_11e9_9ed6_432cd2bceb44level0_row0\" class=\"row_heading level0 row0\" >423</th>\n",
       "                        <td id=\"T_bf4df668_e1cb_11e9_9ed6_432cd2bceb44row0_col0\" class=\"data row0 col0\" >1000</td>\n",
       "                        <td id=\"T_bf4df668_e1cb_11e9_9ed6_432cd2bceb44row0_col1\" class=\"data row0 col1\" >10</td>\n",
       "                        <td id=\"T_bf4df668_e1cb_11e9_9ed6_432cd2bceb44row0_col2\" class=\"data row0 col2\" >2</td>\n",
       "                        <td id=\"T_bf4df668_e1cb_11e9_9ed6_432cd2bceb44row0_col3\" class=\"data row0 col3\" >30.3708</td>\n",
       "                        <td id=\"T_bf4df668_e1cb_11e9_9ed6_432cd2bceb44row0_col4\" class=\"data row0 col4\" >30.4642</td>\n",
       "                        <td id=\"T_bf4df668_e1cb_11e9_9ed6_432cd2bceb44row0_col5\" class=\"data row0 col5\" >30.5385</td>\n",
       "                        <td id=\"T_bf4df668_e1cb_11e9_9ed6_432cd2bceb44row0_col6\" class=\"data row0 col6\" >30.5481</td>\n",
       "                        <td id=\"T_bf4df668_e1cb_11e9_9ed6_432cd2bceb44row0_col7\" class=\"data row0 col7\" >30.6146</td>\n",
       "            </tr>\n",
       "            <tr>\n",
       "                        <th id=\"T_bf4df668_e1cb_11e9_9ed6_432cd2bceb44level0_row1\" class=\"row_heading level0 row1\" >424</th>\n",
       "                        <td id=\"T_bf4df668_e1cb_11e9_9ed6_432cd2bceb44row1_col0\" class=\"data row1 col0\" >1000</td>\n",
       "                        <td id=\"T_bf4df668_e1cb_11e9_9ed6_432cd2bceb44row1_col1\" class=\"data row1 col1\" >100</td>\n",
       "                        <td id=\"T_bf4df668_e1cb_11e9_9ed6_432cd2bceb44row1_col2\" class=\"data row1 col2\" >2</td>\n",
       "                        <td id=\"T_bf4df668_e1cb_11e9_9ed6_432cd2bceb44row1_col3\" class=\"data row1 col3\" >1629.72</td>\n",
       "                        <td id=\"T_bf4df668_e1cb_11e9_9ed6_432cd2bceb44row1_col4\" class=\"data row1 col4\" >1716.1</td>\n",
       "                        <td id=\"T_bf4df668_e1cb_11e9_9ed6_432cd2bceb44row1_col5\" class=\"data row1 col5\" >1708.2</td>\n",
       "                        <td id=\"T_bf4df668_e1cb_11e9_9ed6_432cd2bceb44row1_col6\" class=\"data row1 col6\" >1696.72</td>\n",
       "                        <td id=\"T_bf4df668_e1cb_11e9_9ed6_432cd2bceb44row1_col7\" class=\"data row1 col7\" >1719.27</td>\n",
       "            </tr>\n",
       "            <tr>\n",
       "                        <th id=\"T_bf4df668_e1cb_11e9_9ed6_432cd2bceb44level0_row2\" class=\"row_heading level0 row2\" >425</th>\n",
       "                        <td id=\"T_bf4df668_e1cb_11e9_9ed6_432cd2bceb44row2_col0\" class=\"data row2 col0\" >10000</td>\n",
       "                        <td id=\"T_bf4df668_e1cb_11e9_9ed6_432cd2bceb44row2_col1\" class=\"data row2 col1\" >10</td>\n",
       "                        <td id=\"T_bf4df668_e1cb_11e9_9ed6_432cd2bceb44row2_col2\" class=\"data row2 col2\" >2</td>\n",
       "                        <td id=\"T_bf4df668_e1cb_11e9_9ed6_432cd2bceb44row2_col3\" class=\"data row2 col3\" >39.4181</td>\n",
       "                        <td id=\"T_bf4df668_e1cb_11e9_9ed6_432cd2bceb44row2_col4\" class=\"data row2 col4\" >39.6465</td>\n",
       "                        <td id=\"T_bf4df668_e1cb_11e9_9ed6_432cd2bceb44row2_col5\" class=\"data row2 col5\" >39.5202</td>\n",
       "                        <td id=\"T_bf4df668_e1cb_11e9_9ed6_432cd2bceb44row2_col6\" class=\"data row2 col6\" >39.7979</td>\n",
       "                        <td id=\"T_bf4df668_e1cb_11e9_9ed6_432cd2bceb44row2_col7\" class=\"data row2 col7\" >39.6492</td>\n",
       "            </tr>\n",
       "            <tr>\n",
       "                        <th id=\"T_bf4df668_e1cb_11e9_9ed6_432cd2bceb44level0_row3\" class=\"row_heading level0 row3\" >426</th>\n",
       "                        <td id=\"T_bf4df668_e1cb_11e9_9ed6_432cd2bceb44row3_col0\" class=\"data row3 col0\" >10000</td>\n",
       "                        <td id=\"T_bf4df668_e1cb_11e9_9ed6_432cd2bceb44row3_col1\" class=\"data row3 col1\" >100</td>\n",
       "                        <td id=\"T_bf4df668_e1cb_11e9_9ed6_432cd2bceb44row3_col2\" class=\"data row3 col2\" >2</td>\n",
       "                        <td id=\"T_bf4df668_e1cb_11e9_9ed6_432cd2bceb44row3_col3\" class=\"data row3 col3\" >3264.92</td>\n",
       "                        <td id=\"T_bf4df668_e1cb_11e9_9ed6_432cd2bceb44row3_col4\" class=\"data row3 col4\" >3265.41</td>\n",
       "                        <td id=\"T_bf4df668_e1cb_11e9_9ed6_432cd2bceb44row3_col5\" class=\"data row3 col5\" >3264.55</td>\n",
       "                        <td id=\"T_bf4df668_e1cb_11e9_9ed6_432cd2bceb44row3_col6\" class=\"data row3 col6\" >3267.61</td>\n",
       "                        <td id=\"T_bf4df668_e1cb_11e9_9ed6_432cd2bceb44row3_col7\" class=\"data row3 col7\" >3267.94</td>\n",
       "            </tr>\n",
       "    </tbody></table>"
      ],
      "text/plain": [
       "<pandas.io.formats.style.Styler at 0x7fac02b24390>"
      ]
     },
     "execution_count": 9,
     "metadata": {},
     "output_type": "execute_result"
    }
   ],
   "source": [
    "f = np.mean\n",
    "df = qs.project(on=[\"config.nvec\", \"config.nsel\", \"config.dim\", \n",
    "               {\"metrics.ge10\": f},\n",
    "               {\"metrics.ge30\": f},\n",
    "               {\"metrics.ge50\": f},\n",
    "               {\"metrics.ge70\": f},\n",
    "               {\"metrics.ge95\": f},\n",
    "              ])\n",
    "h = partial(highlight_max_min, start=3)\n",
    "df.style.apply(h, axis=1)"
   ]
  },
  {
   "cell_type": "code",
   "execution_count": 10,
   "metadata": {},
   "outputs": [
    {
     "name": "stdout",
     "output_type": "stream",
     "text": [
      "\\begin{tabular}{llrrrrrrrr}\n",
      "\\toprule\n",
      "{} & Dataset &      N &    P &  D &  alpha=0.1 &  alpha=0.3 &  alpha=0.5 &  alpha=0.7 &  alpha=0.95 \\\\\n",
      "exp\\_id &         &        &      &    &            &            &            &            &             \\\\\n",
      "\\midrule\n",
      "423    &   proto &   1000 &   10 &  2 &      0.992 &      0.995 &      0.998 &      0.998 &       1.000 \\\\\n",
      "424    &   proto &   1000 &  100 &  2 &      0.948 &      0.998 &      0.994 &      0.987 &       1.000 \\\\\n",
      "425    &   proto &  10000 &   10 &  2 &      0.990 &      0.996 &      0.993 &      1.000 &       0.996 \\\\\n",
      "426    &   proto &  10000 &  100 &  2 &      0.999 &      0.999 &      0.999 &      1.000 &       1.000 \\\\\n",
      "\\bottomrule\n",
      "\\end{tabular}\n",
      "\n"
     ]
    }
   ],
   "source": [
    "df = util.relative_tbl(df, beg=3)\n",
    "df.columns = list(map(lambda x: md[x] if x in md else x, df.columns))\n",
    "df.insert(0, column='Dataset', value=['proto']*len(df))\n",
    "print(df.round(3).to_latex())"
   ]
  },
  {
   "cell_type": "markdown",
   "metadata": {},
   "source": [
    "# Random"
   ]
  },
  {
   "cell_type": "code",
   "execution_count": 11,
   "metadata": {
    "scrolled": true
   },
   "outputs": [
    {
     "name": "stdout",
     "output_type": "stream",
     "text": [
      "{   'alphas': [0.1, 0.3, 0.5, 0.7, 0.95],\n",
      "    'dataset': 'random-alpha-v7',\n",
      "    'dim': 2,\n",
      "    'ncls': 10,\n",
      "    'ncls_per_vec': 5,\n",
      "    'nsel': 10,\n",
      "    'nvec': 1000,\n",
      "    'which': 'random',\n",
      "    'whichalgo': 'GE'}\n"
     ]
    },
    {
     "name": "stderr",
     "output_type": "stream",
     "text": [
      "/u/67/zhangg1/unix/.local/lib/python3.7/site-packages/sacred/experiment.py:566: UserWarning: Subclassing `CommandLineOption` is deprecated. Please use the `sacred.cli_option` decorator and pass the function to the Experiment constructor.\n",
      "  \"Subclassing `CommandLineOption` is deprecated. Please \"\n",
      "/u/67/zhangg1/unix/.local/lib/python3.7/site-packages/sacred/experiment.py:566: UserWarning: Subclassing `CommandLineOption` is deprecated. Please use the `sacred.cli_option` decorator and pass the function to the Experiment constructor.\n",
      "  \"Subclassing `CommandLineOption` is deprecated. Please \"\n",
      "INFO - jupyter_ex - Running command 'my_main'\n",
      "INFO - jupyter_ex - Started run with ID \"427\"\n"
     ]
    },
    {
     "name": "stdout",
     "output_type": "stream",
     "text": [
      "nvec, ncls: 1000 10\n",
      "ge10: 73.22\n",
      "ge30: 73.04\n",
      "ge50: 73.10\n"
     ]
    },
    {
     "name": "stderr",
     "output_type": "stream",
     "text": [
      "INFO - jupyter_ex - Completed after 0:00:02\n"
     ]
    },
    {
     "name": "stdout",
     "output_type": "stream",
     "text": [
      "ge70: 73.11\n",
      "ge95: 73.51\n",
      "{   'alphas': [0.1, 0.3, 0.5, 0.7, 0.95],\n",
      "    'dataset': 'random-alpha-v7',\n",
      "    'dim': 2,\n",
      "    'ncls': 10,\n",
      "    'ncls_per_vec': 5,\n",
      "    'nsel': 100,\n",
      "    'nvec': 1000,\n",
      "    'which': 'random',\n",
      "    'whichalgo': 'GE'}\n"
     ]
    },
    {
     "name": "stderr",
     "output_type": "stream",
     "text": [
      "/u/67/zhangg1/unix/.local/lib/python3.7/site-packages/sacred/experiment.py:566: UserWarning: Subclassing `CommandLineOption` is deprecated. Please use the `sacred.cli_option` decorator and pass the function to the Experiment constructor.\n",
      "  \"Subclassing `CommandLineOption` is deprecated. Please \"\n",
      "/u/67/zhangg1/unix/.local/lib/python3.7/site-packages/sacred/experiment.py:566: UserWarning: Subclassing `CommandLineOption` is deprecated. Please use the `sacred.cli_option` decorator and pass the function to the Experiment constructor.\n",
      "  \"Subclassing `CommandLineOption` is deprecated. Please \"\n",
      "INFO - jupyter_ex - Running command 'my_main'\n",
      "INFO - jupyter_ex - Started run with ID \"428\"\n"
     ]
    },
    {
     "name": "stdout",
     "output_type": "stream",
     "text": [
      "nvec, ncls: 1000 10\n",
      "Warning: less selections than specified 988/1000\n",
      "ge10: 5070.38\n",
      "Warning: less selections than specified 974/1000\n",
      "ge30: 4950.74\n",
      "Warning: less selections than specified 964/1000\n",
      "ge50: 4892.23\n",
      "Warning: less selections than specified 966/1000\n",
      "ge70: 4889.88\n"
     ]
    },
    {
     "name": "stderr",
     "output_type": "stream",
     "text": [
      "INFO - jupyter_ex - Completed after 0:00:18\n"
     ]
    },
    {
     "name": "stdout",
     "output_type": "stream",
     "text": [
      "Warning: less selections than specified 986/1000\n",
      "ge95: 5085.62\n",
      "{   'alphas': [0.1, 0.3, 0.5, 0.7, 0.95],\n",
      "    'dataset': 'random-alpha-v7',\n",
      "    'dim': 2,\n",
      "    'ncls': 10,\n",
      "    'ncls_per_vec': 5,\n",
      "    'nsel': 10,\n",
      "    'nvec': 10000,\n",
      "    'which': 'random',\n",
      "    'whichalgo': 'GE'}\n"
     ]
    },
    {
     "name": "stderr",
     "output_type": "stream",
     "text": [
      "/u/67/zhangg1/unix/.local/lib/python3.7/site-packages/sacred/experiment.py:566: UserWarning: Subclassing `CommandLineOption` is deprecated. Please use the `sacred.cli_option` decorator and pass the function to the Experiment constructor.\n",
      "  \"Subclassing `CommandLineOption` is deprecated. Please \"\n",
      "/u/67/zhangg1/unix/.local/lib/python3.7/site-packages/sacred/experiment.py:566: UserWarning: Subclassing `CommandLineOption` is deprecated. Please use the `sacred.cli_option` decorator and pass the function to the Experiment constructor.\n",
      "  \"Subclassing `CommandLineOption` is deprecated. Please \"\n",
      "INFO - jupyter_ex - Running command 'my_main'\n",
      "INFO - jupyter_ex - Started run with ID \"429\"\n"
     ]
    },
    {
     "name": "stdout",
     "output_type": "stream",
     "text": [
      "nvec, ncls: 10000 10\n",
      "ge10: 79.61\n",
      "ge30: 79.43\n",
      "ge50: 79.91\n",
      "ge70: 79.86\n"
     ]
    },
    {
     "name": "stderr",
     "output_type": "stream",
     "text": [
      "INFO - jupyter_ex - Completed after 0:00:05\n"
     ]
    },
    {
     "name": "stdout",
     "output_type": "stream",
     "text": [
      "ge95: 80.11\n",
      "{   'alphas': [0.1, 0.3, 0.5, 0.7, 0.95],\n",
      "    'dataset': 'random-alpha-v7',\n",
      "    'dim': 2,\n",
      "    'ncls': 10,\n",
      "    'ncls_per_vec': 5,\n",
      "    'nsel': 100,\n",
      "    'nvec': 10000,\n",
      "    'which': 'random',\n",
      "    'whichalgo': 'GE'}\n"
     ]
    },
    {
     "name": "stderr",
     "output_type": "stream",
     "text": [
      "/u/67/zhangg1/unix/.local/lib/python3.7/site-packages/sacred/experiment.py:566: UserWarning: Subclassing `CommandLineOption` is deprecated. Please use the `sacred.cli_option` decorator and pass the function to the Experiment constructor.\n",
      "  \"Subclassing `CommandLineOption` is deprecated. Please \"\n",
      "/u/67/zhangg1/unix/.local/lib/python3.7/site-packages/sacred/experiment.py:566: UserWarning: Subclassing `CommandLineOption` is deprecated. Please use the `sacred.cli_option` decorator and pass the function to the Experiment constructor.\n",
      "  \"Subclassing `CommandLineOption` is deprecated. Please \"\n",
      "INFO - jupyter_ex - Running command 'my_main'\n",
      "INFO - jupyter_ex - Started run with ID \"430\"\n"
     ]
    },
    {
     "name": "stdout",
     "output_type": "stream",
     "text": [
      "nvec, ncls: 10000 10\n",
      "ge10: 7509.43\n",
      "ge30: 7514.26\n",
      "ge50: 7526.59\n",
      "ge70: 7514.60\n"
     ]
    },
    {
     "name": "stderr",
     "output_type": "stream",
     "text": [
      "INFO - jupyter_ex - Completed after 0:01:07\n"
     ]
    },
    {
     "name": "stdout",
     "output_type": "stream",
     "text": [
      "ge95: 7520.77\n"
     ]
    }
   ],
   "source": [
    "ex = new_exp()\n",
    "    \n",
    "# r = ex.run()\n",
    "for nvec, ncls, ncls_per_vec, nsel, dim, alphas in itertools.product([1000,10000], \n",
    "                                                        [10], \n",
    "                                                        [5], \n",
    "                                                        [10,100],\n",
    "                                                        [2],\n",
    "                                                        [[0.1, 0.3, 0.5, 0.7, 0.95]]):\n",
    "    conf = {'which': 'random', \n",
    "        'whichalgo': 'GE',\n",
    "        'dataset': 'random-alpha-v{}'.format(ver), \n",
    "        'nvec': nvec, \n",
    "        'ncls': ncls, \n",
    "        'ncls_per_vec': ncls_per_vec, \n",
    "        'nsel': nsel, \n",
    "        'alphas': alphas,\n",
    "        'dim': dim}\n",
    "    pp.pprint(conf)\n",
    "    r = ex.run(config_updates=conf)"
   ]
  },
  {
   "cell_type": "code",
   "execution_count": 12,
   "metadata": {},
   "outputs": [],
   "source": [
    "# loader.find_latest().to_dict()\n",
    "\n",
    "query = {\"$and\": [\n",
    "    {\"status\": 'COMPLETED'},\n",
    "    {\"config.dataset\": 'random-alpha-v{}'.format(ver)},\n",
    "        ]}\n",
    "qs = loader.find(query)"
   ]
  },
  {
   "cell_type": "code",
   "execution_count": 13,
   "metadata": {},
   "outputs": [
    {
     "data": {
      "text/html": [
       "<style  type=\"text/css\" >\n",
       "    #T_f80e0a7e_e1cb_11e9_9ed6_432cd2bceb44row0_col4 {\n",
       "            color:  red;\n",
       "        }    #T_f80e0a7e_e1cb_11e9_9ed6_432cd2bceb44row0_col7 {\n",
       "            color:  green;\n",
       "        }    #T_f80e0a7e_e1cb_11e9_9ed6_432cd2bceb44row1_col6 {\n",
       "            color:  red;\n",
       "        }    #T_f80e0a7e_e1cb_11e9_9ed6_432cd2bceb44row1_col7 {\n",
       "            color:  green;\n",
       "        }    #T_f80e0a7e_e1cb_11e9_9ed6_432cd2bceb44row2_col4 {\n",
       "            color:  red;\n",
       "        }    #T_f80e0a7e_e1cb_11e9_9ed6_432cd2bceb44row2_col7 {\n",
       "            color:  green;\n",
       "        }    #T_f80e0a7e_e1cb_11e9_9ed6_432cd2bceb44row3_col3 {\n",
       "            color:  red;\n",
       "        }    #T_f80e0a7e_e1cb_11e9_9ed6_432cd2bceb44row3_col5 {\n",
       "            color:  green;\n",
       "        }</style><table id=\"T_f80e0a7e_e1cb_11e9_9ed6_432cd2bceb44\" ><thead>    <tr>        <th class=\"blank level0\" ></th>        <th class=\"col_heading level0 col0\" >nvec</th>        <th class=\"col_heading level0 col1\" >nsel</th>        <th class=\"col_heading level0 col2\" >dim</th>        <th class=\"col_heading level0 col3\" >ge10_mean</th>        <th class=\"col_heading level0 col4\" >ge30_mean</th>        <th class=\"col_heading level0 col5\" >ge50_mean</th>        <th class=\"col_heading level0 col6\" >ge70_mean</th>        <th class=\"col_heading level0 col7\" >ge95_mean</th>    </tr>    <tr>        <th class=\"index_name level0\" >exp_id</th>        <th class=\"blank\" ></th>        <th class=\"blank\" ></th>        <th class=\"blank\" ></th>        <th class=\"blank\" ></th>        <th class=\"blank\" ></th>        <th class=\"blank\" ></th>        <th class=\"blank\" ></th>        <th class=\"blank\" ></th>    </tr></thead><tbody>\n",
       "                <tr>\n",
       "                        <th id=\"T_f80e0a7e_e1cb_11e9_9ed6_432cd2bceb44level0_row0\" class=\"row_heading level0 row0\" >427</th>\n",
       "                        <td id=\"T_f80e0a7e_e1cb_11e9_9ed6_432cd2bceb44row0_col0\" class=\"data row0 col0\" >1000</td>\n",
       "                        <td id=\"T_f80e0a7e_e1cb_11e9_9ed6_432cd2bceb44row0_col1\" class=\"data row0 col1\" >10</td>\n",
       "                        <td id=\"T_f80e0a7e_e1cb_11e9_9ed6_432cd2bceb44row0_col2\" class=\"data row0 col2\" >2</td>\n",
       "                        <td id=\"T_f80e0a7e_e1cb_11e9_9ed6_432cd2bceb44row0_col3\" class=\"data row0 col3\" >73.2203</td>\n",
       "                        <td id=\"T_f80e0a7e_e1cb_11e9_9ed6_432cd2bceb44row0_col4\" class=\"data row0 col4\" >73.0448</td>\n",
       "                        <td id=\"T_f80e0a7e_e1cb_11e9_9ed6_432cd2bceb44row0_col5\" class=\"data row0 col5\" >73.1021</td>\n",
       "                        <td id=\"T_f80e0a7e_e1cb_11e9_9ed6_432cd2bceb44row0_col6\" class=\"data row0 col6\" >73.1055</td>\n",
       "                        <td id=\"T_f80e0a7e_e1cb_11e9_9ed6_432cd2bceb44row0_col7\" class=\"data row0 col7\" >73.5069</td>\n",
       "            </tr>\n",
       "            <tr>\n",
       "                        <th id=\"T_f80e0a7e_e1cb_11e9_9ed6_432cd2bceb44level0_row1\" class=\"row_heading level0 row1\" >428</th>\n",
       "                        <td id=\"T_f80e0a7e_e1cb_11e9_9ed6_432cd2bceb44row1_col0\" class=\"data row1 col0\" >1000</td>\n",
       "                        <td id=\"T_f80e0a7e_e1cb_11e9_9ed6_432cd2bceb44row1_col1\" class=\"data row1 col1\" >100</td>\n",
       "                        <td id=\"T_f80e0a7e_e1cb_11e9_9ed6_432cd2bceb44row1_col2\" class=\"data row1 col2\" >2</td>\n",
       "                        <td id=\"T_f80e0a7e_e1cb_11e9_9ed6_432cd2bceb44row1_col3\" class=\"data row1 col3\" >5070.38</td>\n",
       "                        <td id=\"T_f80e0a7e_e1cb_11e9_9ed6_432cd2bceb44row1_col4\" class=\"data row1 col4\" >4950.74</td>\n",
       "                        <td id=\"T_f80e0a7e_e1cb_11e9_9ed6_432cd2bceb44row1_col5\" class=\"data row1 col5\" >4892.23</td>\n",
       "                        <td id=\"T_f80e0a7e_e1cb_11e9_9ed6_432cd2bceb44row1_col6\" class=\"data row1 col6\" >4889.88</td>\n",
       "                        <td id=\"T_f80e0a7e_e1cb_11e9_9ed6_432cd2bceb44row1_col7\" class=\"data row1 col7\" >5085.62</td>\n",
       "            </tr>\n",
       "            <tr>\n",
       "                        <th id=\"T_f80e0a7e_e1cb_11e9_9ed6_432cd2bceb44level0_row2\" class=\"row_heading level0 row2\" >429</th>\n",
       "                        <td id=\"T_f80e0a7e_e1cb_11e9_9ed6_432cd2bceb44row2_col0\" class=\"data row2 col0\" >10000</td>\n",
       "                        <td id=\"T_f80e0a7e_e1cb_11e9_9ed6_432cd2bceb44row2_col1\" class=\"data row2 col1\" >10</td>\n",
       "                        <td id=\"T_f80e0a7e_e1cb_11e9_9ed6_432cd2bceb44row2_col2\" class=\"data row2 col2\" >2</td>\n",
       "                        <td id=\"T_f80e0a7e_e1cb_11e9_9ed6_432cd2bceb44row2_col3\" class=\"data row2 col3\" >79.6135</td>\n",
       "                        <td id=\"T_f80e0a7e_e1cb_11e9_9ed6_432cd2bceb44row2_col4\" class=\"data row2 col4\" >79.4254</td>\n",
       "                        <td id=\"T_f80e0a7e_e1cb_11e9_9ed6_432cd2bceb44row2_col5\" class=\"data row2 col5\" >79.9077</td>\n",
       "                        <td id=\"T_f80e0a7e_e1cb_11e9_9ed6_432cd2bceb44row2_col6\" class=\"data row2 col6\" >79.8613</td>\n",
       "                        <td id=\"T_f80e0a7e_e1cb_11e9_9ed6_432cd2bceb44row2_col7\" class=\"data row2 col7\" >80.1085</td>\n",
       "            </tr>\n",
       "            <tr>\n",
       "                        <th id=\"T_f80e0a7e_e1cb_11e9_9ed6_432cd2bceb44level0_row3\" class=\"row_heading level0 row3\" >430</th>\n",
       "                        <td id=\"T_f80e0a7e_e1cb_11e9_9ed6_432cd2bceb44row3_col0\" class=\"data row3 col0\" >10000</td>\n",
       "                        <td id=\"T_f80e0a7e_e1cb_11e9_9ed6_432cd2bceb44row3_col1\" class=\"data row3 col1\" >100</td>\n",
       "                        <td id=\"T_f80e0a7e_e1cb_11e9_9ed6_432cd2bceb44row3_col2\" class=\"data row3 col2\" >2</td>\n",
       "                        <td id=\"T_f80e0a7e_e1cb_11e9_9ed6_432cd2bceb44row3_col3\" class=\"data row3 col3\" >7509.43</td>\n",
       "                        <td id=\"T_f80e0a7e_e1cb_11e9_9ed6_432cd2bceb44row3_col4\" class=\"data row3 col4\" >7514.26</td>\n",
       "                        <td id=\"T_f80e0a7e_e1cb_11e9_9ed6_432cd2bceb44row3_col5\" class=\"data row3 col5\" >7526.59</td>\n",
       "                        <td id=\"T_f80e0a7e_e1cb_11e9_9ed6_432cd2bceb44row3_col6\" class=\"data row3 col6\" >7514.6</td>\n",
       "                        <td id=\"T_f80e0a7e_e1cb_11e9_9ed6_432cd2bceb44row3_col7\" class=\"data row3 col7\" >7520.77</td>\n",
       "            </tr>\n",
       "    </tbody></table>"
      ],
      "text/plain": [
       "<pandas.io.formats.style.Styler at 0x7fabf84e0a90>"
      ]
     },
     "execution_count": 13,
     "metadata": {},
     "output_type": "execute_result"
    }
   ],
   "source": [
    "f = np.mean\n",
    "df = qs.project(on=[\"config.nvec\", \"config.nsel\", \"config.dim\", \n",
    "               {\"metrics.ge10\": f},\n",
    "               {\"metrics.ge30\": f},\n",
    "               {\"metrics.ge50\": f},\n",
    "               {\"metrics.ge70\": f},\n",
    "               {\"metrics.ge95\": f},\n",
    "              ])\n",
    "h = partial(highlight_max_min, start=3)\n",
    "df.style.apply(h, axis=1)"
   ]
  },
  {
   "cell_type": "code",
   "execution_count": 14,
   "metadata": {},
   "outputs": [
    {
     "name": "stdout",
     "output_type": "stream",
     "text": [
      "\\begin{tabular}{llrrrrrrrr}\n",
      "\\toprule\n",
      "{} & Dataset &      N &    P &  D &  alpha=0.1 &  alpha=0.3 &  alpha=0.5 &  alpha=0.7 &  alpha=0.95 \\\\\n",
      "exp\\_id &         &        &      &    &            &            &            &            &             \\\\\n",
      "\\midrule\n",
      "427    &  random &   1000 &   10 &  2 &      0.996 &      0.994 &      0.994 &      0.995 &       1.000 \\\\\n",
      "428    &  random &   1000 &  100 &  2 &      0.997 &      0.973 &      0.962 &      0.962 &       1.000 \\\\\n",
      "429    &  random &  10000 &   10 &  2 &      0.994 &      0.991 &      0.997 &      0.997 &       1.000 \\\\\n",
      "430    &  random &  10000 &  100 &  2 &      0.998 &      0.998 &      1.000 &      0.998 &       0.999 \\\\\n",
      "\\bottomrule\n",
      "\\end{tabular}\n",
      "\n"
     ]
    }
   ],
   "source": [
    "df = util.relative_tbl(df, beg=3)\n",
    "df.columns = list(map(lambda x: md[x] if x in md else x, df.columns))\n",
    "df.insert(0, column='Dataset', value=['random']*len(df))\n",
    "print(df.round(3).to_latex())"
   ]
  }
 ],
 "metadata": {
  "kernelspec": {
   "display_name": "Python 3",
   "language": "python",
   "name": "python3"
  },
  "language_info": {
   "codemirror_mode": {
    "name": "ipython",
    "version": 3
   },
   "file_extension": ".py",
   "mimetype": "text/x-python",
   "name": "python",
   "nbconvert_exporter": "python",
   "pygments_lexer": "ipython3",
   "version": "3.7.4"
  },
  "toc": {
   "base_numbering": 1,
   "nav_menu": {},
   "number_sections": true,
   "sideBar": true,
   "skip_h1_title": false,
   "title_cell": "Table of Contents",
   "title_sidebar": "Contents",
   "toc_cell": false,
   "toc_position": {
    "height": "calc(100% - 180px)",
    "left": "10px",
    "top": "150px",
    "width": "165px"
   },
   "toc_section_display": true,
   "toc_window_display": true
  }
 },
 "nbformat": 4,
 "nbformat_minor": 2
}
