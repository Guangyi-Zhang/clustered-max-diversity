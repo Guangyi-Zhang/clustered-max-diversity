{
 "cells": [
  {
   "cell_type": "code",
   "execution_count": 6,
   "metadata": {},
   "outputs": [
    {
     "name": "stdout",
     "output_type": "stream",
     "text": [
      "The autoreload extension is already loaded. To reload it, use:\n",
      "  %reload_ext autoreload\n"
     ]
    }
   ],
   "source": [
    "%load_ext autoreload\n",
    "%autoreload 2\n",
    "\n",
    "import numpy as np\n",
    "import matplotlib.pyplot as plt\n",
    "import matplotlib.cm as cm\n",
    "from os import path\n",
    "import pickle\n",
    "import itertools\n",
    "from functools import partial\n",
    "import pprint\n",
    "pp = pprint.PrettyPrinter(indent=4)\n",
    "from datetime import datetime\n",
    "\n",
    "import intra\n",
    "import util\n",
    "from util import md, highlight_max_min\n",
    "from experiment import new_exp, get_loader, run_once, run_permutation"
   ]
  },
  {
   "cell_type": "code",
   "execution_count": 2,
   "metadata": {},
   "outputs": [],
   "source": [
    "loader = get_loader()"
   ]
  },
  {
   "cell_type": "code",
   "execution_count": 3,
   "metadata": {},
   "outputs": [],
   "source": [
    "ver = 8"
   ]
  },
  {
   "cell_type": "markdown",
   "metadata": {},
   "source": [
    "# Random"
   ]
  },
  {
   "cell_type": "code",
   "execution_count": 12,
   "metadata": {
    "scrolled": true
   },
   "outputs": [
    {
     "name": "stdout",
     "output_type": "stream",
     "text": [
      "{   'alphas': [0.95],\n",
      "    'dataset': 'random-time-v8',\n",
      "    'dim': 2,\n",
      "    'ncls': 10,\n",
      "    'ncls_per_vec': 5,\n",
      "    'nsel': 10,\n",
      "    'nvec': 1000,\n",
      "    'which': 'random',\n",
      "    'whichalgo': 'GE'}\n"
     ]
    },
    {
     "name": "stderr",
     "output_type": "stream",
     "text": [
      "/u/67/zhangg1/unix/.local/lib/python3.7/site-packages/sacred/experiment.py:566: UserWarning: Subclassing `CommandLineOption` is deprecated. Please use the `sacred.cli_option` decorator and pass the function to the Experiment constructor.\n",
      "  \"Subclassing `CommandLineOption` is deprecated. Please \"\n",
      "/u/67/zhangg1/unix/.local/lib/python3.7/site-packages/sacred/experiment.py:566: UserWarning: Subclassing `CommandLineOption` is deprecated. Please use the `sacred.cli_option` decorator and pass the function to the Experiment constructor.\n",
      "  \"Subclassing `CommandLineOption` is deprecated. Please \"\n",
      "INFO - jupyter_ex - Running command 'my_main'\n",
      "INFO - jupyter_ex - Started run with ID \"498\"\n",
      "INFO - jupyter_ex - Completed after 0:00:01\n"
     ]
    },
    {
     "name": "stdout",
     "output_type": "stream",
     "text": [
      "nvec, ncls: 1000 10\n",
      "ge95: 74.13\n"
     ]
    },
    {
     "name": "stderr",
     "output_type": "stream",
     "text": [
      "/u/67/zhangg1/unix/.local/lib/python3.7/site-packages/sacred/experiment.py:566: UserWarning: Subclassing `CommandLineOption` is deprecated. Please use the `sacred.cli_option` decorator and pass the function to the Experiment constructor.\n",
      "  \"Subclassing `CommandLineOption` is deprecated. Please \"\n"
     ]
    },
    {
     "name": "stdout",
     "output_type": "stream",
     "text": [
      "{   'alphas': [0.95],\n",
      "    'dataset': 'random-time-v8',\n",
      "    'dim': 2,\n",
      "    'ncls': 10,\n",
      "    'ncls_per_vec': 5,\n",
      "    'nsel': 10,\n",
      "    'nvec': 10000,\n",
      "    'which': 'random',\n",
      "    'whichalgo': 'GE'}\n"
     ]
    },
    {
     "name": "stderr",
     "output_type": "stream",
     "text": [
      "/u/67/zhangg1/unix/.local/lib/python3.7/site-packages/sacred/experiment.py:566: UserWarning: Subclassing `CommandLineOption` is deprecated. Please use the `sacred.cli_option` decorator and pass the function to the Experiment constructor.\n",
      "  \"Subclassing `CommandLineOption` is deprecated. Please \"\n",
      "INFO - jupyter_ex - Running command 'my_main'\n",
      "INFO - jupyter_ex - Started run with ID \"499\"\n"
     ]
    },
    {
     "name": "stdout",
     "output_type": "stream",
     "text": [
      "nvec, ncls: 10000 10\n"
     ]
    },
    {
     "name": "stderr",
     "output_type": "stream",
     "text": [
      "INFO - jupyter_ex - Completed after 0:00:02\n"
     ]
    },
    {
     "name": "stdout",
     "output_type": "stream",
     "text": [
      "ge95: 80.19\n",
      "{   'alphas': [0.95],\n",
      "    'dataset': 'random-time-v8',\n",
      "    'dim': 2,\n",
      "    'ncls': 10,\n",
      "    'ncls_per_vec': 5,\n",
      "    'nsel': 10,\n",
      "    'nvec': 100000,\n",
      "    'which': 'random',\n",
      "    'whichalgo': 'GE'}\n"
     ]
    },
    {
     "name": "stderr",
     "output_type": "stream",
     "text": [
      "/u/67/zhangg1/unix/.local/lib/python3.7/site-packages/sacred/experiment.py:566: UserWarning: Subclassing `CommandLineOption` is deprecated. Please use the `sacred.cli_option` decorator and pass the function to the Experiment constructor.\n",
      "  \"Subclassing `CommandLineOption` is deprecated. Please \"\n",
      "/u/67/zhangg1/unix/.local/lib/python3.7/site-packages/sacred/experiment.py:566: UserWarning: Subclassing `CommandLineOption` is deprecated. Please use the `sacred.cli_option` decorator and pass the function to the Experiment constructor.\n",
      "  \"Subclassing `CommandLineOption` is deprecated. Please \"\n",
      "INFO - jupyter_ex - Running command 'my_main'\n",
      "INFO - jupyter_ex - Started run with ID \"500\"\n"
     ]
    },
    {
     "name": "stdout",
     "output_type": "stream",
     "text": [
      "nvec, ncls: 100000 10\n"
     ]
    },
    {
     "name": "stderr",
     "output_type": "stream",
     "text": [
      "INFO - jupyter_ex - Completed after 0:00:11\n"
     ]
    },
    {
     "name": "stdout",
     "output_type": "stream",
     "text": [
      "ge95: 82.43\n",
      "{   'alphas': [0.95],\n",
      "    'dataset': 'random-time-v8',\n",
      "    'dim': 2,\n",
      "    'ncls': 10,\n",
      "    'ncls_per_vec': 5,\n",
      "    'nsel': 10,\n",
      "    'nvec': 1000000,\n",
      "    'which': 'random',\n",
      "    'whichalgo': 'GE'}\n"
     ]
    },
    {
     "name": "stderr",
     "output_type": "stream",
     "text": [
      "/u/67/zhangg1/unix/.local/lib/python3.7/site-packages/sacred/experiment.py:566: UserWarning: Subclassing `CommandLineOption` is deprecated. Please use the `sacred.cli_option` decorator and pass the function to the Experiment constructor.\n",
      "  \"Subclassing `CommandLineOption` is deprecated. Please \"\n",
      "/u/67/zhangg1/unix/.local/lib/python3.7/site-packages/sacred/experiment.py:566: UserWarning: Subclassing `CommandLineOption` is deprecated. Please use the `sacred.cli_option` decorator and pass the function to the Experiment constructor.\n",
      "  \"Subclassing `CommandLineOption` is deprecated. Please \"\n",
      "INFO - jupyter_ex - Running command 'my_main'\n",
      "INFO - jupyter_ex - Started run with ID \"501\"\n"
     ]
    },
    {
     "name": "stdout",
     "output_type": "stream",
     "text": [
      "nvec, ncls: 1000000 10\n"
     ]
    },
    {
     "name": "stderr",
     "output_type": "stream",
     "text": [
      "INFO - jupyter_ex - Completed after 0:01:56\n"
     ]
    },
    {
     "name": "stdout",
     "output_type": "stream",
     "text": [
      "ge95: 83.22\n",
      "{   'alphas': [0.95],\n",
      "    'dataset': 'random-time-v8',\n",
      "    'dim': 2,\n",
      "    'ncls': 10,\n",
      "    'ncls_per_vec': 5,\n",
      "    'nsel': 10,\n",
      "    'nvec': 10000000,\n",
      "    'which': 'random',\n",
      "    'whichalgo': 'GE'}\n"
     ]
    },
    {
     "name": "stderr",
     "output_type": "stream",
     "text": [
      "/u/67/zhangg1/unix/.local/lib/python3.7/site-packages/sacred/experiment.py:566: UserWarning: Subclassing `CommandLineOption` is deprecated. Please use the `sacred.cli_option` decorator and pass the function to the Experiment constructor.\n",
      "  \"Subclassing `CommandLineOption` is deprecated. Please \"\n",
      "/u/67/zhangg1/unix/.local/lib/python3.7/site-packages/sacred/experiment.py:566: UserWarning: Subclassing `CommandLineOption` is deprecated. Please use the `sacred.cli_option` decorator and pass the function to the Experiment constructor.\n",
      "  \"Subclassing `CommandLineOption` is deprecated. Please \"\n",
      "INFO - jupyter_ex - Running command 'my_main'\n",
      "INFO - jupyter_ex - Started run with ID \"502\"\n"
     ]
    },
    {
     "name": "stdout",
     "output_type": "stream",
     "text": [
      "nvec, ncls: 10000000 10\n"
     ]
    },
    {
     "name": "stderr",
     "output_type": "stream",
     "text": [
      "INFO - jupyter_ex - Completed after 0:18:30\n"
     ]
    },
    {
     "name": "stdout",
     "output_type": "stream",
     "text": [
      "ge95: 83.67\n"
     ]
    }
   ],
   "source": [
    "ex = new_exp()\n",
    "    \n",
    "# r = ex.run()\n",
    "for nvec, ncls, ncls_per_vec, nsel, dim, alphas in itertools.product(\n",
    "                                                        [1000,10000,100000,1000000,10000000], \n",
    "                                                        [10], \n",
    "                                                        [5], \n",
    "                                                        [10],\n",
    "                                                        [2],\n",
    "                                                        [[0.95]]):\n",
    "    conf = {'which': 'random', \n",
    "        'whichalgo': 'GE',\n",
    "        'dataset': 'random-time-v{}'.format(ver), \n",
    "        'nvec': nvec, \n",
    "        'ncls': ncls, \n",
    "        'ncls_per_vec': ncls_per_vec, \n",
    "        'nsel': nsel, \n",
    "        'alphas': alphas,\n",
    "        'dim': dim}\n",
    "    pp.pprint(conf)\n",
    "    r = ex.run(config_updates=conf)"
   ]
  },
  {
   "cell_type": "code",
   "execution_count": 13,
   "metadata": {},
   "outputs": [],
   "source": [
    "# loader.find_latest().to_dict()\n",
    "\n",
    "query = {\"$and\": [\n",
    "    {\"status\": 'COMPLETED'},\n",
    "    {\"config.dataset\": 'random-time-v{}'.format(ver)},\n",
    "        ]}\n",
    "qs = loader.find(query)"
   ]
  },
  {
   "cell_type": "code",
   "execution_count": 14,
   "metadata": {},
   "outputs": [
    {
     "data": {
      "text/html": [
       "<div>\n",
       "<style scoped>\n",
       "    .dataframe tbody tr th:only-of-type {\n",
       "        vertical-align: middle;\n",
       "    }\n",
       "\n",
       "    .dataframe tbody tr th {\n",
       "        vertical-align: top;\n",
       "    }\n",
       "\n",
       "    .dataframe thead th {\n",
       "        text-align: right;\n",
       "    }\n",
       "</style>\n",
       "<table border=\"1\" class=\"dataframe\">\n",
       "  <thead>\n",
       "    <tr style=\"text-align: right;\">\n",
       "      <th></th>\n",
       "      <th>nvec</th>\n",
       "      <th>start_time</th>\n",
       "      <th>stop_time</th>\n",
       "    </tr>\n",
       "    <tr>\n",
       "      <th>exp_id</th>\n",
       "      <th></th>\n",
       "      <th></th>\n",
       "      <th></th>\n",
       "    </tr>\n",
       "  </thead>\n",
       "  <tbody>\n",
       "    <tr>\n",
       "      <th>498</th>\n",
       "      <td>1000</td>\n",
       "      <td>2019-09-30 12:40:54.909</td>\n",
       "      <td>2019-09-30 12:40:55.554</td>\n",
       "    </tr>\n",
       "    <tr>\n",
       "      <th>499</th>\n",
       "      <td>10000</td>\n",
       "      <td>2019-09-30 12:40:55.932</td>\n",
       "      <td>2019-09-30 12:40:57.438</td>\n",
       "    </tr>\n",
       "    <tr>\n",
       "      <th>500</th>\n",
       "      <td>100000</td>\n",
       "      <td>2019-09-30 12:40:57.835</td>\n",
       "      <td>2019-09-30 12:41:09.193</td>\n",
       "    </tr>\n",
       "    <tr>\n",
       "      <th>501</th>\n",
       "      <td>1000000</td>\n",
       "      <td>2019-09-30 12:41:09.597</td>\n",
       "      <td>2019-09-30 12:43:05.315</td>\n",
       "    </tr>\n",
       "    <tr>\n",
       "      <th>502</th>\n",
       "      <td>10000000</td>\n",
       "      <td>2019-09-30 12:43:05.705</td>\n",
       "      <td>2019-09-30 13:01:35.660</td>\n",
       "    </tr>\n",
       "  </tbody>\n",
       "</table>\n",
       "</div>"
      ],
      "text/plain": [
       "            nvec              start_time               stop_time\n",
       "exp_id                                                          \n",
       "498         1000 2019-09-30 12:40:54.909 2019-09-30 12:40:55.554\n",
       "499        10000 2019-09-30 12:40:55.932 2019-09-30 12:40:57.438\n",
       "500       100000 2019-09-30 12:40:57.835 2019-09-30 12:41:09.193\n",
       "501      1000000 2019-09-30 12:41:09.597 2019-09-30 12:43:05.315\n",
       "502     10000000 2019-09-30 12:43:05.705 2019-09-30 13:01:35.660"
      ]
     },
     "execution_count": 14,
     "metadata": {},
     "output_type": "execute_result"
    }
   ],
   "source": [
    "f = np.mean\n",
    "df = qs.project(on=[\"config.nvec\",\n",
    "               \"start_time\",\n",
    "               \"stop_time\",\n",
    "              ])\n",
    "df"
   ]
  },
  {
   "cell_type": "code",
   "execution_count": 15,
   "metadata": {},
   "outputs": [
    {
     "data": {
      "text/plain": [
       "exp_id\n",
       "498       0.645\n",
       "499       1.506\n",
       "500      11.358\n",
       "501     115.718\n",
       "502    1109.955\n",
       "dtype: float64"
      ]
     },
     "execution_count": 15,
     "metadata": {},
     "output_type": "execute_result"
    }
   ],
   "source": [
    "duration = (df['stop_time'] - df['start_time']) / np.timedelta64(1, 's')\n",
    "duration"
   ]
  },
  {
   "cell_type": "code",
   "execution_count": 24,
   "metadata": {},
   "outputs": [
    {
     "data": {
      "image/png": "[encoded data removed]",
      "text/plain": [
       "<Figure size 432x288 with 1 Axes>"
      ]
     },
     "metadata": {
      "needs_background": "light"
     },
     "output_type": "display_data"
    }
   ],
   "source": [
    "plt.rcParams.update({'font.size': 15})\n",
    "\n",
    "plt.plot(df['nvec'], duration, marker='o')\n",
    "plt.xlabel('Size of the universal set')\n",
    "plt.ylabel('Running time (seconds)')\n",
    "plt.tight_layout()\n",
    "plt.savefig('metric-time.pdf')"
   ]
  },
  {
   "cell_type": "code",
   "execution_count": 25,
   "metadata": {},
   "outputs": [
    {
     "data": {
      "text/plain": [
       "exp_id\n",
       "498     6.907755\n",
       "499     9.210340\n",
       "500    11.512925\n",
       "501    13.815511\n",
       "502    16.118096\n",
       "Name: nvec, dtype: float64"
      ]
     },
     "execution_count": 25,
     "metadata": {},
     "output_type": "execute_result"
    }
   ],
   "source": [
    "np.log(df['nvec'])"
   ]
  },
  {
   "cell_type": "code",
   "execution_count": 26,
   "metadata": {},
   "outputs": [
    {
     "data": {
      "image/png": "[encoded data removed]",
      "text/plain": [
       "<Figure size 432x288 with 1 Axes>"
      ]
     },
     "metadata": {
      "needs_background": "light"
     },
     "output_type": "display_data"
    }
   ],
   "source": [
    "plt.rcParams.update({'font.size': 15})\n",
    "\n",
    "plt.plot(np.log(df['nvec']), duration, marker='o')\n",
    "plt.xlabel('Size of the universal set (log)')\n",
    "plt.ylabel('Running time (seconds)')\n",
    "plt.tight_layout()\n",
    "plt.savefig('metric-time-log.pdf')"
   ]
  }
 ],
 "metadata": {
  "kernelspec": {
   "display_name": "Python 3",
   "language": "python",
   "name": "python3"
  },
  "language_info": {
   "codemirror_mode": {
    "name": "ipython",
    "version": 3
   },
   "file_extension": ".py",
   "mimetype": "text/x-python",
   "name": "python",
   "nbconvert_exporter": "python",
   "pygments_lexer": "ipython3",
   "version": "3.7.4"
  },
  "toc": {
   "base_numbering": 1,
   "nav_menu": {},
   "number_sections": true,
   "sideBar": true,
   "skip_h1_title": false,
   "title_cell": "Table of Contents",
   "title_sidebar": "Contents",
   "toc_cell": false,
   "toc_position": {
    "height": "calc(100% - 180px)",
    "left": "10px",
    "top": "150px",
    "width": "165px"
   },
   "toc_section_display": true,
   "toc_window_display": true
  }
 },
 "nbformat": 4,
 "nbformat_minor": 2
}
