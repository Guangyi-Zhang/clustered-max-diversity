{
 "cells": [
  {
   "cell_type": "code",
   "execution_count": 1,
   "metadata": {},
   "outputs": [],
   "source": [
    "%load_ext autoreload\n",
    "%autoreload 2\n",
    "\n",
    "import numpy as np\n",
    "import matplotlib.pyplot as plt\n",
    "import matplotlib.cm as cm\n",
    "from os import path\n",
    "import pickle\n",
    "import itertools\n",
    "from functools import partial\n",
    "import pprint\n",
    "pp = pprint.PrettyPrinter(indent=4)\n",
    "\n",
    "import intra\n",
    "import util\n",
    "from util import md, highlight_max_min\n",
    "from experiment import new_exp, get_loader, run_once, run_permutation"
   ]
  },
  {
   "cell_type": "code",
   "execution_count": 2,
   "metadata": {},
   "outputs": [],
   "source": [
    "loader = get_loader()"
   ]
  },
  {
   "cell_type": "code",
   "execution_count": 3,
   "metadata": {},
   "outputs": [],
   "source": [
    "ver = 7"
   ]
  },
  {
   "cell_type": "markdown",
   "metadata": {},
   "source": [
    "# Scholar"
   ]
  },
  {
   "cell_type": "code",
   "execution_count": 4,
   "metadata": {
    "scrolled": true
   },
   "outputs": [
    {
     "name": "stdout",
     "output_type": "stream",
     "text": [
      "{   'dataset': 'aminer_scholar_net-v7',\n",
      "    'lambd': 1,\n",
      "    'nsel': 6,\n",
      "    'sz_clique': 10,\n",
      "    'which': 'scholar',\n",
      "    'whichalgo': 'GE|GV|MC'}\n"
     ]
    },
    {
     "name": "stderr",
     "output_type": "stream",
     "text": [
      "/u/67/zhangg1/unix/.local/lib/python3.7/site-packages/sacred/experiment.py:566: UserWarning: Subclassing `CommandLineOption` is deprecated. Please use the `sacred.cli_option` decorator and pass the function to the Experiment constructor.\n",
      "  \"Subclassing `CommandLineOption` is deprecated. Please \"\n",
      "/u/67/zhangg1/unix/.local/lib/python3.7/site-packages/sacred/experiment.py:566: UserWarning: Subclassing `CommandLineOption` is deprecated. Please use the `sacred.cli_option` decorator and pass the function to the Experiment constructor.\n",
      "  \"Subclassing `CommandLineOption` is deprecated. Please \"\n",
      "INFO - jupyter_ex - Running command 'my_main'\n",
      "INFO - jupyter_ex - Started run with ID \"457\"\n"
     ]
    },
    {
     "name": "stdout",
     "output_type": "stream",
     "text": [
      "nvec, ncls: 23827 544\n",
      "gv: 22053.14\n",
      "ge95: 22258.25\n"
     ]
    },
    {
     "name": "stderr",
     "output_type": "stream",
     "text": [
      "INFO - jupyter_ex - Completed after 1:09:09\n"
     ]
    },
    {
     "name": "stdout",
     "output_type": "stream",
     "text": [
      "Warning: less selections than specified 2720/3264\n",
      "mc: 14949.15\n",
      "{   'dataset': 'aminer_scholar_net-v7',\n",
      "    'lambd': 5,\n",
      "    'nsel': 6,\n",
      "    'sz_clique': 10,\n",
      "    'which': 'scholar',\n",
      "    'whichalgo': 'GE|GV|MC'}\n"
     ]
    },
    {
     "name": "stderr",
     "output_type": "stream",
     "text": [
      "/u/67/zhangg1/unix/.local/lib/python3.7/site-packages/sacred/experiment.py:566: UserWarning: Subclassing `CommandLineOption` is deprecated. Please use the `sacred.cli_option` decorator and pass the function to the Experiment constructor.\n",
      "  \"Subclassing `CommandLineOption` is deprecated. Please \"\n",
      "/u/67/zhangg1/unix/.local/lib/python3.7/site-packages/sacred/experiment.py:566: UserWarning: Subclassing `CommandLineOption` is deprecated. Please use the `sacred.cli_option` decorator and pass the function to the Experiment constructor.\n",
      "  \"Subclassing `CommandLineOption` is deprecated. Please \"\n",
      "INFO - jupyter_ex - Running command 'my_main'\n",
      "INFO - jupyter_ex - Started run with ID \"465\"\n"
     ]
    },
    {
     "name": "stdout",
     "output_type": "stream",
     "text": [
      "nvec, ncls: 23827 544\n",
      "gv: 85010.09\n",
      "ge95: 85159.28\n"
     ]
    },
    {
     "name": "stderr",
     "output_type": "stream",
     "text": [
      "INFO - jupyter_ex - Completed after 1:05:30\n"
     ]
    },
    {
     "name": "stdout",
     "output_type": "stream",
     "text": [
      "Warning: less selections than specified 2720/3264\n",
      "mc: 48757.75\n",
      "{   'dataset': 'aminer_scholar_net-v7',\n",
      "    'lambd': 10,\n",
      "    'nsel': 6,\n",
      "    'sz_clique': 10,\n",
      "    'which': 'scholar',\n",
      "    'whichalgo': 'GE|GV|MC'}\n"
     ]
    },
    {
     "name": "stderr",
     "output_type": "stream",
     "text": [
      "/u/67/zhangg1/unix/.local/lib/python3.7/site-packages/sacred/experiment.py:566: UserWarning: Subclassing `CommandLineOption` is deprecated. Please use the `sacred.cli_option` decorator and pass the function to the Experiment constructor.\n",
      "  \"Subclassing `CommandLineOption` is deprecated. Please \"\n",
      "/u/67/zhangg1/unix/.local/lib/python3.7/site-packages/sacred/experiment.py:566: UserWarning: Subclassing `CommandLineOption` is deprecated. Please use the `sacred.cli_option` decorator and pass the function to the Experiment constructor.\n",
      "  \"Subclassing `CommandLineOption` is deprecated. Please \"\n",
      "INFO - jupyter_ex - Running command 'my_main'\n",
      "INFO - jupyter_ex - Started run with ID \"466\"\n"
     ]
    },
    {
     "name": "stdout",
     "output_type": "stream",
     "text": [
      "nvec, ncls: 23827 544\n",
      "gv: 163942.39\n",
      "ge95: 163833.55\n"
     ]
    },
    {
     "name": "stderr",
     "output_type": "stream",
     "text": [
      "INFO - jupyter_ex - Completed after 1:06:15\n"
     ]
    },
    {
     "name": "stdout",
     "output_type": "stream",
     "text": [
      "Warning: less selections than specified 2720/3264\n",
      "mc: 91018.50\n",
      "{   'dataset': 'aminer_scholar_net-v7',\n",
      "    'lambd': 1,\n",
      "    'nsel': 10,\n",
      "    'sz_clique': 10,\n",
      "    'which': 'scholar',\n",
      "    'whichalgo': 'GE|GV|MC'}\n"
     ]
    },
    {
     "name": "stderr",
     "output_type": "stream",
     "text": [
      "/u/67/zhangg1/unix/.local/lib/python3.7/site-packages/sacred/experiment.py:566: UserWarning: Subclassing `CommandLineOption` is deprecated. Please use the `sacred.cli_option` decorator and pass the function to the Experiment constructor.\n",
      "  \"Subclassing `CommandLineOption` is deprecated. Please \"\n",
      "/u/67/zhangg1/unix/.local/lib/python3.7/site-packages/sacred/experiment.py:566: UserWarning: Subclassing `CommandLineOption` is deprecated. Please use the `sacred.cli_option` decorator and pass the function to the Experiment constructor.\n",
      "  \"Subclassing `CommandLineOption` is deprecated. Please \"\n",
      "INFO - jupyter_ex - Running command 'my_main'\n",
      "INFO - jupyter_ex - Started run with ID \"467\"\n"
     ]
    },
    {
     "name": "stdout",
     "output_type": "stream",
     "text": [
      "nvec, ncls: 23827 544\n",
      "Warning: less selections than specified 5433/5440\n",
      "gv: 52548.52\n",
      "Warning: less selections than specified 5428/5440\n",
      "ge95: 52925.29\n",
      "Warning: less selections than specified 4895/5440\n"
     ]
    },
    {
     "name": "stderr",
     "output_type": "stream",
     "text": [
      "INFO - jupyter_ex - Completed after 2:16:58\n"
     ]
    },
    {
     "name": "stdout",
     "output_type": "stream",
     "text": [
      "mc: 32461.70\n",
      "{   'dataset': 'aminer_scholar_net-v7',\n",
      "    'lambd': 5,\n",
      "    'nsel': 10,\n",
      "    'sz_clique': 10,\n",
      "    'which': 'scholar',\n",
      "    'whichalgo': 'GE|GV|MC'}\n"
     ]
    },
    {
     "name": "stderr",
     "output_type": "stream",
     "text": [
      "/u/67/zhangg1/unix/.local/lib/python3.7/site-packages/sacred/experiment.py:566: UserWarning: Subclassing `CommandLineOption` is deprecated. Please use the `sacred.cli_option` decorator and pass the function to the Experiment constructor.\n",
      "  \"Subclassing `CommandLineOption` is deprecated. Please \"\n",
      "/u/67/zhangg1/unix/.local/lib/python3.7/site-packages/sacred/experiment.py:566: UserWarning: Subclassing `CommandLineOption` is deprecated. Please use the `sacred.cli_option` decorator and pass the function to the Experiment constructor.\n",
      "  \"Subclassing `CommandLineOption` is deprecated. Please \"\n",
      "INFO - jupyter_ex - Running command 'my_main'\n",
      "INFO - jupyter_ex - Started run with ID \"468\"\n"
     ]
    },
    {
     "name": "stdout",
     "output_type": "stream",
     "text": [
      "nvec, ncls: 23827 544\n",
      "Warning: less selections than specified 5433/5440\n",
      "gv: 237782.79\n",
      "Warning: less selections than specified 5428/5440\n",
      "ge95: 238424.28\n",
      "Warning: less selections than specified 4895/5440\n"
     ]
    },
    {
     "name": "stderr",
     "output_type": "stream",
     "text": [
      "INFO - jupyter_ex - Completed after 2:16:59\n"
     ]
    },
    {
     "name": "stdout",
     "output_type": "stream",
     "text": [
      "mc: 136220.49\n",
      "{   'dataset': 'aminer_scholar_net-v7',\n",
      "    'lambd': 10,\n",
      "    'nsel': 10,\n",
      "    'sz_clique': 10,\n",
      "    'which': 'scholar',\n",
      "    'whichalgo': 'GE|GV|MC'}\n"
     ]
    },
    {
     "name": "stderr",
     "output_type": "stream",
     "text": [
      "/u/67/zhangg1/unix/.local/lib/python3.7/site-packages/sacred/experiment.py:566: UserWarning: Subclassing `CommandLineOption` is deprecated. Please use the `sacred.cli_option` decorator and pass the function to the Experiment constructor.\n",
      "  \"Subclassing `CommandLineOption` is deprecated. Please \"\n",
      "/u/67/zhangg1/unix/.local/lib/python3.7/site-packages/sacred/experiment.py:566: UserWarning: Subclassing `CommandLineOption` is deprecated. Please use the `sacred.cli_option` decorator and pass the function to the Experiment constructor.\n",
      "  \"Subclassing `CommandLineOption` is deprecated. Please \"\n",
      "INFO - jupyter_ex - Running command 'my_main'\n",
      "INFO - jupyter_ex - Started run with ID \"469\"\n"
     ]
    },
    {
     "name": "stdout",
     "output_type": "stream",
     "text": [
      "nvec, ncls: 23827 544\n",
      "Warning: less selections than specified 5433/5440\n",
      "gv: 469702.83\n",
      "Warning: less selections than specified 5428/5440\n",
      "ge95: 470291.14\n",
      "Warning: less selections than specified 4895/5440\n"
     ]
    },
    {
     "name": "stderr",
     "output_type": "stream",
     "text": [
      "INFO - jupyter_ex - Completed after 2:14:59\n"
     ]
    },
    {
     "name": "stdout",
     "output_type": "stream",
     "text": [
      "mc: 265918.98\n"
     ]
    }
   ],
   "source": [
    "ex = new_exp()\n",
    "\n",
    "# r = ex.run()\n",
    "for nsel,sz_clique,lambd in itertools.product([6,10],\n",
    "                                    #[8,10,15],\n",
    "                                    [10],\n",
    "                                    [1,5,10]\n",
    "                                        ):\n",
    "    conf = {'which': 'scholar', \n",
    "        'whichalgo': 'GE|GV|MC',\n",
    "        'dataset': 'aminer_scholar_net-v{}'.format(ver), \n",
    "        'nsel': nsel, \n",
    "        'lambd': lambd,\n",
    "        'sz_clique': sz_clique\n",
    "            }\n",
    "    pp.pprint(conf)\n",
    "    r = ex.run(config_updates=conf)"
   ]
  },
  {
   "cell_type": "code",
   "execution_count": 5,
   "metadata": {},
   "outputs": [],
   "source": [
    "# loader.find_latest().to_dict()\n",
    "\n",
    "query = {\"$and\": [\n",
    "    {\"status\": 'COMPLETED'},\n",
    "    {\"config.dataset\": 'aminer_scholar_net-v{}'.format(ver)},\n",
    "    {\"config.sz_clique\": 10},\n",
    "        ]}\n",
    "qs = loader.find(query)"
   ]
  },
  {
   "cell_type": "code",
   "execution_count": 6,
   "metadata": {},
   "outputs": [
    {
     "data": {
      "text/html": [
       "<style  type=\"text/css\" >\n",
       "    #T_607b29a6_e222_11e9_b79c_337eb6254518row0_col2 {\n",
       "            color:  green;\n",
       "        }    #T_607b29a6_e222_11e9_b79c_337eb6254518row0_col13 {\n",
       "            color:  red;\n",
       "        }    #T_607b29a6_e222_11e9_b79c_337eb6254518row1_col1 {\n",
       "            color:  red;\n",
       "        }    #T_607b29a6_e222_11e9_b79c_337eb6254518row1_col2 {\n",
       "            color:  green;\n",
       "        }    #T_607b29a6_e222_11e9_b79c_337eb6254518row1_col13 {\n",
       "            color:  red;\n",
       "        }    #T_607b29a6_e222_11e9_b79c_337eb6254518row2_col3 {\n",
       "            color:  green;\n",
       "        }    #T_607b29a6_e222_11e9_b79c_337eb6254518row2_col13 {\n",
       "            color:  red;\n",
       "        }    #T_607b29a6_e222_11e9_b79c_337eb6254518row3_col2 {\n",
       "            color:  green;\n",
       "        }    #T_607b29a6_e222_11e9_b79c_337eb6254518row3_col13 {\n",
       "            color:  red;\n",
       "        }    #T_607b29a6_e222_11e9_b79c_337eb6254518row4_col2 {\n",
       "            color:  green;\n",
       "        }    #T_607b29a6_e222_11e9_b79c_337eb6254518row4_col13 {\n",
       "            color:  red;\n",
       "        }    #T_607b29a6_e222_11e9_b79c_337eb6254518row5_col2 {\n",
       "            color:  green;\n",
       "        }    #T_607b29a6_e222_11e9_b79c_337eb6254518row5_col13 {\n",
       "            color:  red;\n",
       "        }</style><table id=\"T_607b29a6_e222_11e9_b79c_337eb6254518\" ><thead>    <tr>        <th class=\"blank level0\" ></th>        <th class=\"col_heading level0 col0\" >nsel</th>        <th class=\"col_heading level0 col1\" >lambd</th>        <th class=\"col_heading level0 col2\" >Zge95_mean</th>        <th class=\"col_heading level0 col3\" >Zgv_mean</th>        <th class=\"col_heading level0 col4\" >Zmc_mean</th>        <th class=\"col_heading level0 col5\" >ge95_sum</th>        <th class=\"col_heading level0 col6\" >gv_sum</th>        <th class=\"col_heading level0 col7\" >mc_sum</th>        <th class=\"col_heading level0 col8\" >Qge95_mean</th>        <th class=\"col_heading level0 col9\" >Qgv_mean</th>        <th class=\"col_heading level0 col10\" >Qmc_mean</th>        <th class=\"col_heading level0 col11\" >Pge95_mean</th>        <th class=\"col_heading level0 col12\" >Pgv_mean</th>        <th class=\"col_heading level0 col13\" >Pmc_mean</th>    </tr>    <tr>        <th class=\"index_name level0\" >exp_id</th>        <th class=\"blank\" ></th>        <th class=\"blank\" ></th>        <th class=\"blank\" ></th>        <th class=\"blank\" ></th>        <th class=\"blank\" ></th>        <th class=\"blank\" ></th>        <th class=\"blank\" ></th>        <th class=\"blank\" ></th>        <th class=\"blank\" ></th>        <th class=\"blank\" ></th>        <th class=\"blank\" ></th>        <th class=\"blank\" ></th>        <th class=\"blank\" ></th>        <th class=\"blank\" ></th>    </tr></thead><tbody>\n",
       "                <tr>\n",
       "                        <th id=\"T_607b29a6_e222_11e9_b79c_337eb6254518level0_row0\" class=\"row_heading level0 row0\" >457</th>\n",
       "                        <td id=\"T_607b29a6_e222_11e9_b79c_337eb6254518row0_col0\" class=\"data row0 col0\" >6</td>\n",
       "                        <td id=\"T_607b29a6_e222_11e9_b79c_337eb6254518row0_col1\" class=\"data row0 col1\" >1</td>\n",
       "                        <td id=\"T_607b29a6_e222_11e9_b79c_337eb6254518row0_col2\" class=\"data row0 col2\" >22258.3</td>\n",
       "                        <td id=\"T_607b29a6_e222_11e9_b79c_337eb6254518row0_col3\" class=\"data row0 col3\" >22053.1</td>\n",
       "                        <td id=\"T_607b29a6_e222_11e9_b79c_337eb6254518row0_col4\" class=\"data row0 col4\" >14949.2</td>\n",
       "                        <td id=\"T_607b29a6_e222_11e9_b79c_337eb6254518row0_col5\" class=\"data row0 col5\" >15734.3</td>\n",
       "                        <td id=\"T_607b29a6_e222_11e9_b79c_337eb6254518row0_col6\" class=\"data row0 col6\" >15631.1</td>\n",
       "                        <td id=\"T_607b29a6_e222_11e9_b79c_337eb6254518row0_col7\" class=\"data row0 col7\" >8452.15</td>\n",
       "                        <td id=\"T_607b29a6_e222_11e9_b79c_337eb6254518row0_col8\" class=\"data row0 col8\" >6524</td>\n",
       "                        <td id=\"T_607b29a6_e222_11e9_b79c_337eb6254518row0_col9\" class=\"data row0 col9\" >6422</td>\n",
       "                        <td id=\"T_607b29a6_e222_11e9_b79c_337eb6254518row0_col10\" class=\"data row0 col10\" >6497</td>\n",
       "                        <td id=\"T_607b29a6_e222_11e9_b79c_337eb6254518row0_col11\" class=\"data row0 col11\" >6</td>\n",
       "                        <td id=\"T_607b29a6_e222_11e9_b79c_337eb6254518row0_col12\" class=\"data row0 col12\" >6</td>\n",
       "                        <td id=\"T_607b29a6_e222_11e9_b79c_337eb6254518row0_col13\" class=\"data row0 col13\" >5</td>\n",
       "            </tr>\n",
       "            <tr>\n",
       "                        <th id=\"T_607b29a6_e222_11e9_b79c_337eb6254518level0_row1\" class=\"row_heading level0 row1\" >465</th>\n",
       "                        <td id=\"T_607b29a6_e222_11e9_b79c_337eb6254518row1_col0\" class=\"data row1 col0\" >6</td>\n",
       "                        <td id=\"T_607b29a6_e222_11e9_b79c_337eb6254518row1_col1\" class=\"data row1 col1\" >5</td>\n",
       "                        <td id=\"T_607b29a6_e222_11e9_b79c_337eb6254518row1_col2\" class=\"data row1 col2\" >85159.3</td>\n",
       "                        <td id=\"T_607b29a6_e222_11e9_b79c_337eb6254518row1_col3\" class=\"data row1 col3\" >85010.1</td>\n",
       "                        <td id=\"T_607b29a6_e222_11e9_b79c_337eb6254518row1_col4\" class=\"data row1 col4\" >48757.8</td>\n",
       "                        <td id=\"T_607b29a6_e222_11e9_b79c_337eb6254518row1_col5\" class=\"data row1 col5\" >15728.1</td>\n",
       "                        <td id=\"T_607b29a6_e222_11e9_b79c_337eb6254518row1_col6\" class=\"data row1 col6\" >15717</td>\n",
       "                        <td id=\"T_607b29a6_e222_11e9_b79c_337eb6254518row1_col7\" class=\"data row1 col7\" >8452.15</td>\n",
       "                        <td id=\"T_607b29a6_e222_11e9_b79c_337eb6254518row1_col8\" class=\"data row1 col8\" >6519</td>\n",
       "                        <td id=\"T_607b29a6_e222_11e9_b79c_337eb6254518row1_col9\" class=\"data row1 col9\" >6425</td>\n",
       "                        <td id=\"T_607b29a6_e222_11e9_b79c_337eb6254518row1_col10\" class=\"data row1 col10\" >6497</td>\n",
       "                        <td id=\"T_607b29a6_e222_11e9_b79c_337eb6254518row1_col11\" class=\"data row1 col11\" >6</td>\n",
       "                        <td id=\"T_607b29a6_e222_11e9_b79c_337eb6254518row1_col12\" class=\"data row1 col12\" >6</td>\n",
       "                        <td id=\"T_607b29a6_e222_11e9_b79c_337eb6254518row1_col13\" class=\"data row1 col13\" >5</td>\n",
       "            </tr>\n",
       "            <tr>\n",
       "                        <th id=\"T_607b29a6_e222_11e9_b79c_337eb6254518level0_row2\" class=\"row_heading level0 row2\" >466</th>\n",
       "                        <td id=\"T_607b29a6_e222_11e9_b79c_337eb6254518row2_col0\" class=\"data row2 col0\" >6</td>\n",
       "                        <td id=\"T_607b29a6_e222_11e9_b79c_337eb6254518row2_col1\" class=\"data row2 col1\" >10</td>\n",
       "                        <td id=\"T_607b29a6_e222_11e9_b79c_337eb6254518row2_col2\" class=\"data row2 col2\" >163834</td>\n",
       "                        <td id=\"T_607b29a6_e222_11e9_b79c_337eb6254518row2_col3\" class=\"data row2 col3\" >163942</td>\n",
       "                        <td id=\"T_607b29a6_e222_11e9_b79c_337eb6254518row2_col4\" class=\"data row2 col4\" >91018.5</td>\n",
       "                        <td id=\"T_607b29a6_e222_11e9_b79c_337eb6254518row2_col5\" class=\"data row2 col5\" >15731.1</td>\n",
       "                        <td id=\"T_607b29a6_e222_11e9_b79c_337eb6254518row2_col6\" class=\"data row2 col6\" >15751.2</td>\n",
       "                        <td id=\"T_607b29a6_e222_11e9_b79c_337eb6254518row2_col7\" class=\"data row2 col7\" >8452.15</td>\n",
       "                        <td id=\"T_607b29a6_e222_11e9_b79c_337eb6254518row2_col8\" class=\"data row2 col8\" >6523</td>\n",
       "                        <td id=\"T_607b29a6_e222_11e9_b79c_337eb6254518row2_col9\" class=\"data row2 col9\" >6430</td>\n",
       "                        <td id=\"T_607b29a6_e222_11e9_b79c_337eb6254518row2_col10\" class=\"data row2 col10\" >6497</td>\n",
       "                        <td id=\"T_607b29a6_e222_11e9_b79c_337eb6254518row2_col11\" class=\"data row2 col11\" >6</td>\n",
       "                        <td id=\"T_607b29a6_e222_11e9_b79c_337eb6254518row2_col12\" class=\"data row2 col12\" >6</td>\n",
       "                        <td id=\"T_607b29a6_e222_11e9_b79c_337eb6254518row2_col13\" class=\"data row2 col13\" >5</td>\n",
       "            </tr>\n",
       "            <tr>\n",
       "                        <th id=\"T_607b29a6_e222_11e9_b79c_337eb6254518level0_row3\" class=\"row_heading level0 row3\" >467</th>\n",
       "                        <td id=\"T_607b29a6_e222_11e9_b79c_337eb6254518row3_col0\" class=\"data row3 col0\" >10</td>\n",
       "                        <td id=\"T_607b29a6_e222_11e9_b79c_337eb6254518row3_col1\" class=\"data row3 col1\" >1</td>\n",
       "                        <td id=\"T_607b29a6_e222_11e9_b79c_337eb6254518row3_col2\" class=\"data row3 col2\" >52925.3</td>\n",
       "                        <td id=\"T_607b29a6_e222_11e9_b79c_337eb6254518row3_col3\" class=\"data row3 col3\" >52548.5</td>\n",
       "                        <td id=\"T_607b29a6_e222_11e9_b79c_337eb6254518row3_col4\" class=\"data row3 col4\" >32461.7</td>\n",
       "                        <td id=\"T_607b29a6_e222_11e9_b79c_337eb6254518row3_col5\" class=\"data row3 col5\" >46396.3</td>\n",
       "                        <td id=\"T_607b29a6_e222_11e9_b79c_337eb6254518row3_col6\" class=\"data row3 col6\" >46038.5</td>\n",
       "                        <td id=\"T_607b29a6_e222_11e9_b79c_337eb6254518row3_col7\" class=\"data row3 col7\" >25939.7</td>\n",
       "                        <td id=\"T_607b29a6_e222_11e9_b79c_337eb6254518row3_col8\" class=\"data row3 col8\" >6529</td>\n",
       "                        <td id=\"T_607b29a6_e222_11e9_b79c_337eb6254518row3_col9\" class=\"data row3 col9\" >6510</td>\n",
       "                        <td id=\"T_607b29a6_e222_11e9_b79c_337eb6254518row3_col10\" class=\"data row3 col10\" >6522</td>\n",
       "                        <td id=\"T_607b29a6_e222_11e9_b79c_337eb6254518row3_col11\" class=\"data row3 col11\" >9.97794</td>\n",
       "                        <td id=\"T_607b29a6_e222_11e9_b79c_337eb6254518row3_col12\" class=\"data row3 col12\" >9.98713</td>\n",
       "                        <td id=\"T_607b29a6_e222_11e9_b79c_337eb6254518row3_col13\" class=\"data row3 col13\" >8.99816</td>\n",
       "            </tr>\n",
       "            <tr>\n",
       "                        <th id=\"T_607b29a6_e222_11e9_b79c_337eb6254518level0_row4\" class=\"row_heading level0 row4\" >468</th>\n",
       "                        <td id=\"T_607b29a6_e222_11e9_b79c_337eb6254518row4_col0\" class=\"data row4 col0\" >10</td>\n",
       "                        <td id=\"T_607b29a6_e222_11e9_b79c_337eb6254518row4_col1\" class=\"data row4 col1\" >5</td>\n",
       "                        <td id=\"T_607b29a6_e222_11e9_b79c_337eb6254518row4_col2\" class=\"data row4 col2\" >238424</td>\n",
       "                        <td id=\"T_607b29a6_e222_11e9_b79c_337eb6254518row4_col3\" class=\"data row4 col3\" >237783</td>\n",
       "                        <td id=\"T_607b29a6_e222_11e9_b79c_337eb6254518row4_col4\" class=\"data row4 col4\" >136220</td>\n",
       "                        <td id=\"T_607b29a6_e222_11e9_b79c_337eb6254518row4_col5\" class=\"data row4 col5\" >46379.1</td>\n",
       "                        <td id=\"T_607b29a6_e222_11e9_b79c_337eb6254518row4_col6\" class=\"data row4 col6\" >46254.6</td>\n",
       "                        <td id=\"T_607b29a6_e222_11e9_b79c_337eb6254518row4_col7\" class=\"data row4 col7\" >25939.7</td>\n",
       "                        <td id=\"T_607b29a6_e222_11e9_b79c_337eb6254518row4_col8\" class=\"data row4 col8\" >6529</td>\n",
       "                        <td id=\"T_607b29a6_e222_11e9_b79c_337eb6254518row4_col9\" class=\"data row4 col9\" >6510</td>\n",
       "                        <td id=\"T_607b29a6_e222_11e9_b79c_337eb6254518row4_col10\" class=\"data row4 col10\" >6522</td>\n",
       "                        <td id=\"T_607b29a6_e222_11e9_b79c_337eb6254518row4_col11\" class=\"data row4 col11\" >9.97794</td>\n",
       "                        <td id=\"T_607b29a6_e222_11e9_b79c_337eb6254518row4_col12\" class=\"data row4 col12\" >9.98713</td>\n",
       "                        <td id=\"T_607b29a6_e222_11e9_b79c_337eb6254518row4_col13\" class=\"data row4 col13\" >8.99816</td>\n",
       "            </tr>\n",
       "            <tr>\n",
       "                        <th id=\"T_607b29a6_e222_11e9_b79c_337eb6254518level0_row5\" class=\"row_heading level0 row5\" >469</th>\n",
       "                        <td id=\"T_607b29a6_e222_11e9_b79c_337eb6254518row5_col0\" class=\"data row5 col0\" >10</td>\n",
       "                        <td id=\"T_607b29a6_e222_11e9_b79c_337eb6254518row5_col1\" class=\"data row5 col1\" >10</td>\n",
       "                        <td id=\"T_607b29a6_e222_11e9_b79c_337eb6254518row5_col2\" class=\"data row5 col2\" >470291</td>\n",
       "                        <td id=\"T_607b29a6_e222_11e9_b79c_337eb6254518row5_col3\" class=\"data row5 col3\" >469703</td>\n",
       "                        <td id=\"T_607b29a6_e222_11e9_b79c_337eb6254518row5_col4\" class=\"data row5 col4\" >265919</td>\n",
       "                        <td id=\"T_607b29a6_e222_11e9_b79c_337eb6254518row5_col5\" class=\"data row5 col5\" >46376.2</td>\n",
       "                        <td id=\"T_607b29a6_e222_11e9_b79c_337eb6254518row5_col6\" class=\"data row5 col6\" >46319.4</td>\n",
       "                        <td id=\"T_607b29a6_e222_11e9_b79c_337eb6254518row5_col7\" class=\"data row5 col7\" >25939.7</td>\n",
       "                        <td id=\"T_607b29a6_e222_11e9_b79c_337eb6254518row5_col8\" class=\"data row5 col8\" >6529</td>\n",
       "                        <td id=\"T_607b29a6_e222_11e9_b79c_337eb6254518row5_col9\" class=\"data row5 col9\" >6509</td>\n",
       "                        <td id=\"T_607b29a6_e222_11e9_b79c_337eb6254518row5_col10\" class=\"data row5 col10\" >6522</td>\n",
       "                        <td id=\"T_607b29a6_e222_11e9_b79c_337eb6254518row5_col11\" class=\"data row5 col11\" >9.97794</td>\n",
       "                        <td id=\"T_607b29a6_e222_11e9_b79c_337eb6254518row5_col12\" class=\"data row5 col12\" >9.98713</td>\n",
       "                        <td id=\"T_607b29a6_e222_11e9_b79c_337eb6254518row5_col13\" class=\"data row5 col13\" >8.99816</td>\n",
       "            </tr>\n",
       "    </tbody></table>"
      ],
      "text/plain": [
       "<pandas.io.formats.style.Styler at 0x7fc514e80610>"
      ]
     },
     "execution_count": 6,
     "metadata": {},
     "output_type": "execute_result"
    }
   ],
   "source": [
    "# full, alpha = 0.95\n",
    "#df = qs.project(on=[\"config.sz_clique\", \"config.nsel\", \"config.lambd\",\n",
    "df = qs.project(on=[\"config.nsel\", \"config.lambd\",\n",
    "               {\"metrics.Zge95\": np.mean},\n",
    "               {\"metrics.Zgv\": np.mean},\n",
    "               {\"metrics.Zmc\": np.mean},\n",
    "               {\"metrics.ge95\": np.sum},\n",
    "               {\"metrics.gv\": np.sum},\n",
    "               {\"metrics.mc\": np.sum},\n",
    "               {\"metrics.Qge95\": np.mean},\n",
    "               {\"metrics.Qgv\": np.mean},\n",
    "               {\"metrics.Qmc\": np.mean},\n",
    "               {\"metrics.Pge95\": np.mean},\n",
    "               {\"metrics.Pgv\": np.mean},\n",
    "               {\"metrics.Pmc\": np.mean},\n",
    "              ])\n",
    "h = partial(highlight_max_min, start=2)\n",
    "df.style.apply(h, axis=1)"
   ]
  },
  {
   "cell_type": "code",
   "execution_count": 7,
   "metadata": {},
   "outputs": [
    {
     "name": "stdout",
     "output_type": "stream",
     "text": [
      "\\begin{tabular}{llrrrrrrrrrrrrrr}\n",
      "\\toprule\n",
      "{} &  Dataset &   P &  lambd &       QDGE &       QDGV &       QDMC &       DGE &       DGV &       DMC &     QGE &     QGV &     QMC &   PGE &   PGV &  PMC \\\\\n",
      "exp\\_id &          &     &        &            &            &            &           &           &           &         &         &         &       &       &      \\\\\n",
      "\\midrule\n",
      "457    &  scholar &   6 &      1 &   22258.25 &   22053.14 &   14949.15 &  15734.25 &  15631.14 &   8452.15 &  6524.0 &  6422.0 &  6497.0 &  6.00 &  6.00 &  5.0 \\\\\n",
      "465    &  scholar &   6 &      5 &   85159.28 &   85010.09 &   48757.75 &  15728.06 &  15717.02 &   8452.15 &  6519.0 &  6425.0 &  6497.0 &  6.00 &  6.00 &  5.0 \\\\\n",
      "466    &  scholar &   6 &     10 &  163833.55 &  163942.39 &   91018.50 &  15731.06 &  15751.24 &   8452.15 &  6523.0 &  6430.0 &  6497.0 &  6.00 &  6.00 &  5.0 \\\\\n",
      "467    &  scholar &  10 &      1 &   52925.29 &   52548.52 &   32461.70 &  46396.29 &  46038.52 &  25939.70 &  6529.0 &  6510.0 &  6522.0 &  9.98 &  9.99 &  9.0 \\\\\n",
      "468    &  scholar &  10 &      5 &  238424.28 &  237782.79 &  136220.49 &  46379.06 &  46254.56 &  25939.70 &  6529.0 &  6510.0 &  6522.0 &  9.98 &  9.99 &  9.0 \\\\\n",
      "469    &  scholar &  10 &     10 &  470291.14 &  469702.83 &  265918.98 &  46376.21 &  46319.38 &  25939.70 &  6529.0 &  6509.0 &  6522.0 &  9.98 &  9.99 &  9.0 \\\\\n",
      "\\bottomrule\n",
      "\\end{tabular}\n",
      "\n"
     ]
    }
   ],
   "source": [
    "df.columns = list(map(lambda x: md[x] if x in md else x, df.columns))\n",
    "df.insert(0, column='Dataset', value=['scholar']*len(df))\n",
    "print(df.round(2).to_latex())"
   ]
  },
  {
   "cell_type": "markdown",
   "metadata": {},
   "source": [
    "# Example"
   ]
  },
  {
   "cell_type": "code",
   "execution_count": 5,
   "metadata": {},
   "outputs": [
    {
     "name": "stdout",
     "output_type": "stream",
     "text": [
      "ge: 29.09\n"
     ]
    }
   ],
   "source": [
    "from data import gen_scholar_net\n",
    "\n",
    "kws, i2c, coms, i2v, vs, c2i = gen_scholar_net(k=10)\n",
    "intra_ = intra.Intra(np.arange(len(kws)), i2c, len(coms), 6, cls2vec=c2i,\n",
    "                     dist=partial(intra.dist_jaccard, i2v=i2v),\n",
    "                     quality=intra.Quality(i2v),\n",
    "                     tradeoff=1, eps=1)\n",
    "\n",
    "f = partial(intra_.greedy_edge, exact=False, alpha=0.95)\n",
    "sel = run_once('ge', f, intra_, len(coms), None)"
   ]
  },
  {
   "cell_type": "code",
   "execution_count": 6,
   "metadata": {},
   "outputs": [
    {
     "data": {
      "text/plain": [
       "544"
      ]
     },
     "execution_count": 6,
     "metadata": {},
     "output_type": "execute_result"
    }
   ],
   "source": [
    "len(sel)"
   ]
  },
  {
   "cell_type": "code",
   "execution_count": 9,
   "metadata": {},
   "outputs": [
    {
     "data": {
      "text/plain": [
       "['conceptual model',\n",
       " 'data quality',\n",
       " 'temporal databases',\n",
       " 'data type',\n",
       " 'query approximation',\n",
       " 'software development']"
      ]
     },
     "execution_count": 9,
     "metadata": {},
     "output_type": "execute_result"
    }
   ],
   "source": [
    "[kws[i] for i in sel[0]]"
   ]
  },
  {
   "cell_type": "code",
   "execution_count": 11,
   "metadata": {},
   "outputs": [
    {
     "data": {
      "text/plain": [
       "23827"
      ]
     },
     "execution_count": 11,
     "metadata": {},
     "output_type": "execute_result"
    }
   ],
   "source": [
    "len(kws)"
   ]
  },
  {
   "cell_type": "code",
   "execution_count": 37,
   "metadata": {},
   "outputs": [
    {
     "name": "stdout",
     "output_type": "stream",
     "text": [
      "0\n",
      "5000000\n",
      "10000000\n",
      "15000000\n"
     ]
    }
   ],
   "source": [
    "v2name = dict()\n",
    "\n",
    "with open(path.join('dataset', 'AMiner-Author.txt'), 'r') as fin:\n",
    "    for i,l in enumerate(fin):\n",
    "        if l.startswith('#index '):\n",
    "            idx = int(l[7:])\n",
    "        if l.startswith('#n '):\n",
    "            name = l[3:].strip()\n",
    "        if l.startswith('#t '):\n",
    "            k = l[3:].strip()\n",
    "            if 'data mining' in k:\n",
    "                v2name[idx] = name\n",
    "        if i % 5000000 == 0: print(i)"
   ]
  },
  {
   "cell_type": "code",
   "execution_count": 38,
   "metadata": {},
   "outputs": [
    {
     "data": {
      "text/plain": [
       "93"
      ]
     },
     "execution_count": 38,
     "metadata": {},
     "output_type": "execute_result"
    }
   ],
   "source": [
    "nodes_s = np.concatenate([list(c) for c in coms])\n",
    "names = [v2name[i] for i in nodes_s if i in v2name]\n",
    "len(names)"
   ]
  },
  {
   "cell_type": "code",
   "execution_count": 39,
   "metadata": {},
   "outputs": [
    {
     "data": {
      "text/plain": [
       "49"
      ]
     },
     "execution_count": 39,
     "metadata": {},
     "output_type": "execute_result"
    }
   ],
   "source": [
    "v_with_name = v2name.keys()\n",
    "coms_s = [i for i,c in enumerate(coms) if len(c.intersection(v_with_name)) > 0]\n",
    "len(coms_s)"
   ]
  },
  {
   "cell_type": "code",
   "execution_count": null,
   "metadata": {},
   "outputs": [],
   "source": [
    "# for i in nodes_s if i in v2name\n",
    "\n",
    "# com_i = [i for i,c in enumerate(coms) if tar in c]\n",
    "# print(len(com_i))\n",
    "# for s in [sel[i] for i in com_i]:\n",
    "#     print([kws[j] for j in s])"
   ]
  },
  {
   "cell_type": "code",
   "execution_count": 40,
   "metadata": {
    "scrolled": false
   },
   "outputs": [
    {
     "name": "stdout",
     "output_type": "stream",
     "text": [
      "[   'J. Trujillo',\n",
      "    'Durg Singh Chauhan',\n",
      "    'Vivek Sehgal',\n",
      "    'Joe Mambretti',\n",
      "    'Aparna Krishna',\n",
      "    'Deepti Dixit',\n",
      "    'Vincent Oria',\n",
      "    'Firas Alljalad',\n",
      "    'Anirban Bhaumik',\n",
      "    'Sankar Virdhagriswaran',\n",
      "    'E. G. Stephan',\n",
      "    'Karen Schuchardt',\n",
      "    'James N. Gray',\n",
      "    'Seung-Soo Park',\n",
      "    'B. Zhang',\n",
      "    'Richi Nayak',\n",
      "    'Zhenhuan Gong',\n",
      "    'Jacqueline Chen',\n",
      "    'Stephane Ethier',\n",
      "    'C. S. Chang',\n",
      "    'Seung-Hoe Ku',\n",
      "    'Sriram Lakshminarasimhan',\n",
      "    'Jeffrey D. Ullman',\n",
      "    'Johannes E. Gehrke',\n",
      "    'Rakesh Agrawal',\n",
      "    'James N. Gray',\n",
      "    'Alexander S. Szalay',\n",
      "    'Sunita Sarawagi',\n",
      "    'Raghu Ramakrishnan',\n",
      "    'Beng Chin Ooi',\n",
      "    'James N. Gray',\n",
      "    'Joel Plutchak',\n",
      "    'Joseph M. Futrelle',\n",
      "    'Tiziana Catarci',\n",
      "    'Elisa Quintarelli',\n",
      "    'L. Tanca',\n",
      "    'Giuseppe Mangano',\n",
      "    'Lara De Vinco',\n",
      "    'Ciro Donalek',\n",
      "    'Roberto Amato',\n",
      "    'Carmine Del Mondo',\n",
      "    'R. Tagliaferri',\n",
      "    'Angelo Ciaramella',\n",
      "    'Gennaro Miele',\n",
      "    'G Longo',\n",
      "    'A. Staiano',\n",
      "    'G. Raiconi',\n",
      "    'Laks V. S. Lakshmanan',\n",
      "    'Oliver Rübel',\n",
      "    'Christoph M. Friedrich',\n",
      "    'Oliver Rübel',\n",
      "    'Norbert Podhorszki',\n",
      "    'R. Elmasri',\n",
      "    'John F. Roddick',\n",
      "    'Joseph M. Futrelle',\n",
      "    'E. G. Stephan',\n",
      "    'William Cody',\n",
      "    'Rob Baxter',\n",
      "    'Mark I Parsons',\n",
      "    'Roberto J. Bayardo, Jr.',\n",
      "    'Michael Ellmer',\n",
      "    'Joe Mambretti',\n",
      "    'Barbara Catania',\n",
      "    'Elisa Bertino',\n",
      "    'R. Grossman',\n",
      "    'Tim Petersen',\n",
      "    'Muhammad S. Sarwar',\n",
      "    'Chuck Violette',\n",
      "    'Tim Petersen',\n",
      "    'Y. Y. Yao',\n",
      "    'David B. Erickson',\n",
      "    'Tahsin M. Kurç',\n",
      "    'Qiang Yang',\n",
      "    'Ning Liu',\n",
      "    'Hui Wang',\n",
      "    'D. Laurent',\n",
      "    'F. Cordero',\n",
      "    'Pak Chung Wong',\n",
      "    'Maurice D. Mulvenna',\n",
      "    'P. J. McCullagh',\n",
      "    'Karen Schuchardt',\n",
      "    'Florentino Fdez-Riverola',\n",
      "    'Anália Lourenço',\n",
      "    'Bjoern-Elmar Macek',\n",
      "    'Stephan Doerfel',\n",
      "    'Juergen Mueller',\n",
      "    'Martin Becker',\n",
      "    'Martin Swany',\n",
      "    'Prem Melville',\n",
      "    'Naoki Abe',\n",
      "    'H. C. Kuo',\n",
      "    'Carlos de Castro',\n",
      "    'Enrique García']\n"
     ]
    }
   ],
   "source": [
    "import pprint\n",
    "pp = pprint.PrettyPrinter(indent=4)\n",
    "pp.pprint(names)"
   ]
  },
  {
   "cell_type": "code",
   "execution_count": 42,
   "metadata": {
    "scrolled": false
   },
   "outputs": [
    {
     "name": "stdout",
     "output_type": "stream",
     "text": [
      "[   'conceptual model',\n",
      "    'data quality',\n",
      "    'temporal databases',\n",
      "    'data type',\n",
      "    'query approximation',\n",
      "    'software development']\n",
      "[   'access control mechanism',\n",
      "    'proposed technique',\n",
      "    'geospatial data',\n",
      "    'deadlock detection',\n",
      "    'augmented baseline network',\n",
      "    'systemthis paper']\n",
      "[   'end-to-end services compose',\n",
      "    'grid application',\n",
      "    'actual data',\n",
      "    'active network',\n",
      "    'bandwidth fragmentation',\n",
      "    'noteworthy data point']\n",
      "[   'hypermedia functionality',\n",
      "    'data locality',\n",
      "    'recommender system',\n",
      "    'power system',\n",
      "    'generalized hypertext',\n",
      "    'performance level']\n",
      "[   'omg mobile agent system',\n",
      "    'cloud computing',\n",
      "    'network management',\n",
      "    'modeling method',\n",
      "    'hpc application',\n",
      "    'multimedia application']\n",
      "[   'case study',\n",
      "    'data management',\n",
      "    'chemical science',\n",
      "    'data provenance',\n",
      "    'component model',\n",
      "    'data fusion']\n",
      "[   'database managementsystem r',\n",
      "    'previous paper',\n",
      "    'xml data model',\n",
      "    'shared data',\n",
      "    'relational model',\n",
      "    'data base system']\n",
      "[   'independently-developed binary component',\n",
      "    'data warehouse',\n",
      "    'underlying knowledge engineering technology',\n",
      "    'home network',\n",
      "    'mobile ugc service',\n",
      "    'olap metadata interchange system']\n",
      "[   'multimedia storage system',\n",
      "    'sensor data',\n",
      "    'query processing',\n",
      "    'deployable networked infomechanical system',\n",
      "    'ground robot',\n",
      "    'resource usage']\n",
      "[   'structured document',\n",
      "    'efficient query processing',\n",
      "    'xml schema',\n",
      "    'clustering approach',\n",
      "    'semantic annotation',\n",
      "    'evaluation methodology']\n",
      "[   'data compression',\n",
      "    'big data',\n",
      "    'o bandwidth',\n",
      "    'efficient data restructuring',\n",
      "    'aggregating data access',\n",
      "    'data point']\n",
      "[   'data store',\n",
      "    'data processing',\n",
      "    'data instance',\n",
      "    'health data',\n",
      "    'large system',\n",
      "    'database machine']\n",
      "[   'database system',\n",
      "    'software engineering',\n",
      "    'business rule',\n",
      "    'data presentation',\n",
      "    'information integration system',\n",
      "    'relevant information']\n",
      "[   'semantic data',\n",
      "    'content management middleware',\n",
      "    'spatial data',\n",
      "    'census data',\n",
      "    'information granularity',\n",
      "    'associates data output']\n",
      "[   'fault tolerance',\n",
      "    'overlay network',\n",
      "    'information integration',\n",
      "    'evaluation data',\n",
      "    'service semantic overlay',\n",
      "    'data exploration']\n",
      "[   '2-dimensional data visualization',\n",
      "    'archival data',\n",
      "    'high dimensional data',\n",
      "    'complex scientific data',\n",
      "    'italian workshop',\n",
      "    'data distribution']\n",
      "[   'data element',\n",
      "    'sequence data',\n",
      "    'structured data',\n",
      "    'data node',\n",
      "    'data cube',\n",
      "    'game engine']\n",
      "[   'collaborative visualization',\n",
      "    'query data',\n",
      "    'expression data',\n",
      "    'large data',\n",
      "    'physical view',\n",
      "    'digitized image']\n",
      "[   'data dimensionality',\n",
      "    'quarterly data',\n",
      "    'resource broker',\n",
      "    'web browser',\n",
      "    'cardiac cycle',\n",
      "    'treatment planning']\n",
      "[   'clustering-based data classification',\n",
      "    'large scale data',\n",
      "    'o rate',\n",
      "    'data parallelism',\n",
      "    'visualization result',\n",
      "    'self-adaptive time integration']\n",
      "[   'grid environment',\n",
      "    'information system',\n",
      "    'available information',\n",
      "    'monitoring system',\n",
      "    'conjunctive query',\n",
      "    'data analytics']\n",
      "[   'feature model',\n",
      "    'data warehousing',\n",
      "    'complex object',\n",
      "    'temporal database management system',\n",
      "    'abstract data type',\n",
      "    'historical database']\n",
      "[   'dynamic data',\n",
      "    'knowledge engineering',\n",
      "    'knowledge spaces',\n",
      "    'provenance information',\n",
      "    'incomplete data',\n",
      "    'data consumer']\n",
      "[   'sql data',\n",
      "    'digital video',\n",
      "    'image content',\n",
      "    'efficient data access plan',\n",
      "    'schema mapping',\n",
      "    'functional programming language']\n",
      "[   'fpga supercomputerin',\n",
      "    'data analysis',\n",
      "    'high performance computing system',\n",
      "    'influence performance',\n",
      "    'mpi standard',\n",
      "    'data provider']\n",
      "[   'query formulation',\n",
      "    'improved algorithm',\n",
      "    'information discovery',\n",
      "    'object-oriented data model',\n",
      "    'new environment',\n",
      "    'bdi agent']\n",
      "[   'large vocabulary continuous speech',\n",
      "    'supervector space',\n",
      "    'hand gesture',\n",
      "    'biomolecular simulation',\n",
      "    'image retrieval',\n",
      "    'open standard']\n",
      "[   'dependent partial rollback',\n",
      "    'optical network',\n",
      "    'obs network',\n",
      "    'grid system',\n",
      "    'wide-area network',\n",
      "    'network function']\n",
      "[   'conceptual annotation',\n",
      "    'data stream',\n",
      "    'user interest',\n",
      "    'boosting learning',\n",
      "    'access control',\n",
      "    'information content']\n",
      "[   'virtual environment',\n",
      "    'data mining',\n",
      "    'data product',\n",
      "    'analyzing high energy physics',\n",
      "    'high energy physicsanalyzing high',\n",
      "    'storage management']\n",
      "[   'crime analysis',\n",
      "    'microarray data',\n",
      "    'mutual information',\n",
      "    'personalized search agent',\n",
      "    'coplink project',\n",
      "    'recommendation algorithm']\n",
      "[   'environment research',\n",
      "    'scientific application',\n",
      "    'data provider specific solution',\n",
      "    'future research direction',\n",
      "    'live migration',\n",
      "    'human activity']\n",
      "[   'visualization technique',\n",
      "    'crime pattern',\n",
      "    'infectious disease outbreak',\n",
      "    'information quality',\n",
      "    'bordersafe project',\n",
      "    'homeland security']\n",
      "[   'natural language',\n",
      "    'computational intelligence',\n",
      "    'development process',\n",
      "    'intrusion detection system',\n",
      "    'design pattern',\n",
      "    'fuzzy c-means']\n",
      "[   'network operator',\n",
      "    'data center operator',\n",
      "    'climate data',\n",
      "    'data integrity',\n",
      "    'performance potential',\n",
      "    'system software']\n",
      "[   'knowledge acquisition',\n",
      "    'data server',\n",
      "    'compiler analysis',\n",
      "    'large image',\n",
      "    'scientific workflows',\n",
      "    'scientific data analysis']\n",
      "[   'new algorithm',\n",
      "    'digital library',\n",
      "    'test data',\n",
      "    'commercial search engine',\n",
      "    'search performance',\n",
      "    'co-clusteringheterogeneous data co-clustering']\n",
      "[   'linguistic term',\n",
      "    'heterogeneous data',\n",
      "    'historical data',\n",
      "    'digital video information',\n",
      "    'exterior part',\n",
      "    'different video quality metrics']\n",
      "[   'sdi application',\n",
      "    'multimedia data',\n",
      "    'spatial data infrastructure',\n",
      "    'soft computing',\n",
      "    'functional dependency',\n",
      "    'sdi processing']\n",
      "[   'signal transduction cascade',\n",
      "    'stochastic petri nets',\n",
      "    'markov chain',\n",
      "    'co-clustering technique',\n",
      "    'realistic computational model',\n",
      "    'fluid model']\n",
      "[   'scientific code',\n",
      "    'knowledge management',\n",
      "    'global climate change',\n",
      "    'pixel-based visualization',\n",
      "    'graph layout',\n",
      "    'integrated approach']\n",
      "[   'artificial system',\n",
      "    'feature selection',\n",
      "    'accelerometer data',\n",
      "    'night-time specific study',\n",
      "    'domain knowledge',\n",
      "    'sensor enriched environment']\n",
      "[   'earth simulator',\n",
      "    'data archives',\n",
      "    'mesh data',\n",
      "    'translates data',\n",
      "    'analysis algorithm',\n",
      "    'foam climate model']\n",
      "[   'document retrieval',\n",
      "    'binary classification',\n",
      "    'concept drift',\n",
      "    'optimization tool',\n",
      "    'biomedical text',\n",
      "    'topological analysis']\n",
      "[   'subjective data',\n",
      "    'web mining',\n",
      "    'online social network',\n",
      "    'ubiquitous social computing',\n",
      "    'social media mining',\n",
      "    'analysis result']\n",
      "[   'internet backplane protocol',\n",
      "    'bulk data transfer',\n",
      "    'resource-intensive application',\n",
      "    'grid applications desire',\n",
      "    'collective communicationsthe performance',\n",
      "    'deliverable performance potential']\n",
      "[   'data space',\n",
      "    'active dual supervision',\n",
      "    'collections process',\n",
      "    'data acquisition',\n",
      "    'corpus data',\n",
      "    'ilog optimization engine']\n",
      "[   'inp p-quantum-well infrared photodetectors',\n",
      "    'proposed approach',\n",
      "    'learner-centered design',\n",
      "    'frequent itemsets',\n",
      "    'markov model',\n",
      "    'short text segment']\n",
      "[   'direct family',\n",
      "    'data mining technique',\n",
      "    'continuous improvement',\n",
      "    'free data mining tool',\n",
      "    'enough resource',\n",
      "    'main data mining technique']\n"
     ]
    }
   ],
   "source": [
    "for s in [sel[i] for i in coms_s]:\n",
    "    pp.pprint([kws[j] for j in s])"
   ]
  },
  {
   "cell_type": "code",
   "execution_count": 45,
   "metadata": {},
   "outputs": [
    {
     "name": "stdout",
     "output_type": "stream",
     "text": [
      "[   'database managementsystem r',\n",
      "    'previous paper',\n",
      "    'xml data model',\n",
      "    'shared data',\n",
      "    'relational model',\n",
      "    'data base system']\n",
      "[   'data compression',\n",
      "    'big data',\n",
      "    'o bandwidth',\n",
      "    'efficient data restructuring',\n",
      "    'aggregating data access',\n",
      "    'data point']\n",
      "[   'data store',\n",
      "    'data processing',\n",
      "    'data instance',\n",
      "    'health data',\n",
      "    'large system',\n",
      "    'database machine']\n",
      "[   'semantic data',\n",
      "    'content management middleware',\n",
      "    'spatial data',\n",
      "    'census data',\n",
      "    'information granularity',\n",
      "    'associates data output']\n",
      "[   '2-dimensional data visualization',\n",
      "    'archival data',\n",
      "    'high dimensional data',\n",
      "    'complex scientific data',\n",
      "    'italian workshop',\n",
      "    'data distribution']\n",
      "[   'data element',\n",
      "    'sequence data',\n",
      "    'structured data',\n",
      "    'data node',\n",
      "    'data cube',\n",
      "    'game engine']\n",
      "[   'feature model',\n",
      "    'data warehousing',\n",
      "    'complex object',\n",
      "    'temporal database management system',\n",
      "    'abstract data type',\n",
      "    'historical database']\n"
     ]
    }
   ],
   "source": [
    "for s in [sel[i] for i in coms_s]:\n",
    "    ks = [kws[j] for j in s]\n",
    "    if len([k for k in ks if 'data' in k]) > 3:\n",
    "        pp.pprint(ks)"
   ]
  },
  {
   "cell_type": "code",
   "execution_count": 52,
   "metadata": {},
   "outputs": [],
   "source": [
    "import pandas as pd\n",
    "\n",
    "kw_s = []\n",
    "for s in [sel[i] for i in coms_s]:\n",
    "    ks = [kws[j] for j in s]\n",
    "    if len([k for k in ks if 'data' in k]) > 3:\n",
    "        kw_s.append(ks)\n",
    "df = pd.DataFrame(kw_s)"
   ]
  },
  {
   "cell_type": "code",
   "execution_count": 53,
   "metadata": {},
   "outputs": [
    {
     "data": {
      "text/html": [
       "<div>\n",
       "<style scoped>\n",
       "    .dataframe tbody tr th:only-of-type {\n",
       "        vertical-align: middle;\n",
       "    }\n",
       "\n",
       "    .dataframe tbody tr th {\n",
       "        vertical-align: top;\n",
       "    }\n",
       "\n",
       "    .dataframe thead th {\n",
       "        text-align: right;\n",
       "    }\n",
       "</style>\n",
       "<table border=\"1\" class=\"dataframe\">\n",
       "  <thead>\n",
       "    <tr style=\"text-align: right;\">\n",
       "      <th></th>\n",
       "      <th>C1</th>\n",
       "      <th>C2</th>\n",
       "      <th>C3</th>\n",
       "      <th>C4</th>\n",
       "      <th>C5</th>\n",
       "      <th>C6</th>\n",
       "      <th>C7</th>\n",
       "    </tr>\n",
       "  </thead>\n",
       "  <tbody>\n",
       "    <tr>\n",
       "      <th>0</th>\n",
       "      <td>database managementsystem r</td>\n",
       "      <td>data compression</td>\n",
       "      <td>data store</td>\n",
       "      <td>semantic data</td>\n",
       "      <td>2-dimensional data visualization</td>\n",
       "      <td>data element</td>\n",
       "      <td>feature model</td>\n",
       "    </tr>\n",
       "    <tr>\n",
       "      <th>1</th>\n",
       "      <td>previous paper</td>\n",
       "      <td>big data</td>\n",
       "      <td>data processing</td>\n",
       "      <td>content management middleware</td>\n",
       "      <td>archival data</td>\n",
       "      <td>sequence data</td>\n",
       "      <td>data warehousing</td>\n",
       "    </tr>\n",
       "    <tr>\n",
       "      <th>2</th>\n",
       "      <td>xml data model</td>\n",
       "      <td>o bandwidth</td>\n",
       "      <td>data instance</td>\n",
       "      <td>spatial data</td>\n",
       "      <td>high dimensional data</td>\n",
       "      <td>structured data</td>\n",
       "      <td>complex object</td>\n",
       "    </tr>\n",
       "    <tr>\n",
       "      <th>3</th>\n",
       "      <td>shared data</td>\n",
       "      <td>efficient data restructuring</td>\n",
       "      <td>health data</td>\n",
       "      <td>census data</td>\n",
       "      <td>complex scientific data</td>\n",
       "      <td>data node</td>\n",
       "      <td>temporal database management system</td>\n",
       "    </tr>\n",
       "    <tr>\n",
       "      <th>4</th>\n",
       "      <td>relational model</td>\n",
       "      <td>aggregating data access</td>\n",
       "      <td>large system</td>\n",
       "      <td>information granularity</td>\n",
       "      <td>italian workshop</td>\n",
       "      <td>data cube</td>\n",
       "      <td>abstract data type</td>\n",
       "    </tr>\n",
       "    <tr>\n",
       "      <th>5</th>\n",
       "      <td>data base system</td>\n",
       "      <td>data point</td>\n",
       "      <td>database machine</td>\n",
       "      <td>associates data output</td>\n",
       "      <td>data distribution</td>\n",
       "      <td>game engine</td>\n",
       "      <td>historical database</td>\n",
       "    </tr>\n",
       "  </tbody>\n",
       "</table>\n",
       "</div>"
      ],
      "text/plain": [
       "                            C1                            C2  \\\n",
       "0  database managementsystem r              data compression   \n",
       "1               previous paper                      big data   \n",
       "2               xml data model                   o bandwidth   \n",
       "3                  shared data  efficient data restructuring   \n",
       "4             relational model       aggregating data access   \n",
       "5             data base system                    data point   \n",
       "\n",
       "                 C3                             C4  \\\n",
       "0        data store                  semantic data   \n",
       "1   data processing  content management middleware   \n",
       "2     data instance                   spatial data   \n",
       "3       health data                    census data   \n",
       "4      large system        information granularity   \n",
       "5  database machine         associates data output   \n",
       "\n",
       "                                 C5               C6  \\\n",
       "0  2-dimensional data visualization     data element   \n",
       "1                     archival data    sequence data   \n",
       "2             high dimensional data  structured data   \n",
       "3           complex scientific data        data node   \n",
       "4                  italian workshop        data cube   \n",
       "5                 data distribution      game engine   \n",
       "\n",
       "                                    C7  \n",
       "0                        feature model  \n",
       "1                     data warehousing  \n",
       "2                       complex object  \n",
       "3  temporal database management system  \n",
       "4                   abstract data type  \n",
       "5                  historical database  "
      ]
     },
     "execution_count": 53,
     "metadata": {},
     "output_type": "execute_result"
    }
   ],
   "source": [
    "df = df.T\n",
    "df.columns = ['C{}'.format(i) for i in range(1,len(kw_s)+1)]\n",
    "df"
   ]
  },
  {
   "cell_type": "code",
   "execution_count": 55,
   "metadata": {},
   "outputs": [
    {
     "name": "stdout",
     "output_type": "stream",
     "text": [
      "\\begin{tabular}{llllllll}\n",
      "\\toprule\n",
      "{} &                           C1 &                            C2 &                C3 &                             C4 &                                C5 &               C6 &                                   C7 \\\\\n",
      "\\midrule\n",
      "0 &  database managementsystem r &              data compression &        data store &                  semantic data &  2-dimensional data visualization &     data element &                        feature model \\\\\n",
      "1 &               previous paper &                      big data &   data processing &  content management middleware &                     archival data &    sequence data &                     data warehousing \\\\\n",
      "2 &               xml data model &                   o bandwidth &     data instance &                   spatial data &             high dimensional data &  structured data &                       complex object \\\\\n",
      "3 &                  shared data &  efficient data restructuring &       health data &                    census data &           complex scientific data &        data node &  temporal database management system \\\\\n",
      "4 &             relational model &       aggregating data access &      large system &        information granularity &                  italian workshop &        data cube &                   abstract data type \\\\\n",
      "5 &             data base system &                    data point &  database machine &         associates data output &                 data distribution &      game engine &                  historical database \\\\\n",
      "\\bottomrule\n",
      "\\end{tabular}\n",
      "\n"
     ]
    }
   ],
   "source": [
    "print(df.to_latex())"
   ]
  }
 ],
 "metadata": {
  "kernelspec": {
   "display_name": "Python 3",
   "language": "python",
   "name": "python3"
  },
  "language_info": {
   "codemirror_mode": {
    "name": "ipython",
    "version": 3
   },
   "file_extension": ".py",
   "mimetype": "text/x-python",
   "name": "python",
   "nbconvert_exporter": "python",
   "pygments_lexer": "ipython3",
   "version": "3.7.4"
  },
  "toc": {
   "base_numbering": 1,
   "nav_menu": {},
   "number_sections": true,
   "sideBar": true,
   "skip_h1_title": false,
   "title_cell": "Table of Contents",
   "title_sidebar": "Contents",
   "toc_cell": false,
   "toc_position": {
    "height": "calc(100% - 180px)",
    "left": "10px",
    "top": "150px",
    "width": "165px"
   },
   "toc_section_display": true,
   "toc_window_display": true
  }
 },
 "nbformat": 4,
 "nbformat_minor": 2
}
