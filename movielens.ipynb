{
 "cells": [
  {
   "cell_type": "code",
   "execution_count": 77,
   "metadata": {},
   "outputs": [],
   "source": [
    "from os.path import join\n",
    "import gensim\n",
    "import nltk\n",
    "from nltk.stem import WordNetLemmatizer, SnowballStemmer\n",
    "from nltk.corpus import wordnet\n",
    "\n",
    "import numpy as np\n",
    "import matplotlib.pyplot as plt\n",
    "import matplotlib.cm as cm\n",
    "\n",
    "import pickle"
   ]
  },
  {
   "cell_type": "code",
   "execution_count": 27,
   "metadata": {},
   "outputs": [],
   "source": [
    "def get_wordnet_pos(word):\n",
    "    \"\"\"Map POS tag to first character lemmatize() accepts\"\"\"\n",
    "    tag = nltk.pos_tag([word])[0][1][0].upper()\n",
    "    tag_dict = {\"J\": wordnet.ADJ,\n",
    "                \"N\": wordnet.NOUN,\n",
    "                \"V\": wordnet.VERB,\n",
    "                \"R\": wordnet.ADV}\n",
    "    \n",
    "    return tag_dict.get(tag, wordnet.NOUN)\n",
    "\n",
    "lemmatizer = WordNetLemmatizer()"
   ]
  },
  {
   "cell_type": "code",
   "execution_count": 44,
   "metadata": {},
   "outputs": [],
   "source": [
    "datadir = join('dataset', 'ml-20m')\n"
   ]
  },
  {
   "cell_type": "code",
   "execution_count": 86,
   "metadata": {},
   "outputs": [
    {
     "name": "stderr",
     "output_type": "stream",
     "text": [
      "/work/modules/Ubuntu/14.04/amd64/common/anaconda3/latest/lib/python3.7/site-packages/smart_open/smart_open_lib.py:398: UserWarning: This function is deprecated, use smart_open.open instead. See the migration notes for details: https://github.com/RaRe-Technologies/smart_open/blob/master/README.rst#migrating-to-the-new-open-function\n",
      "  'See the migration notes for details: %s' % _MIGRATION_NOTES_URL\n",
      "/work/modules/Ubuntu/14.04/amd64/common/anaconda3/latest/lib/python3.7/site-packages/ipykernel_launcher.py:4: DeprecationWarning: Call to deprecated `wv` (Attribute will be removed in 4.0.0, use self instead).\n",
      "  after removing the cwd from sys.path.\n"
     ]
    }
   ],
   "source": [
    "import gensim.downloader as api\n",
    "\n",
    "wvmodel = api.load('word2vec-google-news-300')\n",
    "wv = wvmodel.wv\n",
    "del wvmodel"
   ]
  },
  {
   "cell_type": "code",
   "execution_count": null,
   "metadata": {},
   "outputs": [],
   "source": []
  },
  {
   "cell_type": "code",
   "execution_count": 90,
   "metadata": {},
   "outputs": [],
   "source": [
    "cls2c = dict()\n",
    "mv2c = dict()\n",
    "\n",
    "with open(join(datadir, 'movies.csv'), 'r') as f:\n",
    "    for i,line in enumerate(f):\n",
    "        if i==0: continue\n",
    "        line = line.strip()\n",
    "        movieId,_ = line.split(',', maxsplit=1)\n",
    "        _,genres = _.rsplit(',', maxsplit=1)\n",
    "        movieId = int(movieId)\n",
    "        mv2c[movieId] = []\n",
    "        for _ in genres.split('|'):\n",
    "            if _ not in cls2c: cls2c[_] = len(cls2c)\n",
    "            mv2c[movieId].append(cls2c[_])"
   ]
  },
  {
   "cell_type": "code",
   "execution_count": 91,
   "metadata": {},
   "outputs": [
    {
     "name": "stdout",
     "output_type": "stream",
     "text": [
      "20\n"
     ]
    }
   ],
   "source": [
    "print(len(cls2c))"
   ]
  },
  {
   "cell_type": "code",
   "execution_count": null,
   "metadata": {},
   "outputs": [],
   "source": []
  },
  {
   "cell_type": "code",
   "execution_count": 92,
   "metadata": {},
   "outputs": [],
   "source": [
    "docs = []\n",
    "tags_taken = set()\n",
    "tags_untaken = set()\n",
    "\n",
    "with open(join(datadir, 'tags.csv'), 'r') as f:\n",
    "    for i,line in enumerate(f):\n",
    "        if i==0: continue\n",
    "        line = line.strip()\n",
    "        userId,movieId,_ = line.split(',', maxsplit=2)\n",
    "        tag,_ = _.rsplit(',', maxsplit=1)\n",
    "        #if int(movieId) not in mv2c: continue\n",
    "        \n",
    "        doc = []\n",
    "        for token in gensim.utils.simple_preprocess(tag):\n",
    "            if token not in gensim.parsing.preprocessing.STOPWORDS:\n",
    "                if token in tags_untaken: continue\n",
    "                if token in tags_taken: \n",
    "                    tk = lemmatizer.lemmatize(token, wordnet.ADJ)\n",
    "                    doc.append(tk)\n",
    "                    continue\n",
    "                    \n",
    "                pos = get_wordnet_pos(token)\n",
    "                if pos != wordnet.ADJ: \n",
    "                    if token not in tags_taken: tags_untaken.add(token)\n",
    "                    continue\n",
    "                    \n",
    "                tk = lemmatizer.lemmatize(token, pos)\n",
    "                if tk not in wv: \n",
    "                    if token not in tags_taken: tags_untaken.add(token)\n",
    "                    continue\n",
    "                \n",
    "                doc.append(tk)\n",
    "                if tk not in tags_taken: tags_taken.add(tk)\n",
    "        if doc:\n",
    "            docs.append(doc)"
   ]
  },
  {
   "cell_type": "code",
   "execution_count": 93,
   "metadata": {},
   "outputs": [
    {
     "name": "stdout",
     "output_type": "stream",
     "text": [
      "74672\n"
     ]
    }
   ],
   "source": [
    "print(len(docs))"
   ]
  },
  {
   "cell_type": "code",
   "execution_count": 94,
   "metadata": {},
   "outputs": [],
   "source": [
    "dictionary = gensim.corpora.Dictionary(docs)\n",
    "#dictionary.filter_extremes(no_below=1, no_above=0.2, keep_n=10000)"
   ]
  },
  {
   "cell_type": "code",
   "execution_count": 95,
   "metadata": {},
   "outputs": [
    {
     "data": {
      "text/plain": [
       "925"
      ]
     },
     "execution_count": 95,
     "metadata": {},
     "output_type": "execute_result"
    }
   ],
   "source": [
    "len(dictionary)"
   ]
  },
  {
   "cell_type": "code",
   "execution_count": 96,
   "metadata": {},
   "outputs": [],
   "source": [
    "t2c = dict()\n",
    "t2v = dict()\n",
    "\n",
    "with open(join(datadir, 'tags.csv'), 'r') as f:\n",
    "    for i,line in enumerate(f):\n",
    "        if i==0: continue\n",
    "        line = line.strip()\n",
    "        userId,movieId,_ = line.split(',', maxsplit=2)\n",
    "        tag,_ = _.rsplit(',', maxsplit=1)\n",
    "        movieId = int(movieId)\n",
    "        #if int(movieId) not in mv2c: continue\n",
    "        \n",
    "        for token in gensim.utils.simple_preprocess(tag):\n",
    "            if token not in gensim.parsing.preprocessing.STOPWORDS:\n",
    "                tk = lemmatizer.lemmatize(token, wordnet.ADJ)\n",
    "                if tk not in dictionary.token2id: continue\n",
    "                    \n",
    "                t = dictionary.token2id[tk]\n",
    "                if t not in t2v: t2v[t] = set()\n",
    "                if movieId not in t2v[t]: t2v[t].add(movieId)\n",
    "                if t not in t2c: t2c[t] = set()\n",
    "                for c in mv2c[movieId]:\n",
    "                    if c not in t2c[t]: t2c[t].add(c)"
   ]
  },
  {
   "cell_type": "code",
   "execution_count": 97,
   "metadata": {},
   "outputs": [
    {
     "data": {
      "text/plain": [
       "925"
      ]
     },
     "execution_count": 97,
     "metadata": {},
     "output_type": "execute_result"
    }
   ],
   "source": [
    "len(t2c)"
   ]
  },
  {
   "cell_type": "code",
   "execution_count": 98,
   "metadata": {},
   "outputs": [],
   "source": [
    "vecs = []\n",
    "for t in range(len(dictionary)):\n",
    "    tag = dictionary[t]\n",
    "    vecs.append(wv[tag])"
   ]
  },
  {
   "cell_type": "code",
   "execution_count": null,
   "metadata": {},
   "outputs": [],
   "source": []
  },
  {
   "cell_type": "code",
   "execution_count": 99,
   "metadata": {},
   "outputs": [
    {
     "data": {
      "image/png": "[encoded data removed]",
      "text/plain": [
       "<Figure size 432x288 with 1 Axes>"
      ]
     },
     "metadata": {
      "needs_background": "light"
     },
     "output_type": "display_data"
    }
   ],
   "source": [
    "plt.hist([len(cs) for t,cs in t2c.items()])\n",
    "plt.show()"
   ]
  },
  {
   "cell_type": "code",
   "execution_count": 104,
   "metadata": {},
   "outputs": [
    {
     "data": {
      "text/plain": [
       "27278"
      ]
     },
     "execution_count": 104,
     "metadata": {},
     "output_type": "execute_result"
    }
   ],
   "source": [
    "len(mv2c)"
   ]
  },
  {
   "cell_type": "code",
   "execution_count": 103,
   "metadata": {},
   "outputs": [],
   "source": [
    "with open(join('dataset', 'movielens.pkl'), 'wb') as f:\n",
    "    pickle.dump([np.array(vecs), dictionary.token2id, dictionary.id2token, t2c, cls2c, t2v, mv2c], f)"
   ]
  }
 ],
 "metadata": {
  "kernelspec": {
   "display_name": "Python 3",
   "language": "python",
   "name": "python3"
  },
  "language_info": {
   "codemirror_mode": {
    "name": "ipython",
    "version": 3
   },
   "file_extension": ".py",
   "mimetype": "text/x-python",
   "name": "python",
   "nbconvert_exporter": "python",
   "pygments_lexer": "ipython3",
   "version": "3.7.4"
  },
  "toc": {
   "base_numbering": 1,
   "nav_menu": {},
   "number_sections": true,
   "sideBar": true,
   "skip_h1_title": false,
   "title_cell": "Table of Contents",
   "title_sidebar": "Contents",
   "toc_cell": false,
   "toc_position": {},
   "toc_section_display": true,
   "toc_window_display": false
  }
 },
 "nbformat": 4,
 "nbformat_minor": 2
}
