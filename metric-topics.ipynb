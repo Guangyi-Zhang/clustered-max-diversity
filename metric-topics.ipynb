{
 "cells": [
  {
   "cell_type": "code",
   "execution_count": 1,
   "metadata": {},
   "outputs": [],
   "source": [
    "%load_ext autoreload\n",
    "%autoreload 2\n",
    "\n",
    "import numpy as np\n",
    "import matplotlib.pyplot as plt\n",
    "import matplotlib.cm as cm\n",
    "from os import path\n",
    "import pickle\n",
    "import itertools\n",
    "from functools import partial\n",
    "import pprint\n",
    "pp = pprint.PrettyPrinter(indent=4)\n",
    "\n",
    "import intra\n",
    "import util\n",
    "from util import md, highlight_max_min\n",
    "from experiment import new_exp, get_loader, run_once, run_permutation"
   ]
  },
  {
   "cell_type": "code",
   "execution_count": 2,
   "metadata": {},
   "outputs": [],
   "source": [
    "loader = get_loader()"
   ]
  },
  {
   "cell_type": "code",
   "execution_count": 3,
   "metadata": {},
   "outputs": [],
   "source": [
    "ver = 8"
   ]
  },
  {
   "cell_type": "markdown",
   "metadata": {},
   "source": [
    "# 20NewsGroups"
   ]
  },
  {
   "cell_type": "code",
   "execution_count": 4,
   "metadata": {
    "scrolled": true
   },
   "outputs": [
    {
     "name": "stdout",
     "output_type": "stream",
     "text": [
      "{   'alphas': [0.1, 0.3, 0.5, 0.7, 0.95],\n",
      "    'dataset': '20newsgroups-v8',\n",
      "    'dim': 300,\n",
      "    'docname': '20newsgroups',\n",
      "    'ncls': 5,\n",
      "    'nsel': 10,\n",
      "    'passes': 20,\n",
      "    'topic_threshold': 0.15,\n",
      "    'which': 'topic',\n",
      "    'whichalgo': 'GE|GV|RN'}\n"
     ]
    },
    {
     "name": "stderr",
     "output_type": "stream",
     "text": [
      "/u/67/zhangg1/unix/.local/lib/python3.7/site-packages/sacred/experiment.py:566: UserWarning: Subclassing `CommandLineOption` is deprecated. Please use the `sacred.cli_option` decorator and pass the function to the Experiment constructor.\n",
      "  \"Subclassing `CommandLineOption` is deprecated. Please \"\n",
      "/u/67/zhangg1/unix/.local/lib/python3.7/site-packages/sacred/experiment.py:566: UserWarning: Subclassing `CommandLineOption` is deprecated. Please use the `sacred.cli_option` decorator and pass the function to the Experiment constructor.\n",
      "  \"Subclassing `CommandLineOption` is deprecated. Please \"\n",
      "INFO - jupyter_ex - Running command 'my_main'\n",
      "INFO - jupyter_ex - Started run with ID \"485\"\n"
     ]
    },
    {
     "name": "stdout",
     "output_type": "stream",
     "text": [
      "nvec, ncls: 2797 5\n",
      "gv: ave 60.88, min 60.29, max 61.72\n",
      "rn: 33.87\n",
      "ge10: 61.35\n",
      "ge30: 61.65\n",
      "ge50: 62.34\n"
     ]
    },
    {
     "name": "stderr",
     "output_type": "stream",
     "text": [
      "INFO - jupyter_ex - Completed after 0:00:02\n"
     ]
    },
    {
     "name": "stdout",
     "output_type": "stream",
     "text": [
      "ge70: 61.35\n",
      "ge95: 60.47\n",
      "{   'alphas': [0.1, 0.3, 0.5, 0.7, 0.95],\n",
      "    'dataset': '20newsgroups-v8',\n",
      "    'dim': 300,\n",
      "    'docname': '20newsgroups',\n",
      "    'ncls': 5,\n",
      "    'nsel': 10,\n",
      "    'passes': 20,\n",
      "    'topic_threshold': 0.25,\n",
      "    'which': 'topic',\n",
      "    'whichalgo': 'GE|GV|RN'}\n"
     ]
    },
    {
     "name": "stderr",
     "output_type": "stream",
     "text": [
      "/u/67/zhangg1/unix/.local/lib/python3.7/site-packages/sacred/experiment.py:566: UserWarning: Subclassing `CommandLineOption` is deprecated. Please use the `sacred.cli_option` decorator and pass the function to the Experiment constructor.\n",
      "  \"Subclassing `CommandLineOption` is deprecated. Please \"\n",
      "/u/67/zhangg1/unix/.local/lib/python3.7/site-packages/sacred/experiment.py:566: UserWarning: Subclassing `CommandLineOption` is deprecated. Please use the `sacred.cli_option` decorator and pass the function to the Experiment constructor.\n",
      "  \"Subclassing `CommandLineOption` is deprecated. Please \"\n",
      "INFO - jupyter_ex - Running command 'my_main'\n",
      "INFO - jupyter_ex - Started run with ID \"486\"\n"
     ]
    },
    {
     "name": "stdout",
     "output_type": "stream",
     "text": [
      "nvec, ncls: 2797 5\n",
      "gv: ave 60.17, min 59.88, max 60.79\n",
      "rn: 32.20\n",
      "ge10: 60.53\n",
      "ge30: 61.32\n",
      "ge50: 61.20\n",
      "ge70: 61.08\n"
     ]
    },
    {
     "name": "stderr",
     "output_type": "stream",
     "text": [
      "INFO - jupyter_ex - Completed after 0:00:01\n"
     ]
    },
    {
     "name": "stdout",
     "output_type": "stream",
     "text": [
      "ge95: 61.35\n",
      "{   'alphas': [0.1, 0.3, 0.5, 0.7, 0.95],\n",
      "    'dataset': '20newsgroups-v8',\n",
      "    'dim': 300,\n",
      "    'docname': '20newsgroups',\n",
      "    'ncls': 5,\n",
      "    'nsel': 30,\n",
      "    'passes': 20,\n",
      "    'topic_threshold': 0.15,\n",
      "    'which': 'topic',\n",
      "    'whichalgo': 'GE|GV|RN'}\n"
     ]
    },
    {
     "name": "stderr",
     "output_type": "stream",
     "text": [
      "/u/67/zhangg1/unix/.local/lib/python3.7/site-packages/sacred/experiment.py:566: UserWarning: Subclassing `CommandLineOption` is deprecated. Please use the `sacred.cli_option` decorator and pass the function to the Experiment constructor.\n",
      "  \"Subclassing `CommandLineOption` is deprecated. Please \"\n",
      "/u/67/zhangg1/unix/.local/lib/python3.7/site-packages/sacred/experiment.py:566: UserWarning: Subclassing `CommandLineOption` is deprecated. Please use the `sacred.cli_option` decorator and pass the function to the Experiment constructor.\n",
      "  \"Subclassing `CommandLineOption` is deprecated. Please \"\n",
      "INFO - jupyter_ex - Running command 'my_main'\n",
      "INFO - jupyter_ex - Started run with ID \"487\"\n"
     ]
    },
    {
     "name": "stdout",
     "output_type": "stream",
     "text": [
      "nvec, ncls: 2797 5\n",
      "gv: ave 544.78, min 543.27, max 545.96\n",
      "rn: 316.57\n",
      "ge10: 547.89\n",
      "ge30: 545.31\n",
      "ge50: 551.09\n",
      "ge70: 547.60\n"
     ]
    },
    {
     "name": "stderr",
     "output_type": "stream",
     "text": [
      "INFO - jupyter_ex - Completed after 0:00:08\n"
     ]
    },
    {
     "name": "stdout",
     "output_type": "stream",
     "text": [
      "ge95: 544.34\n",
      "{   'alphas': [0.1, 0.3, 0.5, 0.7, 0.95],\n",
      "    'dataset': '20newsgroups-v8',\n",
      "    'dim': 300,\n",
      "    'docname': '20newsgroups',\n",
      "    'ncls': 5,\n",
      "    'nsel': 30,\n",
      "    'passes': 20,\n",
      "    'topic_threshold': 0.25,\n",
      "    'which': 'topic',\n",
      "    'whichalgo': 'GE|GV|RN'}\n"
     ]
    },
    {
     "name": "stderr",
     "output_type": "stream",
     "text": [
      "/u/67/zhangg1/unix/.local/lib/python3.7/site-packages/sacred/experiment.py:566: UserWarning: Subclassing `CommandLineOption` is deprecated. Please use the `sacred.cli_option` decorator and pass the function to the Experiment constructor.\n",
      "  \"Subclassing `CommandLineOption` is deprecated. Please \"\n",
      "/u/67/zhangg1/unix/.local/lib/python3.7/site-packages/sacred/experiment.py:566: UserWarning: Subclassing `CommandLineOption` is deprecated. Please use the `sacred.cli_option` decorator and pass the function to the Experiment constructor.\n",
      "  \"Subclassing `CommandLineOption` is deprecated. Please \"\n",
      "INFO - jupyter_ex - Running command 'my_main'\n",
      "INFO - jupyter_ex - Started run with ID \"488\"\n"
     ]
    },
    {
     "name": "stdout",
     "output_type": "stream",
     "text": [
      "nvec, ncls: 2797 5\n",
      "gv: ave 534.94, min 532.34, max 536.24\n",
      "rn: 300.23\n",
      "ge10: 536.66\n",
      "ge30: 535.61\n",
      "ge50: 536.33\n",
      "ge70: 537.44\n"
     ]
    },
    {
     "name": "stderr",
     "output_type": "stream",
     "text": [
      "INFO - jupyter_ex - Completed after 0:00:06\n"
     ]
    },
    {
     "name": "stdout",
     "output_type": "stream",
     "text": [
      "ge95: 536.03\n"
     ]
    }
   ],
   "source": [
    "ex = new_exp()\n",
    "    \n",
    "# r = ex.run()\n",
    "for ntopic, passes, nsel, th, dim, alphas in itertools.product([5],\n",
    "                                                     [20],\n",
    "                                                     [10,30],\n",
    "                                                     [0.15,0.25],\n",
    "                                                     [300],\n",
    "                                                     [[0.1, 0.3, 0.5, 0.7, 0.95]]\n",
    "                                                     ):\n",
    "    conf = {'which': 'topic', \n",
    "        'whichalgo': 'GE|GV|RN',\n",
    "        'dataset': '20newsgroups-v{}'.format(ver), \n",
    "        'passes': passes, \n",
    "        'nsel': nsel,\n",
    "        'docname': '20newsgroups',\n",
    "        'ncls': ntopic,\n",
    "        'alphas': alphas,\n",
    "        'topic_threshold': th, \n",
    "        'alphas': alphas,\n",
    "        'dim': dim}\n",
    "    pp.pprint(conf)\n",
    "    r = ex.run(config_updates=conf)"
   ]
  },
  {
   "cell_type": "code",
   "execution_count": 12,
   "metadata": {},
   "outputs": [],
   "source": [
    "# loader.find_latest().to_dict()\n",
    "\n",
    "query = {\"$and\": [\n",
    "    {\"status\": 'COMPLETED'},\n",
    "    {\"config.dataset\": '20newsgroups-v{}'.format(ver)},\n",
    "        ]}\n",
    "qs = loader.find(query)"
   ]
  },
  {
   "cell_type": "code",
   "execution_count": 13,
   "metadata": {},
   "outputs": [
    {
     "data": {
      "text/html": [
       "<style  type=\"text/css\" >\n",
       "    #T_401b9daa_e37e_11e9_bfdb_2790654fccdcrow0_col5 {\n",
       "            color:  green;\n",
       "        }    #T_401b9daa_e37e_11e9_bfdb_2790654fccdcrow0_col11 {\n",
       "            color:  red;\n",
       "        }    #T_401b9daa_e37e_11e9_bfdb_2790654fccdcrow1_col7 {\n",
       "            color:  green;\n",
       "        }    #T_401b9daa_e37e_11e9_bfdb_2790654fccdcrow1_col11 {\n",
       "            color:  red;\n",
       "        }    #T_401b9daa_e37e_11e9_bfdb_2790654fccdcrow2_col5 {\n",
       "            color:  green;\n",
       "        }    #T_401b9daa_e37e_11e9_bfdb_2790654fccdcrow2_col11 {\n",
       "            color:  red;\n",
       "        }    #T_401b9daa_e37e_11e9_bfdb_2790654fccdcrow3_col6 {\n",
       "            color:  green;\n",
       "        }    #T_401b9daa_e37e_11e9_bfdb_2790654fccdcrow3_col11 {\n",
       "            color:  red;\n",
       "        }</style><table id=\"T_401b9daa_e37e_11e9_bfdb_2790654fccdc\" ><thead>    <tr>        <th class=\"blank level0\" ></th>        <th class=\"col_heading level0 col0\" >nsel</th>        <th class=\"col_heading level0 col1\" >ncls</th>        <th class=\"col_heading level0 col2\" >topic_threshold</th>        <th class=\"col_heading level0 col3\" >ge10_mean</th>        <th class=\"col_heading level0 col4\" >ge30_mean</th>        <th class=\"col_heading level0 col5\" >ge50_mean</th>        <th class=\"col_heading level0 col6\" >ge70_mean</th>        <th class=\"col_heading level0 col7\" >ge95_mean</th>        <th class=\"col_heading level0 col8\" >gv_min_mean</th>        <th class=\"col_heading level0 col9\" >gv_ave_mean</th>        <th class=\"col_heading level0 col10\" >gv_max_mean</th>        <th class=\"col_heading level0 col11\" >rn_mean</th>    </tr>    <tr>        <th class=\"index_name level0\" >exp_id</th>        <th class=\"blank\" ></th>        <th class=\"blank\" ></th>        <th class=\"blank\" ></th>        <th class=\"blank\" ></th>        <th class=\"blank\" ></th>        <th class=\"blank\" ></th>        <th class=\"blank\" ></th>        <th class=\"blank\" ></th>        <th class=\"blank\" ></th>        <th class=\"blank\" ></th>        <th class=\"blank\" ></th>        <th class=\"blank\" ></th>    </tr></thead><tbody>\n",
       "                <tr>\n",
       "                        <th id=\"T_401b9daa_e37e_11e9_bfdb_2790654fccdclevel0_row0\" class=\"row_heading level0 row0\" >485</th>\n",
       "                        <td id=\"T_401b9daa_e37e_11e9_bfdb_2790654fccdcrow0_col0\" class=\"data row0 col0\" >10</td>\n",
       "                        <td id=\"T_401b9daa_e37e_11e9_bfdb_2790654fccdcrow0_col1\" class=\"data row0 col1\" >5</td>\n",
       "                        <td id=\"T_401b9daa_e37e_11e9_bfdb_2790654fccdcrow0_col2\" class=\"data row0 col2\" >0.15</td>\n",
       "                        <td id=\"T_401b9daa_e37e_11e9_bfdb_2790654fccdcrow0_col3\" class=\"data row0 col3\" >61.3497</td>\n",
       "                        <td id=\"T_401b9daa_e37e_11e9_bfdb_2790654fccdcrow0_col4\" class=\"data row0 col4\" >61.6512</td>\n",
       "                        <td id=\"T_401b9daa_e37e_11e9_bfdb_2790654fccdcrow0_col5\" class=\"data row0 col5\" >62.3384</td>\n",
       "                        <td id=\"T_401b9daa_e37e_11e9_bfdb_2790654fccdcrow0_col6\" class=\"data row0 col6\" >61.3511</td>\n",
       "                        <td id=\"T_401b9daa_e37e_11e9_bfdb_2790654fccdcrow0_col7\" class=\"data row0 col7\" >60.4715</td>\n",
       "                        <td id=\"T_401b9daa_e37e_11e9_bfdb_2790654fccdcrow0_col8\" class=\"data row0 col8\" >60.2891</td>\n",
       "                        <td id=\"T_401b9daa_e37e_11e9_bfdb_2790654fccdcrow0_col9\" class=\"data row0 col9\" >60.8804</td>\n",
       "                        <td id=\"T_401b9daa_e37e_11e9_bfdb_2790654fccdcrow0_col10\" class=\"data row0 col10\" >61.7223</td>\n",
       "                        <td id=\"T_401b9daa_e37e_11e9_bfdb_2790654fccdcrow0_col11\" class=\"data row0 col11\" >33.8666</td>\n",
       "            </tr>\n",
       "            <tr>\n",
       "                        <th id=\"T_401b9daa_e37e_11e9_bfdb_2790654fccdclevel0_row1\" class=\"row_heading level0 row1\" >486</th>\n",
       "                        <td id=\"T_401b9daa_e37e_11e9_bfdb_2790654fccdcrow1_col0\" class=\"data row1 col0\" >10</td>\n",
       "                        <td id=\"T_401b9daa_e37e_11e9_bfdb_2790654fccdcrow1_col1\" class=\"data row1 col1\" >5</td>\n",
       "                        <td id=\"T_401b9daa_e37e_11e9_bfdb_2790654fccdcrow1_col2\" class=\"data row1 col2\" >0.25</td>\n",
       "                        <td id=\"T_401b9daa_e37e_11e9_bfdb_2790654fccdcrow1_col3\" class=\"data row1 col3\" >60.5289</td>\n",
       "                        <td id=\"T_401b9daa_e37e_11e9_bfdb_2790654fccdcrow1_col4\" class=\"data row1 col4\" >61.3158</td>\n",
       "                        <td id=\"T_401b9daa_e37e_11e9_bfdb_2790654fccdcrow1_col5\" class=\"data row1 col5\" >61.1951</td>\n",
       "                        <td id=\"T_401b9daa_e37e_11e9_bfdb_2790654fccdcrow1_col6\" class=\"data row1 col6\" >61.0846</td>\n",
       "                        <td id=\"T_401b9daa_e37e_11e9_bfdb_2790654fccdcrow1_col7\" class=\"data row1 col7\" >61.3541</td>\n",
       "                        <td id=\"T_401b9daa_e37e_11e9_bfdb_2790654fccdcrow1_col8\" class=\"data row1 col8\" >59.8776</td>\n",
       "                        <td id=\"T_401b9daa_e37e_11e9_bfdb_2790654fccdcrow1_col9\" class=\"data row1 col9\" >60.1659</td>\n",
       "                        <td id=\"T_401b9daa_e37e_11e9_bfdb_2790654fccdcrow1_col10\" class=\"data row1 col10\" >60.7932</td>\n",
       "                        <td id=\"T_401b9daa_e37e_11e9_bfdb_2790654fccdcrow1_col11\" class=\"data row1 col11\" >32.1979</td>\n",
       "            </tr>\n",
       "            <tr>\n",
       "                        <th id=\"T_401b9daa_e37e_11e9_bfdb_2790654fccdclevel0_row2\" class=\"row_heading level0 row2\" >487</th>\n",
       "                        <td id=\"T_401b9daa_e37e_11e9_bfdb_2790654fccdcrow2_col0\" class=\"data row2 col0\" >30</td>\n",
       "                        <td id=\"T_401b9daa_e37e_11e9_bfdb_2790654fccdcrow2_col1\" class=\"data row2 col1\" >5</td>\n",
       "                        <td id=\"T_401b9daa_e37e_11e9_bfdb_2790654fccdcrow2_col2\" class=\"data row2 col2\" >0.15</td>\n",
       "                        <td id=\"T_401b9daa_e37e_11e9_bfdb_2790654fccdcrow2_col3\" class=\"data row2 col3\" >547.886</td>\n",
       "                        <td id=\"T_401b9daa_e37e_11e9_bfdb_2790654fccdcrow2_col4\" class=\"data row2 col4\" >545.31</td>\n",
       "                        <td id=\"T_401b9daa_e37e_11e9_bfdb_2790654fccdcrow2_col5\" class=\"data row2 col5\" >551.093</td>\n",
       "                        <td id=\"T_401b9daa_e37e_11e9_bfdb_2790654fccdcrow2_col6\" class=\"data row2 col6\" >547.595</td>\n",
       "                        <td id=\"T_401b9daa_e37e_11e9_bfdb_2790654fccdcrow2_col7\" class=\"data row2 col7\" >544.341</td>\n",
       "                        <td id=\"T_401b9daa_e37e_11e9_bfdb_2790654fccdcrow2_col8\" class=\"data row2 col8\" >543.271</td>\n",
       "                        <td id=\"T_401b9daa_e37e_11e9_bfdb_2790654fccdcrow2_col9\" class=\"data row2 col9\" >544.776</td>\n",
       "                        <td id=\"T_401b9daa_e37e_11e9_bfdb_2790654fccdcrow2_col10\" class=\"data row2 col10\" >545.962</td>\n",
       "                        <td id=\"T_401b9daa_e37e_11e9_bfdb_2790654fccdcrow2_col11\" class=\"data row2 col11\" >316.57</td>\n",
       "            </tr>\n",
       "            <tr>\n",
       "                        <th id=\"T_401b9daa_e37e_11e9_bfdb_2790654fccdclevel0_row3\" class=\"row_heading level0 row3\" >488</th>\n",
       "                        <td id=\"T_401b9daa_e37e_11e9_bfdb_2790654fccdcrow3_col0\" class=\"data row3 col0\" >30</td>\n",
       "                        <td id=\"T_401b9daa_e37e_11e9_bfdb_2790654fccdcrow3_col1\" class=\"data row3 col1\" >5</td>\n",
       "                        <td id=\"T_401b9daa_e37e_11e9_bfdb_2790654fccdcrow3_col2\" class=\"data row3 col2\" >0.25</td>\n",
       "                        <td id=\"T_401b9daa_e37e_11e9_bfdb_2790654fccdcrow3_col3\" class=\"data row3 col3\" >536.665</td>\n",
       "                        <td id=\"T_401b9daa_e37e_11e9_bfdb_2790654fccdcrow3_col4\" class=\"data row3 col4\" >535.606</td>\n",
       "                        <td id=\"T_401b9daa_e37e_11e9_bfdb_2790654fccdcrow3_col5\" class=\"data row3 col5\" >536.327</td>\n",
       "                        <td id=\"T_401b9daa_e37e_11e9_bfdb_2790654fccdcrow3_col6\" class=\"data row3 col6\" >537.441</td>\n",
       "                        <td id=\"T_401b9daa_e37e_11e9_bfdb_2790654fccdcrow3_col7\" class=\"data row3 col7\" >536.03</td>\n",
       "                        <td id=\"T_401b9daa_e37e_11e9_bfdb_2790654fccdcrow3_col8\" class=\"data row3 col8\" >532.339</td>\n",
       "                        <td id=\"T_401b9daa_e37e_11e9_bfdb_2790654fccdcrow3_col9\" class=\"data row3 col9\" >534.943</td>\n",
       "                        <td id=\"T_401b9daa_e37e_11e9_bfdb_2790654fccdcrow3_col10\" class=\"data row3 col10\" >536.237</td>\n",
       "                        <td id=\"T_401b9daa_e37e_11e9_bfdb_2790654fccdcrow3_col11\" class=\"data row3 col11\" >300.232</td>\n",
       "            </tr>\n",
       "    </tbody></table>"
      ],
      "text/plain": [
       "<pandas.io.formats.style.Styler at 0x7fc6d44af210>"
      ]
     },
     "execution_count": 13,
     "metadata": {},
     "output_type": "execute_result"
    }
   ],
   "source": [
    "# v2\n",
    "# full, alpha = 0.95\n",
    "f = np.mean\n",
    "df = qs.project(on=[\"config.nsel\", \"config.ncls\", \"config.topic_threshold\",\n",
    "               {\"metrics.ge10\": f},\n",
    "               {\"metrics.ge30\": f},\n",
    "               {\"metrics.ge50\": f},\n",
    "               {\"metrics.ge70\": f},\n",
    "               {\"metrics.ge95\": f},\n",
    "               #{\"metrics.gels\": np.mean},\n",
    "               {\"metrics.gv_min\": np.mean},\n",
    "               {\"metrics.gv_ave\": np.mean},\n",
    "               {\"metrics.gv_max\": np.mean},\n",
    "               #{\"metrics.lsi_min\": np.mean},\n",
    "               #{\"metrics.lsi_ave\": np.mean},\n",
    "               #{\"metrics.lsi_max\": np.mean},\n",
    "               #{\"metrics.lsg\": np.mean},\n",
    "               {\"metrics.rn\": f},\n",
    "              ])\n",
    "h = partial(highlight_max_min, start=3)\n",
    "df.style.apply(h, axis=1)"
   ]
  },
  {
   "cell_type": "code",
   "execution_count": 14,
   "metadata": {},
   "outputs": [
    {
     "name": "stdout",
     "output_type": "stream",
     "text": [
      "\\begin{tabular}{llrrrrrrrrrr}\n",
      "\\toprule\n",
      "{} & Dataset &   P &  ncls &    th &  GEmin &  GEavg &  GEmax &  GVmin &  GVavg &  GVmax &     RN \\\\\n",
      "exp\\_id &         &     &       &       &        &        &        &        &        &        &        \\\\\n",
      "\\midrule\n",
      "485    &  20news &  10 &     5 &  0.15 &  0.970 &  0.985 &    1.0 &  0.967 &  0.977 &  0.990 &  0.543 \\\\\n",
      "486    &  20news &  10 &     5 &  0.25 &  0.987 &  0.996 &    1.0 &  0.976 &  0.981 &  0.991 &  0.525 \\\\\n",
      "487    &  20news &  30 &     5 &  0.15 &  0.988 &  0.993 &    1.0 &  0.986 &  0.989 &  0.991 &  0.574 \\\\\n",
      "488    &  20news &  30 &     5 &  0.25 &  0.997 &  0.998 &    1.0 &  0.991 &  0.995 &  0.998 &  0.559 \\\\\n",
      "\\bottomrule\n",
      "\\end{tabular}\n",
      "\n"
     ]
    }
   ],
   "source": [
    "df = util.aggregate_tbl(df, names=['ge'])\n",
    "df = util.relative_tbl(df, beg=3)\n",
    "df.columns = list(map(lambda x: md[x] if x in md else x, df.columns))\n",
    "df.insert(0, column='Dataset', value=['20news']*len(df))\n",
    "print(df.round(3).to_latex())"
   ]
  },
  {
   "cell_type": "markdown",
   "metadata": {},
   "source": [
    "# Blogs"
   ]
  },
  {
   "cell_type": "code",
   "execution_count": 8,
   "metadata": {
    "scrolled": true
   },
   "outputs": [
    {
     "name": "stdout",
     "output_type": "stream",
     "text": [
      "{   'alphas': [0.1, 0.3, 0.5, 0.7, 0.95],\n",
      "    'dataset': 'blogs-v8',\n",
      "    'dim': 300,\n",
      "    'docname': 'blogs',\n",
      "    'ncls': 8,\n",
      "    'nsel': 10,\n",
      "    'passes': 20,\n",
      "    'topic_threshold': 0.15,\n",
      "    'which': 'topic',\n",
      "    'whichalgo': 'GE|GV|RN'}\n"
     ]
    },
    {
     "name": "stderr",
     "output_type": "stream",
     "text": [
      "/u/67/zhangg1/unix/.local/lib/python3.7/site-packages/sacred/experiment.py:566: UserWarning: Subclassing `CommandLineOption` is deprecated. Please use the `sacred.cli_option` decorator and pass the function to the Experiment constructor.\n",
      "  \"Subclassing `CommandLineOption` is deprecated. Please \"\n",
      "/u/67/zhangg1/unix/.local/lib/python3.7/site-packages/sacred/experiment.py:566: UserWarning: Subclassing `CommandLineOption` is deprecated. Please use the `sacred.cli_option` decorator and pass the function to the Experiment constructor.\n",
      "  \"Subclassing `CommandLineOption` is deprecated. Please \"\n",
      "INFO - jupyter_ex - Running command 'my_main'\n",
      "INFO - jupyter_ex - Started run with ID \"489\"\n"
     ]
    },
    {
     "name": "stdout",
     "output_type": "stream",
     "text": [
      "nvec, ncls: 18321 8\n",
      "gv: ave 83.71, min 83.37, max 83.91\n",
      "rn: 37.29\n",
      "ge10: 84.24\n",
      "ge30: 84.33\n",
      "ge50: 84.17\n",
      "ge70: 84.13\n"
     ]
    },
    {
     "name": "stderr",
     "output_type": "stream",
     "text": [
      "INFO - jupyter_ex - Completed after 0:00:26\n"
     ]
    },
    {
     "name": "stdout",
     "output_type": "stream",
     "text": [
      "ge95: 84.37\n",
      "{   'alphas': [0.1, 0.3, 0.5, 0.7, 0.95],\n",
      "    'dataset': 'blogs-v8',\n",
      "    'dim': 300,\n",
      "    'docname': 'blogs',\n",
      "    'ncls': 8,\n",
      "    'nsel': 10,\n",
      "    'passes': 20,\n",
      "    'topic_threshold': 0.25,\n",
      "    'which': 'topic',\n",
      "    'whichalgo': 'GE|GV|RN'}\n"
     ]
    },
    {
     "name": "stderr",
     "output_type": "stream",
     "text": [
      "/u/67/zhangg1/unix/.local/lib/python3.7/site-packages/sacred/experiment.py:566: UserWarning: Subclassing `CommandLineOption` is deprecated. Please use the `sacred.cli_option` decorator and pass the function to the Experiment constructor.\n",
      "  \"Subclassing `CommandLineOption` is deprecated. Please \"\n",
      "/u/67/zhangg1/unix/.local/lib/python3.7/site-packages/sacred/experiment.py:566: UserWarning: Subclassing `CommandLineOption` is deprecated. Please use the `sacred.cli_option` decorator and pass the function to the Experiment constructor.\n",
      "  \"Subclassing `CommandLineOption` is deprecated. Please \"\n",
      "INFO - jupyter_ex - Running command 'my_main'\n",
      "INFO - jupyter_ex - Started run with ID \"490\"\n"
     ]
    },
    {
     "name": "stdout",
     "output_type": "stream",
     "text": [
      "nvec, ncls: 18321 8\n",
      "gv: ave 83.47, min 83.24, max 83.92\n",
      "rn: 36.46\n",
      "ge10: 84.21\n",
      "ge30: 83.18\n",
      "ge50: 83.82\n",
      "ge70: 83.96\n"
     ]
    },
    {
     "name": "stderr",
     "output_type": "stream",
     "text": [
      "INFO - jupyter_ex - Completed after 0:00:18\n"
     ]
    },
    {
     "name": "stdout",
     "output_type": "stream",
     "text": [
      "ge95: 83.66\n",
      "{   'alphas': [0.1, 0.3, 0.5, 0.7, 0.95],\n",
      "    'dataset': 'blogs-v8',\n",
      "    'dim': 300,\n",
      "    'docname': 'blogs',\n",
      "    'ncls': 8,\n",
      "    'nsel': 30,\n",
      "    'passes': 20,\n",
      "    'topic_threshold': 0.15,\n",
      "    'which': 'topic',\n",
      "    'whichalgo': 'GE|GV|RN'}\n"
     ]
    },
    {
     "name": "stderr",
     "output_type": "stream",
     "text": [
      "/u/67/zhangg1/unix/.local/lib/python3.7/site-packages/sacred/experiment.py:566: UserWarning: Subclassing `CommandLineOption` is deprecated. Please use the `sacred.cli_option` decorator and pass the function to the Experiment constructor.\n",
      "  \"Subclassing `CommandLineOption` is deprecated. Please \"\n",
      "/u/67/zhangg1/unix/.local/lib/python3.7/site-packages/sacred/experiment.py:566: UserWarning: Subclassing `CommandLineOption` is deprecated. Please use the `sacred.cli_option` decorator and pass the function to the Experiment constructor.\n",
      "  \"Subclassing `CommandLineOption` is deprecated. Please \"\n",
      "INFO - jupyter_ex - Running command 'my_main'\n",
      "INFO - jupyter_ex - Started run with ID \"491\"\n"
     ]
    },
    {
     "name": "stdout",
     "output_type": "stream",
     "text": [
      "nvec, ncls: 18321 8\n",
      "gv: ave 787.48, min 786.66, max 788.70\n",
      "rn: 367.81\n",
      "ge10: 788.71\n",
      "ge30: 789.10\n",
      "ge50: 789.61\n",
      "ge70: 789.72\n"
     ]
    },
    {
     "name": "stderr",
     "output_type": "stream",
     "text": [
      "INFO - jupyter_ex - Completed after 0:01:53\n"
     ]
    },
    {
     "name": "stdout",
     "output_type": "stream",
     "text": [
      "ge95: 790.19\n",
      "{   'alphas': [0.1, 0.3, 0.5, 0.7, 0.95],\n",
      "    'dataset': 'blogs-v8',\n",
      "    'dim': 300,\n",
      "    'docname': 'blogs',\n",
      "    'ncls': 8,\n",
      "    'nsel': 30,\n",
      "    'passes': 20,\n",
      "    'topic_threshold': 0.25,\n",
      "    'which': 'topic',\n",
      "    'whichalgo': 'GE|GV|RN'}\n"
     ]
    },
    {
     "name": "stderr",
     "output_type": "stream",
     "text": [
      "/u/67/zhangg1/unix/.local/lib/python3.7/site-packages/sacred/experiment.py:566: UserWarning: Subclassing `CommandLineOption` is deprecated. Please use the `sacred.cli_option` decorator and pass the function to the Experiment constructor.\n",
      "  \"Subclassing `CommandLineOption` is deprecated. Please \"\n",
      "/u/67/zhangg1/unix/.local/lib/python3.7/site-packages/sacred/experiment.py:566: UserWarning: Subclassing `CommandLineOption` is deprecated. Please use the `sacred.cli_option` decorator and pass the function to the Experiment constructor.\n",
      "  \"Subclassing `CommandLineOption` is deprecated. Please \"\n",
      "INFO - jupyter_ex - Running command 'my_main'\n",
      "INFO - jupyter_ex - Started run with ID \"496\"\n"
     ]
    },
    {
     "name": "stdout",
     "output_type": "stream",
     "text": [
      "nvec, ncls: 18321 8\n",
      "gv: ave 787.72, min 786.33, max 788.67\n",
      "rn: 347.41\n",
      "ge10: 789.40\n",
      "ge30: 790.30\n",
      "ge50: 789.59\n",
      "ge70: 789.14\n"
     ]
    },
    {
     "name": "stderr",
     "output_type": "stream",
     "text": [
      "INFO - jupyter_ex - Completed after 0:01:13\n"
     ]
    },
    {
     "name": "stdout",
     "output_type": "stream",
     "text": [
      "ge95: 789.86\n"
     ]
    }
   ],
   "source": [
    "ex = new_exp()\n",
    "    \n",
    "# r = ex.run()\n",
    "for ntopic, passes, nsel, th, dim, alphas in itertools.product([8],\n",
    "                                                     [20],\n",
    "                                                     [10,30],\n",
    "                                                     [0.15,0.25],\n",
    "                                                     [300],\n",
    "                                                     [[0.1, 0.3, 0.5, 0.7, 0.95]]\n",
    "                                                     ):\n",
    "    conf = {'which': 'topic', \n",
    "        'whichalgo': 'GE|GV|RN',\n",
    "        'dataset': 'blogs-v{}'.format(ver), \n",
    "        'passes': passes, \n",
    "        'nsel': nsel,\n",
    "        'docname': 'blogs',\n",
    "        'ncls': ntopic,\n",
    "        'alphas': alphas,\n",
    "        'topic_threshold': th, \n",
    "        'alphas': alphas,\n",
    "        'dim': dim}\n",
    "    pp.pprint(conf)\n",
    "    r = ex.run(config_updates=conf)"
   ]
  },
  {
   "cell_type": "code",
   "execution_count": 15,
   "metadata": {},
   "outputs": [],
   "source": [
    "# loader.find_latest().to_dict()\n",
    "\n",
    "query = {\"$and\": [\n",
    "    {\"status\": 'COMPLETED'},\n",
    "    {\"config.dataset\": 'blogs-v{}'.format(ver)},\n",
    "        ]}\n",
    "qs = loader.find(query)"
   ]
  },
  {
   "cell_type": "code",
   "execution_count": 16,
   "metadata": {},
   "outputs": [
    {
     "data": {
      "text/html": [
       "<style  type=\"text/css\" >\n",
       "    #T_5178660a_e37e_11e9_bfdb_2790654fccdcrow0_col7 {\n",
       "            color:  green;\n",
       "        }    #T_5178660a_e37e_11e9_bfdb_2790654fccdcrow0_col11 {\n",
       "            color:  red;\n",
       "        }    #T_5178660a_e37e_11e9_bfdb_2790654fccdcrow1_col3 {\n",
       "            color:  green;\n",
       "        }    #T_5178660a_e37e_11e9_bfdb_2790654fccdcrow1_col11 {\n",
       "            color:  red;\n",
       "        }    #T_5178660a_e37e_11e9_bfdb_2790654fccdcrow2_col7 {\n",
       "            color:  green;\n",
       "        }    #T_5178660a_e37e_11e9_bfdb_2790654fccdcrow2_col11 {\n",
       "            color:  red;\n",
       "        }    #T_5178660a_e37e_11e9_bfdb_2790654fccdcrow3_col4 {\n",
       "            color:  green;\n",
       "        }    #T_5178660a_e37e_11e9_bfdb_2790654fccdcrow3_col11 {\n",
       "            color:  red;\n",
       "        }</style><table id=\"T_5178660a_e37e_11e9_bfdb_2790654fccdc\" ><thead>    <tr>        <th class=\"blank level0\" ></th>        <th class=\"col_heading level0 col0\" >nsel</th>        <th class=\"col_heading level0 col1\" >ncls</th>        <th class=\"col_heading level0 col2\" >topic_threshold</th>        <th class=\"col_heading level0 col3\" >ge10_mean</th>        <th class=\"col_heading level0 col4\" >ge30_mean</th>        <th class=\"col_heading level0 col5\" >ge50_mean</th>        <th class=\"col_heading level0 col6\" >ge70_mean</th>        <th class=\"col_heading level0 col7\" >ge95_mean</th>        <th class=\"col_heading level0 col8\" >gv_min_mean</th>        <th class=\"col_heading level0 col9\" >gv_ave_mean</th>        <th class=\"col_heading level0 col10\" >gv_max_mean</th>        <th class=\"col_heading level0 col11\" >rn_mean</th>    </tr>    <tr>        <th class=\"index_name level0\" >exp_id</th>        <th class=\"blank\" ></th>        <th class=\"blank\" ></th>        <th class=\"blank\" ></th>        <th class=\"blank\" ></th>        <th class=\"blank\" ></th>        <th class=\"blank\" ></th>        <th class=\"blank\" ></th>        <th class=\"blank\" ></th>        <th class=\"blank\" ></th>        <th class=\"blank\" ></th>        <th class=\"blank\" ></th>        <th class=\"blank\" ></th>    </tr></thead><tbody>\n",
       "                <tr>\n",
       "                        <th id=\"T_5178660a_e37e_11e9_bfdb_2790654fccdclevel0_row0\" class=\"row_heading level0 row0\" >489</th>\n",
       "                        <td id=\"T_5178660a_e37e_11e9_bfdb_2790654fccdcrow0_col0\" class=\"data row0 col0\" >10</td>\n",
       "                        <td id=\"T_5178660a_e37e_11e9_bfdb_2790654fccdcrow0_col1\" class=\"data row0 col1\" >8</td>\n",
       "                        <td id=\"T_5178660a_e37e_11e9_bfdb_2790654fccdcrow0_col2\" class=\"data row0 col2\" >0.15</td>\n",
       "                        <td id=\"T_5178660a_e37e_11e9_bfdb_2790654fccdcrow0_col3\" class=\"data row0 col3\" >84.2376</td>\n",
       "                        <td id=\"T_5178660a_e37e_11e9_bfdb_2790654fccdcrow0_col4\" class=\"data row0 col4\" >84.3317</td>\n",
       "                        <td id=\"T_5178660a_e37e_11e9_bfdb_2790654fccdcrow0_col5\" class=\"data row0 col5\" >84.1705</td>\n",
       "                        <td id=\"T_5178660a_e37e_11e9_bfdb_2790654fccdcrow0_col6\" class=\"data row0 col6\" >84.1273</td>\n",
       "                        <td id=\"T_5178660a_e37e_11e9_bfdb_2790654fccdcrow0_col7\" class=\"data row0 col7\" >84.368</td>\n",
       "                        <td id=\"T_5178660a_e37e_11e9_bfdb_2790654fccdcrow0_col8\" class=\"data row0 col8\" >83.3718</td>\n",
       "                        <td id=\"T_5178660a_e37e_11e9_bfdb_2790654fccdcrow0_col9\" class=\"data row0 col9\" >83.711</td>\n",
       "                        <td id=\"T_5178660a_e37e_11e9_bfdb_2790654fccdcrow0_col10\" class=\"data row0 col10\" >83.9081</td>\n",
       "                        <td id=\"T_5178660a_e37e_11e9_bfdb_2790654fccdcrow0_col11\" class=\"data row0 col11\" >37.2928</td>\n",
       "            </tr>\n",
       "            <tr>\n",
       "                        <th id=\"T_5178660a_e37e_11e9_bfdb_2790654fccdclevel0_row1\" class=\"row_heading level0 row1\" >490</th>\n",
       "                        <td id=\"T_5178660a_e37e_11e9_bfdb_2790654fccdcrow1_col0\" class=\"data row1 col0\" >10</td>\n",
       "                        <td id=\"T_5178660a_e37e_11e9_bfdb_2790654fccdcrow1_col1\" class=\"data row1 col1\" >8</td>\n",
       "                        <td id=\"T_5178660a_e37e_11e9_bfdb_2790654fccdcrow1_col2\" class=\"data row1 col2\" >0.25</td>\n",
       "                        <td id=\"T_5178660a_e37e_11e9_bfdb_2790654fccdcrow1_col3\" class=\"data row1 col3\" >84.2113</td>\n",
       "                        <td id=\"T_5178660a_e37e_11e9_bfdb_2790654fccdcrow1_col4\" class=\"data row1 col4\" >83.1791</td>\n",
       "                        <td id=\"T_5178660a_e37e_11e9_bfdb_2790654fccdcrow1_col5\" class=\"data row1 col5\" >83.8183</td>\n",
       "                        <td id=\"T_5178660a_e37e_11e9_bfdb_2790654fccdcrow1_col6\" class=\"data row1 col6\" >83.9621</td>\n",
       "                        <td id=\"T_5178660a_e37e_11e9_bfdb_2790654fccdcrow1_col7\" class=\"data row1 col7\" >83.6644</td>\n",
       "                        <td id=\"T_5178660a_e37e_11e9_bfdb_2790654fccdcrow1_col8\" class=\"data row1 col8\" >83.236</td>\n",
       "                        <td id=\"T_5178660a_e37e_11e9_bfdb_2790654fccdcrow1_col9\" class=\"data row1 col9\" >83.4668</td>\n",
       "                        <td id=\"T_5178660a_e37e_11e9_bfdb_2790654fccdcrow1_col10\" class=\"data row1 col10\" >83.9248</td>\n",
       "                        <td id=\"T_5178660a_e37e_11e9_bfdb_2790654fccdcrow1_col11\" class=\"data row1 col11\" >36.4564</td>\n",
       "            </tr>\n",
       "            <tr>\n",
       "                        <th id=\"T_5178660a_e37e_11e9_bfdb_2790654fccdclevel0_row2\" class=\"row_heading level0 row2\" >491</th>\n",
       "                        <td id=\"T_5178660a_e37e_11e9_bfdb_2790654fccdcrow2_col0\" class=\"data row2 col0\" >30</td>\n",
       "                        <td id=\"T_5178660a_e37e_11e9_bfdb_2790654fccdcrow2_col1\" class=\"data row2 col1\" >8</td>\n",
       "                        <td id=\"T_5178660a_e37e_11e9_bfdb_2790654fccdcrow2_col2\" class=\"data row2 col2\" >0.15</td>\n",
       "                        <td id=\"T_5178660a_e37e_11e9_bfdb_2790654fccdcrow2_col3\" class=\"data row2 col3\" >788.713</td>\n",
       "                        <td id=\"T_5178660a_e37e_11e9_bfdb_2790654fccdcrow2_col4\" class=\"data row2 col4\" >789.095</td>\n",
       "                        <td id=\"T_5178660a_e37e_11e9_bfdb_2790654fccdcrow2_col5\" class=\"data row2 col5\" >789.606</td>\n",
       "                        <td id=\"T_5178660a_e37e_11e9_bfdb_2790654fccdcrow2_col6\" class=\"data row2 col6\" >789.724</td>\n",
       "                        <td id=\"T_5178660a_e37e_11e9_bfdb_2790654fccdcrow2_col7\" class=\"data row2 col7\" >790.185</td>\n",
       "                        <td id=\"T_5178660a_e37e_11e9_bfdb_2790654fccdcrow2_col8\" class=\"data row2 col8\" >786.659</td>\n",
       "                        <td id=\"T_5178660a_e37e_11e9_bfdb_2790654fccdcrow2_col9\" class=\"data row2 col9\" >787.478</td>\n",
       "                        <td id=\"T_5178660a_e37e_11e9_bfdb_2790654fccdcrow2_col10\" class=\"data row2 col10\" >788.703</td>\n",
       "                        <td id=\"T_5178660a_e37e_11e9_bfdb_2790654fccdcrow2_col11\" class=\"data row2 col11\" >367.807</td>\n",
       "            </tr>\n",
       "            <tr>\n",
       "                        <th id=\"T_5178660a_e37e_11e9_bfdb_2790654fccdclevel0_row3\" class=\"row_heading level0 row3\" >496</th>\n",
       "                        <td id=\"T_5178660a_e37e_11e9_bfdb_2790654fccdcrow3_col0\" class=\"data row3 col0\" >30</td>\n",
       "                        <td id=\"T_5178660a_e37e_11e9_bfdb_2790654fccdcrow3_col1\" class=\"data row3 col1\" >8</td>\n",
       "                        <td id=\"T_5178660a_e37e_11e9_bfdb_2790654fccdcrow3_col2\" class=\"data row3 col2\" >0.25</td>\n",
       "                        <td id=\"T_5178660a_e37e_11e9_bfdb_2790654fccdcrow3_col3\" class=\"data row3 col3\" >789.402</td>\n",
       "                        <td id=\"T_5178660a_e37e_11e9_bfdb_2790654fccdcrow3_col4\" class=\"data row3 col4\" >790.303</td>\n",
       "                        <td id=\"T_5178660a_e37e_11e9_bfdb_2790654fccdcrow3_col5\" class=\"data row3 col5\" >789.589</td>\n",
       "                        <td id=\"T_5178660a_e37e_11e9_bfdb_2790654fccdcrow3_col6\" class=\"data row3 col6\" >789.138</td>\n",
       "                        <td id=\"T_5178660a_e37e_11e9_bfdb_2790654fccdcrow3_col7\" class=\"data row3 col7\" >789.858</td>\n",
       "                        <td id=\"T_5178660a_e37e_11e9_bfdb_2790654fccdcrow3_col8\" class=\"data row3 col8\" >786.333</td>\n",
       "                        <td id=\"T_5178660a_e37e_11e9_bfdb_2790654fccdcrow3_col9\" class=\"data row3 col9\" >787.72</td>\n",
       "                        <td id=\"T_5178660a_e37e_11e9_bfdb_2790654fccdcrow3_col10\" class=\"data row3 col10\" >788.671</td>\n",
       "                        <td id=\"T_5178660a_e37e_11e9_bfdb_2790654fccdcrow3_col11\" class=\"data row3 col11\" >347.415</td>\n",
       "            </tr>\n",
       "    </tbody></table>"
      ],
      "text/plain": [
       "<pandas.io.formats.style.Styler at 0x7fc6f4481ad0>"
      ]
     },
     "execution_count": 16,
     "metadata": {},
     "output_type": "execute_result"
    }
   ],
   "source": [
    "# v2\n",
    "# full, alpha = 0.95\n",
    "f = np.mean\n",
    "df = qs.project(on=[\"config.nsel\", \"config.ncls\", \"config.topic_threshold\",\n",
    "               {\"metrics.ge10\": f},\n",
    "               {\"metrics.ge30\": f},\n",
    "               {\"metrics.ge50\": f},\n",
    "               {\"metrics.ge70\": f},\n",
    "               {\"metrics.ge95\": f},\n",
    "               #{\"metrics.gels\": np.mean},\n",
    "               {\"metrics.gv_min\": np.mean},\n",
    "               {\"metrics.gv_ave\": np.mean},\n",
    "               {\"metrics.gv_max\": np.mean},\n",
    "               #{\"metrics.lsi_min\": np.mean},\n",
    "               #{\"metrics.lsi_ave\": np.mean},\n",
    "               #{\"metrics.lsi_max\": np.mean},\n",
    "               #{\"metrics.lsg\": np.mean},\n",
    "               {\"metrics.rn\": f},\n",
    "              ])\n",
    "h = partial(highlight_max_min, start=3)\n",
    "df.style.apply(h, axis=1)"
   ]
  },
  {
   "cell_type": "code",
   "execution_count": 17,
   "metadata": {},
   "outputs": [
    {
     "name": "stdout",
     "output_type": "stream",
     "text": [
      "\\begin{tabular}{llrrrrrrrrrr}\n",
      "\\toprule\n",
      "{} & Dataset &   P &  ncls &    th &  GEmin &  GEavg &  GEmax &  GVmin &  GVavg &  GVmax &     RN \\\\\n",
      "exp\\_id &         &     &       &       &        &        &        &        &        &        &        \\\\\n",
      "\\midrule\n",
      "489    &    blog &  10 &     8 &  0.15 &  0.997 &  0.999 &    1.0 &  0.988 &  0.992 &  0.995 &  0.442 \\\\\n",
      "490    &    blog &  10 &     8 &  0.25 &  0.988 &  0.995 &    1.0 &  0.988 &  0.991 &  0.997 &  0.433 \\\\\n",
      "491    &    blog &  30 &     8 &  0.15 &  0.998 &  0.999 &    1.0 &  0.996 &  0.997 &  0.998 &  0.465 \\\\\n",
      "496    &    blog &  30 &     8 &  0.25 &  0.999 &  0.999 &    1.0 &  0.995 &  0.997 &  0.998 &  0.440 \\\\\n",
      "\\bottomrule\n",
      "\\end{tabular}\n",
      "\n"
     ]
    }
   ],
   "source": [
    "df = util.aggregate_tbl(df, names=['ge'])\n",
    "df = util.relative_tbl(df, beg=3)\n",
    "df.columns = list(map(lambda x: md[x] if x in md else x, df.columns))\n",
    "df.insert(0, column='Dataset', value=['blog']*len(df))\n",
    "print(df.round(3).to_latex())"
   ]
  }
 ],
 "metadata": {
  "kernelspec": {
   "display_name": "Python 3",
   "language": "python",
   "name": "python3"
  },
  "language_info": {
   "codemirror_mode": {
    "name": "ipython",
    "version": 3
   },
   "file_extension": ".py",
   "mimetype": "text/x-python",
   "name": "python",
   "nbconvert_exporter": "python",
   "pygments_lexer": "ipython3",
   "version": "3.7.4"
  },
  "toc": {
   "base_numbering": 1,
   "nav_menu": {},
   "number_sections": true,
   "sideBar": true,
   "skip_h1_title": false,
   "title_cell": "Table of Contents",
   "title_sidebar": "Contents",
   "toc_cell": false,
   "toc_position": {
    "height": "calc(100% - 180px)",
    "left": "10px",
    "top": "150px",
    "width": "165px"
   },
   "toc_section_display": true,
   "toc_window_display": true
  }
 },
 "nbformat": 4,
 "nbformat_minor": 2
}
